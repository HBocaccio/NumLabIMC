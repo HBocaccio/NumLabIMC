{
  "cells": [
    {
      "cell_type": "markdown",
      "metadata": {
        "id": "view-in-github",
        "colab_type": "text"
      },
      "source": [
        "<a href=\"https://colab.research.google.com/github/HBocaccio/NumLabIMC/blob/main/Colabs/nb08_DFT%2BFFT.ipynb\" target=\"_parent\"><img src=\"https://colab.research.google.com/assets/colab-badge.svg\" alt=\"Open In Colab\"/></a>"
      ]
    },
    {
      "cell_type": "markdown",
      "source": [
        "# **Introducción al modelado continuo** (*a.k.a.* **Ecuaciones de la física matemática**)\n",
        "## Laboratorio numérico 2024\n",
        "\n",
        "Bienvenidos al laboratorio numérico de la materia *Introducción al modelado continuo*, también conocida como *Ecuaciones de la física matemática*. En este, vamos a ver métodos numéricos para resolver distintos tipos de problemas de manera general, y su relación y aplicación a problemas específicos de la materia, de manera tal de complementar los contenidos de la cursada teórico-práctica."
      ],
      "metadata": {
        "id": "tt9aTT1yxdHb"
      },
      "id": "tt9aTT1yxdHb"
    },
    {
      "cell_type": "markdown",
      "source": [
        "# Motivación de este colab\n",
        "<!-- $$\\require{amsmath}$$ -->\n",
        "\n",
        "La **transformada de Fourier**, en el marco de las trasnformaciones integrales de variables continuas usando un kernel de Fourier, es una herramienta con grandes aplicaciones en la resolución de problemas de la física matemática con cierto tipo de condiciones de contorno. Permite resolver problemas complicados o incluso que no tienen solución directa, a partir de transformar el problema, resolver el problema en el espacio transoformado, y anti-transformar para encontrar la solución en el espacio original. En la clase teórica vimos como esto nos permitía obtener las soluciones de ecuaciones diferenciales en derivadas parciales (PDEs) a partir de resolver en el espacio transformado ecuaciones diferenciales ordinarias (ODEs), como las que vimos durante el 1er eje temático. Esto nos permitía resolver problemas de sistemas físicos tradicionales como la ecuación del calor o la ecuación de ondas. Así mismo, también vimos que este tipo de estrategias nos permitía resolver de manera parsimoniosa el oscilador forzado, debido a la naturaleza periódica del problema. Entonces, vimos la potencia de la transformada de Fourier en aplicaciones matemáticas para variables continuas.\n",
        "\n",
        "Ahora, qué pasa cuando tengo una representación discreta de variables, es decir, datos? En este colab vamos a revisar algunos conceptos de la transformada desde la perspectiva numérica, y vamos a explorar la transformada de Fourier en el contexto de aplicación a señales. Vamos a reforzar la interpretación de la transformada de una señal discreta en este marco, y cómo adaptarla. Esto nos va a llevar a definir la **transformada discreta de Fourier (DFT)**, destacando el algoritmo de la **transformada rápida de Fourier (FFT)** como estrategia para poder computarla de manera eficiente y menos costosa.\n",
        "\n",
        "\n",
        "---"
      ],
      "metadata": {
        "id": "TSwm8msY4CZD"
      },
      "id": "TSwm8msY4CZD"
    },
    {
      "cell_type": "code",
      "source": [
        "import numpy as np\n",
        "import matplotlib.pyplot as plt\n",
        "import scipy as sp"
      ],
      "metadata": {
        "id": "sZl0Iue15NH_"
      },
      "id": "sZl0Iue15NH_",
      "execution_count": null,
      "outputs": []
    },
    {
      "cell_type": "markdown",
      "source": [
        "---\n",
        "# Generalización de series de Fourier para funciones periódicas\n",
        "\n",
        "En el colab pasado vimos la representación en series de Fourier para funciones periódicas con período $2 \\pi$. Estas expansiones se pueden extender a funciones periódicas con período $2L$ con la siguiente expresión:\n",
        "\n",
        "$$\n",
        "f(x) = \\frac{a_0}{2} + \\sum_{n=1}^{\\infty} a_n cos \\left( \\frac{n \\pi x}{L} \\right) + \\sum_{n=1}^{\\infty} b_n sin \\left( \\frac{n \\pi x}{L} \\right)\n",
        "$$\n",
        "\n",
        "Donde los coeficientes están relacionados con la función periódica f(x) mediante integrales definidas:\n",
        "\n",
        "$$\n",
        "a_n = \\frac{1}{L} \\int_{-L}^{L} f(x) cos \\left( \\frac{n \\pi x}{L} \\right) dx \\\\\n",
        "b_n = \\frac{1}{L} \\int_{-L}^{L} f(x) sin \\left( \\frac{n \\pi x}{L} \\right) dx\n",
        "$$\n",
        "\n",
        "El cálculo de los coeficientes se resuelve de manera análoga que para el caso en el que el período es $2 \\pi$.\n",
        "\n",
        "Noten que para generalizar a funciones periódicas con período $2L$ tuvimos que adaptar la periodicidad de las funciones ortogonales de la base de senos y cosenos para que tengan período $2L$ (cambiando la expresión de su argumento), y también tuvimos que cambiar el factor multiplicativo por un tema de normalización de la base.\n",
        "\n",
        "Las series de Fourier, de manera más general, permiten analizar funciones periódicas de cualquier período, descomponiéndolas en una suma infinita de funciones armónicas. Los coeficientes expresan la cantidad de cada una de las señales armónicas puras que se deben sumar para obtener la señal analizada.\n"
      ],
      "metadata": {
        "id": "Rpwc5x_i4Kiq"
      },
      "id": "Rpwc5x_i4Kiq"
    },
    {
      "cell_type": "markdown",
      "source": [
        "## Ejercicio 1\n",
        "\n",
        "Sea la función $f_1(x)=sin(\\pi x)+2sin(3\\pi x)$\n",
        "\n",
        "1.1. Qué período tiene? Haga el gráfico para varios períodos.\n",
        "\n",
        "1.2. Calcule los coeficientes del desarrollo de Fourier hasta el orden 8. Haga el gráfico de los coeficientes en función de la frecuencia discreta (o del n, por simplicidad). Es lo que esperaba encontrar? Haga también el gráfico de $\\sqrt{a_n^2+b_n^2}$.\n",
        "\n",
        "1.3. Repita el análisis para $f_2(x)=sin(4\\pi x)+2sin(2\\pi x)$.\n"
      ],
      "metadata": {
        "id": "r15-43Xu5jsM"
      },
      "id": "r15-43Xu5jsM"
    },
    {
      "cell_type": "code",
      "source": [
        "# # # COMPLETAR"
      ],
      "metadata": {
        "id": "zqBwx5voZVgu"
      },
      "id": "zqBwx5voZVgu",
      "execution_count": null,
      "outputs": []
    },
    {
      "cell_type": "markdown",
      "source": [
        "---\n",
        "# Generalización de series de Fourier para funciones no periódicas\n",
        "\n",
        "De la misma manera que para funciones periódicas, se puede plantear la expansión para funciones no periódicas pero definidas en un intervalo $[-L, L]$, aprovechando las condiciones de contorno del intervalo. Esto se hace extendiendo la función como si se repitiese fuera del intervalo, de manera tal que pueda considerarse a la función como periódica con periodo $2L$. La expansión de Fourier para funciones no periódicas en $[-L, L]$ permite representar cualquier función en ese intervalo mediante una suma infinita de senos y cosenos. Aunque no es una representación extrictamente periódica, su construcción en el intervalo finito implica que, fuera de $[-L, L]$, la función se \"extiende\" periódicamente. La expansión y los coeficientes se pueden calcular por lo tanto de manera análoga a lo visto para funciones periódicas.\n",
        "\n",
        "$$\n",
        "f(x) = \\frac{a_0}{2} + \\sum_{n=1}^{\\infty} a_n cos \\left( \\frac{n \\pi x}{L} \\right) + \\sum_{n=1}^{\\infty} b_n sin \\left( \\frac{n \\pi x}{L} \\right) \\\\\n",
        "a_n = \\frac{1}{L} \\int_{-L}^{L} f(x) cos \\left( \\frac{n \\pi x}{L} \\right) dx \\\\\n",
        "b_n = \\frac{1}{L} \\int_{-L}^{L} f(x) sin \\left( \\frac{n \\pi x}{L} \\right) dx\n",
        "$$\n",
        "\n",
        "Los coeficientes representan las amplitudes de las frecuencias $\\frac{n \\pi}{L}$ que componen la señal."
      ],
      "metadata": {
        "id": "vXpSYSIMRYts"
      },
      "id": "vXpSYSIMRYts"
    },
    {
      "cell_type": "markdown",
      "source": [
        "---\n",
        "## Paridad de las funciones\n",
        "\n",
        "La paridad de funciones se refiere a la simetría de una función con respecto al origen o al eje vertical. Una función $f(x)$ es **par** si cumple $f(x) = f(-x)$ para todo $x$, lo que significa que su gráfica es simétrica respecto al eje $y$. En cambio, es **impar** si satisface $f(x) = -f(-x)$, lo que implica que su gráfica es simétrica respecto al origen. Esto hace que las integrales en los intervalos $[-L, 0]$ y $[0, L]$ tengan una relación entre sí. Usando la regla de trapezio compuesta, calculemos las integrales en estos sub-intervalos para varios valores de L distintos, para una función par como $f(x)=x^{2}$, definida en el intervalo $[-L, L]$, y veamos cómo es la relación entre integrales."
      ],
      "metadata": {
        "id": "LTZXEVyWRWAG"
      },
      "id": "LTZXEVyWRWAG"
    },
    {
      "cell_type": "code",
      "source": [
        "def f(x):\n",
        "    return x**2\n",
        "\n",
        "I1 = []\n",
        "I2 = []\n",
        "Ls = np.arange(9)+1\n",
        "for L in Ls:\n",
        "    x_mitad1 = np.linspace(-L, 0, 1000)\n",
        "    I_mitad1 = np.trapz(f(x_mitad1), x_mitad1)\n",
        "    x_mitad2 = np.linspace(0, L, 1000)\n",
        "    I_mitad2 = np.trapz(f(x_mitad2), x_mitad2)\n",
        "    I1.append(I_mitad1)\n",
        "    I2.append(I_mitad2)\n",
        "\n",
        "plt.figure(figsize=(8, 4))\n",
        "plt.subplot(1, 2, 1)\n",
        "plt.plot(I1, I1, 'r-')\n",
        "plt.plot(I1, I2, 'ko')\n",
        "plt.ylabel('I2', fontsize=14)\n",
        "plt.xlabel('I1', fontsize=14)\n",
        "plt.subplot(1, 2, 2)\n",
        "plt.plot(Ls, np.array(I2)/np.array(I1))\n",
        "plt.ylabel('I2/I1', fontsize=14)\n",
        "plt.xlabel('L', fontsize=14)\n",
        "plt.tight_layout()\n",
        "plt.show()"
      ],
      "metadata": {
        "id": "U0GlrpknRTie"
      },
      "id": "U0GlrpknRTie",
      "execution_count": null,
      "outputs": []
    },
    {
      "cell_type": "markdown",
      "source": [
        "Veamos qué pasa ahora para una función impar como $f(x)=x^{3}$, definida en el intervalo $[-L, L]$."
      ],
      "metadata": {
        "id": "kjJbIPCNWPrU"
      },
      "id": "kjJbIPCNWPrU"
    },
    {
      "cell_type": "code",
      "source": [
        "def f(x):\n",
        "    return x**3\n",
        "\n",
        "I1 = []\n",
        "I2 = []\n",
        "Ls = np.arange(9)+1\n",
        "for L in Ls:\n",
        "    x_mitad1 = np.linspace(-L, 0, 1000)\n",
        "    I_mitad1 = np.trapz(f(x_mitad1), x_mitad1)\n",
        "    x_mitad2 = np.linspace(0, L, 1000)\n",
        "    I_mitad2 = np.trapz(f(x_mitad2), x_mitad2)\n",
        "    I1.append(I_mitad1)\n",
        "    I2.append(I_mitad2)\n",
        "\n",
        "plt.figure(figsize=(8, 4))\n",
        "plt.subplot(1, 2, 1)\n",
        "plt.plot(I1, -np.array(I1), 'r-')\n",
        "plt.plot(I1, I2, 'ko')\n",
        "plt.ylabel('I2', fontsize=14)\n",
        "plt.xlabel('I1', fontsize=14)\n",
        "plt.subplot(1, 2, 2)\n",
        "plt.plot(Ls, np.array(I2)/np.array(I1))\n",
        "plt.ylabel('I2/I1', fontsize=14)\n",
        "plt.xlabel('L', fontsize=14)\n",
        "plt.tight_layout()\n",
        "plt.show()"
      ],
      "metadata": {
        "id": "DlJPZ8q9V8ig"
      },
      "id": "DlJPZ8q9V8ig",
      "execution_count": null,
      "outputs": []
    },
    {
      "cell_type": "markdown",
      "source": [
        "### Ejercicio 2\n",
        "\n",
        "2.1. Como resultado de esta relación, se muestra que las integrales de funciones impares en el intervalo $[-L,L]$ son 0, ya que las integrales entre $[-L, 0]$ y $[0, L]$ se cancelan entre sí. Compruébelo con la función $f(x)=x^{3}$.\n",
        "\n",
        "2.2. Usando la regla del trapecio, calcule las integrales de $cos \\left( \\frac{n \\pi x}{L} \\right)$ y $sin \\left( \\frac{n \\pi x}{L} \\right)$ en el intervalo $[-L, L]$. Espera que alguna sea 0? Piense la respuesta en base a la paridad de las funciones trigonométricas.\n",
        "\n",
        "2.3. Calcule ahora tanto para $f(x)=x^{2}$ como para $f(x)=x^{3}$, las integrales\n",
        "\n",
        "$$\n",
        "\\int_{-L}^{L} f(x) cos \\left( \\frac{n \\pi x}{L} \\right) dx \\\\\n",
        "\\int_{-L}^{L} f(x) sin \\left( \\frac{n \\pi x}{L} \\right) dx\n",
        "$$\n",
        "\n",
        "Qué resultados espera encontrar? Piense en la paridad de una función $h(x)=f(x).g(x)$ para los casos de distinta paridad de las funciones $f(x)$ y $g(x)$. Para esto piense en los distintos casos cómo quedaría $h(-x)$. Explica esto los resultados obtenidos?\n",
        "\n",
        "2.4. Qué implicancias tiene esta propiedad en el cálculo de coeficientes del desarrollo de Fourier? Calcule los coeficientes para $f(x)=x^{2}$ y para $f(x)=x^{3}$. Grafique los coeficientes encontrados en función del $n$."
      ],
      "metadata": {
        "id": "PryboPL5Vs8B"
      },
      "id": "PryboPL5Vs8B"
    },
    {
      "cell_type": "code",
      "source": [
        "# # # COMPLETAR"
      ],
      "metadata": {
        "id": "VLlTceziHCeN"
      },
      "id": "VLlTceziHCeN",
      "execution_count": null,
      "outputs": []
    },
    {
      "cell_type": "markdown",
      "id": "ee5b1248",
      "metadata": {
        "id": "ee5b1248"
      },
      "source": [
        "---\n",
        "# Transformada de Fourier\n",
        "\n",
        "La **transformada de Fourier** y la expansión de Fourier generalizada están directamente relacionadas. De hecho, la transformada de Fourier es una extensión de la serie de Fourier para funciones no periódicas y no acotadas. Esta extensión surge al considerar el límite de la serie de Fourier de una función cuando el intervalo de periodicidad se hace infinito.\n",
        "\n",
        "Para entender esta relación, comencemos desde la expansión de Fourier en un intervalo finito $[-L, L]$ para una función $f(x)$:\n",
        "\n",
        "$$\n",
        "f(x) = \\sum_{n=-\\infty}^{\\infty} c_n e^{i \\frac{n \\pi x}{L}}\n",
        "$$\n",
        "\n",
        "donde los coeficientes de Fourier son:\n",
        "\n",
        "$$\n",
        "c_n = \\frac{1}{2L} \\int_{-L}^{L} f(x) e^{-i \\frac{n \\pi x}{L}} \\, dx\n",
        "$$\n",
        "\n",
        "En esta expresión, las frecuencias $\\frac{n \\pi}{L}$ son discretas debido al intervalo acotado $[-L, L]$. A medida que $L \\to \\infty$, el intervalo de definición se extiende a todo el eje real, el período tiende a infinito, y la separación entre las frecuencias $\\frac{\\pi}{L}$ se vuelve infinitesimal, convirtiendo las frecuencias discretas en un continuo de frecuencias $\\xi$.\n",
        "\n",
        "Al tomar el límite $L \\to \\infty$, la serie de Fourier se transforma en una integral en lugar de una suma, y los coeficientes discretos $c_n$ se convierten en la función continua $\\hat{f}(\\xi)$ en el dominio de frecuencias, donde:\n",
        "\n",
        "$$\n",
        "\\hat{f}(\\xi) = \\lim_{L \\to \\infty} \\frac{1}{2L} \\int_{-L}^{L} f(x) e^{-i 2 \\pi \\xi x} \\, dx\n",
        "$$\n",
        "\n",
        "Esto da lugar a la transformada de Fourier:\n",
        "\n",
        "$$\n",
        "\\hat{f}(\\xi) = \\int_{-\\infty}^{\\infty} f(x) e^{-i 2 \\pi \\xi x} \\, dx\n",
        "$$\n",
        "\n",
        "La transformada de Fourier puede verse como una generalización continua de la expansión de Fourier. Mientras que una serie de Fourier descompone una función periódica en frecuencias discretas, la transformada de Fourier descompone una función no periódica (o periódica en el infinito) en un continuo de frecuencias.\n",
        "\n",
        "La transformada de Fourier permite analizar funciones en todo el eje real, algo que la serie de Fourier no puede hacer sin imponer periodicidad artificial. Es, en otras palabras, el límite de la expansión de Fourier para funciones no acotadas en un intervalo finito, lo que permite estudiar frecuencias continuas en lugar de discretas.\n",
        "\n",
        "De esta manera, si consideramos el período $T=2L$, podemos ver los coeficientes $c_n$ de la serie de Fourier como muestras discretas de la transformada de Fourier continua en un conjunto específico de frecuencias $\\xi_n = \\frac{n}{T}$:\n",
        "\n",
        "$$\n",
        "c_n = \\frac{1}{T} \\hat{f}\\left(\\frac{n}{T}\\right)\n",
        "$$\n",
        "\n",
        "A medida que $T \\to \\infty$, los coeficientes $c_n$ se convierten en puntos de la transformada continua, generando un espectro continuo que se vuelve denso en el espacio de frecuencias.\n"
      ]
    },
    {
      "cell_type": "markdown",
      "source": [
        "---\n",
        "# Transformada de Fourier discreta (DFT)\n",
        "\n",
        "La **transformada de Fourier discreta (DFT)** puede interpretarse como una versión discretizada de la transformada de Fourier (con tiempo y frecuencias discretas), que surge al muestrear tanto en el tiempo como en la frecuencia. Acá es importante diferenciarla de la serie de Fourier para desambiguar y evitar confusiones. La serie de Fourier representa una función en términos de frecuencias discretas, pero continuas en el dominio del tiempo. Por el contrario, la DFT aplica a un conjunto finito de datos (muestras discretas en el tiempo), no a una función continua.\n",
        "\n",
        "Dada una secuencia discreta de datos $x = [x_0, x_1, \\ldots, x_{N-1}]$ de longitud $N$, la DFT de esta secuencia produce otra secuencia de $N$ elementos $X = [X_0, X_1, \\ldots, X_{N-1}]$, donde cada $X_k$ representa una frecuencia específica de la señal. La DFT se define como:\n",
        "\n",
        "$$\n",
        "X_k = \\sum_{n=0}^{N-1} x_n e^{-i \\frac{2 \\pi k n}{N}}\n",
        "$$\n",
        "\n",
        "En notación matricial, esto se puede escribir como:\n",
        "\n",
        "$$\n",
        "X = W \\cdot x\n",
        "$$\n",
        "\n",
        "donde $W$ es una **matriz de DFT** de tamaño $N \\times N$, cuyas entradas están dadas por:\n",
        "\n",
        "$$\n",
        "W_{kn} = e^{-i \\frac{2 \\pi k n}{N}}\n",
        "$$\n",
        "\n",
        "Si definimos $\\omega = e^{-i \\frac{2 \\pi}{N}}$, entonces $W_{kn} = \\omega^{kn}$, y la forma explícita de la matriz $W$ es:\n",
        "\n",
        "$$\n",
        "W = \\begin{bmatrix}\n",
        "1 & 1 & 1 & \\dots & 1 \\\\\n",
        "1 & \\omega & \\omega^2 & \\dots & \\omega^{N-1} \\\\\n",
        "1 & \\omega^2 & \\omega^4 & \\dots & \\omega^{2(N-1)} \\\\\n",
        "\\vdots & \\vdots & \\vdots & \\ddots & \\vdots \\\\\n",
        "1 & \\omega^{N-1} & \\omega^{2(N-1)} & \\dots & \\omega^{(N-1)(N-1)}\n",
        "\\end{bmatrix}\n",
        "$$\n"
      ],
      "metadata": {
        "id": "9DnOW9iPw49z"
      },
      "id": "9DnOW9iPw49z"
    },
    {
      "cell_type": "markdown",
      "source": [
        "## Ejercicio 3\n",
        "\n",
        "3.1. Escriba una función de Python que reciba como entrada un array y haga el cálculo de la DFT usando el comando `for`.\n",
        "\n",
        "3.2. Escriba una función de Python que reciba como entrada un array y haga el cálculo de la DFT usando álgebra lineal de matrices.\n",
        "\n",
        "3.3. Pruebe ambas funciones dándole como entrada vectores aleatorios de 128, 512, y 1024 de largo. Para cada uno de los casos, calcule y compare los tiempos de cómputo.\n"
      ],
      "metadata": {
        "id": "hhgDbli4aHDK"
      },
      "id": "hhgDbli4aHDK"
    },
    {
      "cell_type": "code",
      "source": [
        "# # # COMPLETAR"
      ],
      "metadata": {
        "id": "mJyKoffceCdR"
      },
      "id": "mJyKoffceCdR",
      "execution_count": null,
      "outputs": []
    },
    {
      "cell_type": "markdown",
      "source": [
        "## Ejercicio 4\n",
        "\n",
        "Encuentre la DFT de los siguientes vectores:\n",
        "a) [0,1,0,−1]; b) [1,1,1,1]; c) [0,−1,0,1]; d) [0,1,0,−1,0,1,0,−1]"
      ],
      "metadata": {
        "id": "Yyz-nJ2iMUAF"
      },
      "id": "Yyz-nJ2iMUAF"
    },
    {
      "cell_type": "code",
      "source": [
        "# # # COMPLETAR"
      ],
      "metadata": {
        "id": "Il-98R5cMTae"
      },
      "id": "Il-98R5cMTae",
      "execution_count": null,
      "outputs": []
    },
    {
      "cell_type": "markdown",
      "source": [
        "---\n",
        "# Transformada Rápida de Fourier (FFT)\n",
        "\n",
        "La FFT es una implementación eficiente de la DFT, que reduce significativamente el tiempo de cálculo. Uno de los algoritmos más utilizados para la FFT es el algoritmo de Cooley-Tukey propuesto en 1965. La DFT directa requiere $O(N^2)$ operaciones, mientras que la FFT reduce esto a $O(N \\log N)$, haciéndola mucho más eficiente para señales largas. De hecho, cuando el N es muy grande, escala “casi linealmente” con el tamaño de N.\n",
        "\n",
        "El algoritmo consiste básicamente en la aplicación de la estrategia *divide & conquer*, que divide la secuencia original en secuencias cada vez más chicas y las transforma recursivamente. Esto lo hace separando la señal en las componentes pares e impares, y calculando la DFT de cada mitad. Esto se repite recursivamente y, finalmente, se combinan los resultados para obtener la transformada completa.\n",
        "\n",
        "Si tengo la transoformada X de un vector x, de tamaño N, puedo reescribirlo como:\n",
        "\n",
        "$$\n",
        "X = W_N . x = \\begin{bmatrix}\n",
        "I_{N/2} & -D_{N/2} \\\\\n",
        "I_{N/2} & -D_{N/2} \\\\\n",
        "\\end{bmatrix} \\begin{bmatrix}\n",
        "W_{N/2} & 0 \\\\\n",
        "0 & W_{N/2} \\\\\n",
        "\\end{bmatrix}\n",
        "\\begin{bmatrix}\n",
        "x_{pares} \\\\\n",
        "x_{impares} \\\\\n",
        "\\end{bmatrix}\n",
        "$$\n",
        "\n",
        "con\n",
        "\n",
        "$$\n",
        "D_N = \\begin{bmatrix}\n",
        "1 & 0 & 0 & \\dots & 0 \\\\\n",
        "0 & \\omega & 0 & \\dots & 0 \\\\\n",
        "0 & 0 & \\omega^2 & \\dots & 0 \\\\\n",
        "\\vdots & \\vdots & \\vdots & \\ddots & \\vdots \\\\\n",
        "0 & 0 & 0 & \\dots & \\omega^{(N-1)}\n",
        "\\end{bmatrix}\n",
        "$$\n",
        "\n",
        "Esto se puede repetir recursivamente, hasta llegar a $W_2$, permitiendo un mecanismo simple de la resolución del problema.\n",
        "\n",
        "De esta manera, el algoritmo se plantea para valores de N que son potencias de 2, tal que se puedan separar de a mitades. Pero incluso si N no es una potencia de 2, se pueden completar los datos con ceros hasta llegar a la potencia de 2 más cercana y usar este algoritmo, que seguirá siendo una estrategia más eficiente que computar la DFT de manera directa.\n",
        "\n",
        "Además de la bibliografía recomendada [Arfken et al 2012; Sauer 2012; Brunton & Kutz 2019], pueden encontrar material complementario en los siguientes links acerca de la [interpretación visual de la transformada](https://www.youtube.com/watch?v=h4PTucW3Rm0); la [historia de la FFT](https://www.youtube.com/watch?v=nmgFG7PUHfo); una [explicación de la FFT](https://www.youtube.com/watch?v=toj_IoCQE-4&list=PLMrJAkhIeNNT_Xh3Oy0Y4LTj0Oxo8GqsC); una [explicación más detallada de la FFT con la estrategia divide and conquer](https://www.youtube.com/watch?v=h7apO7q16V0); una [explicación mucho más detallada](https://www.youtube.com/watch?v=iTMn0Kt18tg) (las últimas 2 son un poco excesivas).\n"
      ],
      "metadata": {
        "id": "nUz2v6LYw69r"
      },
      "id": "nUz2v6LYw69r"
    },
    {
      "cell_type": "markdown",
      "source": [
        "Veamos una forma de escribir el código de la función y comparemos el resultado con el obtenido de la función de Numpy"
      ],
      "metadata": {
        "id": "OH6Kq203QIAB"
      },
      "id": "OH6Kq203QIAB"
    },
    {
      "cell_type": "code",
      "source": [
        "def fft_cod(x):\n",
        "    N = len(x)\n",
        "    if N <= 1:\n",
        "        return x\n",
        "    else:\n",
        "        X_even = fft_cod(x[0::2])\n",
        "        X_odd = fft_cod(x[1::2])\n",
        "        factor = np.exp(-2j * np.pi * np.arange(N) / N)\n",
        "        return np.concatenate([X_even + factor[:N // 2] * X_odd,\n",
        "                               X_even - factor[:N // 2] * X_odd])"
      ],
      "metadata": {
        "id": "LJVBUMHh-tZY"
      },
      "id": "LJVBUMHh-tZY",
      "execution_count": null,
      "outputs": []
    },
    {
      "cell_type": "code",
      "execution_count": null,
      "id": "b4d720df",
      "metadata": {
        "id": "b4d720df"
      },
      "outputs": [],
      "source": [
        "x = np.random.random(1024)\n",
        "\n",
        "# Verificación de la implementación\n",
        "X_fft = fft_cod(x)\n",
        "X = np.fft.fft(x)\n",
        "print(\"FFT calculada recursivamente:\", X_fft)\n",
        "print(\"FFT con numpy:\", X)  # Comparación con la función de NumPy\n"
      ]
    },
    {
      "cell_type": "markdown",
      "source": [
        "## Ejercicio 5\n",
        "\n",
        "Genere una onda cuadrada de cierta periodicidad, y encuentre el espectro discreto de Fourier usando `np.fft.fft`. La conversión de las frecuencias no es tan trivial, por lo que busque en la documentación cómo hacerlo. Discuta.\n"
      ],
      "metadata": {
        "id": "SJ8WJoiiSYWk"
      },
      "id": "SJ8WJoiiSYWk"
    },
    {
      "cell_type": "code",
      "source": [
        "# # # COMPLETAR"
      ],
      "metadata": {
        "id": "6VXI4xkxSXAi"
      },
      "id": "6VXI4xkxSXAi",
      "execution_count": null,
      "outputs": []
    },
    {
      "cell_type": "markdown",
      "source": [
        "---\n",
        "## Complejidad del método\n",
        "\n",
        "La DFT directa requiere $O(N^2)$ operaciones, mientras que la FFT reduce esto a $O(N \\log N)$."
      ],
      "metadata": {
        "id": "C6NNseCLx2Lf"
      },
      "id": "C6NNseCLx2Lf"
    },
    {
      "cell_type": "markdown",
      "source": [
        "### Ejercicio 6\n",
        "\n",
        "Piense una manera de mostrar diferencias en el costo computacional de la DFT y la FFT. Pruebela. Una idea podría ser evaluar ambos métodos para distintos tamaños de vectorer de entrada generados de manera random."
      ],
      "metadata": {
        "id": "MmeSLpjQQnvZ"
      },
      "id": "MmeSLpjQQnvZ"
    },
    {
      "cell_type": "code",
      "source": [
        "# # # COMPLETAR"
      ],
      "metadata": {
        "id": "Wvqx5GpfQ990"
      },
      "id": "Wvqx5GpfQ990",
      "execution_count": null,
      "outputs": []
    },
    {
      "cell_type": "markdown",
      "source": [
        "# Aplicaciones matemáticas al cálculo de la derivada"
      ],
      "metadata": {
        "id": "62v3kWQ7dHXI"
      },
      "id": "62v3kWQ7dHXI"
    },
    {
      "cell_type": "markdown",
      "source": [
        "Una aplicación matemática de la DFT es calcular la derivada de una función periódica en el dominio de la frecuencia. Por ejemplo, consideremos una función cuadrática $f(x)=x^{2}$ en un intervalo $[0, 2 \\pi]$, evaluada en puntos equiespaciados. La derivada de esta función puede calcularse en el dominio de la frecuencia multiplicando cada coeficiente de frecuencia por $i.k$.\n",
        "\n",
        "Esto se debe a que se puede plantear el cálculo de derivadas de funciones utilizando la propiedad:\n",
        "$$\n",
        "\\hat{f'}(\\xi) = 2\\pi i \\xi \\hat{f}(\\xi)\n",
        "$$\n",
        "\n",
        "Para ello debemos tener en cuenta varias cosas:\n",
        "- En el caso discreto trabajamos sobre un intervalo acotado (de longitud $L$ que tomaremos como el período de la función).\n",
        "- La variable $\\xi$ también es discreta y debemos tomar en cuenta su rango.\n",
        "\n",
        "La fórmula, por lo tanto se transforma en:\n",
        "$$\n",
        "\\mathcal{F}(f')[k] = \\frac{2\\pi}{L}i k \\mathcal{F}(f)[k],\n",
        "$$\n",
        "\n",
        "donde $\\mathcal{F}$ es la transformada discreta y $k=-\\frac{N}{2},\\dots,\\frac{N}{2}-1$.\n"
      ],
      "metadata": {
        "id": "_eB9QmEacjQW"
      },
      "id": "_eB9QmEacjQW"
    },
    {
      "cell_type": "code",
      "source": [
        "# Crear una señal periódica\n",
        "L = 2 * np.pi  # Longitud del intervalo\n",
        "N = 128  # Número de puntos\n",
        "x = np.linspace(0, L, N, endpoint=False)\n",
        "f = x**2  # Función cuadrática\n",
        "\n",
        "# FFT de la función\n",
        "F = np.fft.fft(f)\n",
        "\n",
        "# Derivada en el dominio de la frecuencia\n",
        "k = np.fft.fftfreq(N, L / N) * 2 * np.pi  # Frecuencias\n",
        "F_deriv = 1j * k * F  # Derivada en el dominio de la frecuencia\n",
        "\n",
        "# Transformada inversa para obtener la derivada en el dominio del tiempo\n",
        "f_deriv = np.fft.ifft(F_deriv)\n",
        "\n",
        "# Visualización de los resultados\n",
        "import matplotlib.pyplot as plt\n",
        "\n",
        "plt.plot(x, 2 * x, label=\"Derivada teórica: 2x\")\n",
        "plt.plot(x, f_deriv.real, \"--\", label=\"Derivada calculada con FFT\")\n",
        "plt.legend()\n",
        "plt.show()\n"
      ],
      "metadata": {
        "id": "0dnkHUl0TicN"
      },
      "id": "0dnkHUl0TicN",
      "execution_count": null,
      "outputs": []
    },
    {
      "cell_type": "markdown",
      "source": [
        "Al observar el gráfico, se nota que la derivada calculada usando la FFT coincide con la derivada teórica de $f(x)=x^{2}$, que es $f'(x)=2x$. Esta aplicación demuestra cómo la DFT y FFT pueden ser útiles en la resolución de problemas matemáticos, además de su uso en el análisis de señales."
      ],
      "metadata": {
        "id": "y7ZPQ5A5Tpw4"
      },
      "id": "y7ZPQ5A5Tpw4"
    },
    {
      "cell_type": "markdown",
      "source": [
        "## Ejercicio 7\n",
        "\n",
        "Para un $N$ que sea potencia de 2, calcular las derivadas de las siguientes funciones.\n",
        "- $f(x) = sin(x)$, en $[0,2\\pi]$\n",
        "- $f(x) = x$, en $[0,1]$\n",
        "\n",
        "Para ello, definir una grilla de algún intervalo adecuado, evaluar la función, aplicarle la función `fft` de Numpy, multiplicar y aplicar la transformada inversa (también con Numpy, buscar documentación). A la hora de multiplicar, tener en cuenta que los coeficientes no necesariamente se encuentran en el orden esperado."
      ],
      "metadata": {
        "id": "vEqQXNemTN6F"
      },
      "id": "vEqQXNemTN6F"
    },
    {
      "cell_type": "code",
      "source": [
        "# # # COMPLETAR"
      ],
      "metadata": {
        "id": "Hr1k8YQFTNg3"
      },
      "id": "Hr1k8YQFTNg3",
      "execution_count": null,
      "outputs": []
    },
    {
      "cell_type": "markdown",
      "source": [
        "# Aliasing\n",
        "\n",
        "El aliasing es un fenómeno que ocurre cuando una señal continua se muestrea a una tasa insuficiente, resultando en la superposición de frecuencias y la pérdida de información. Según el [teorema de muestreo de Nyquist-Shannon](https://es.wikipedia.org/wiki/Teorema_de_muestreo_de_Nyquist-Shannon), para evitar aliasing, la frecuencia de muestreo debe ser al menos el doble de la frecuencia máxima presente en la señal.\n",
        "\n",
        "Si una señal tiene una frecuencia máxima de $f_{max}$, la frecuencia de muestreo $f_s$ debe cumplir:\n",
        "\n",
        "$$\n",
        "f_s \\geq 2 f_{max}\n",
        "$$\n",
        "\n",
        "Si esto no se cumple, las frecuencias altas se \"aliasan\" y aparecen como frecuencias más bajas en el dominio muestreado."
      ],
      "metadata": {
        "id": "4JxlW7FcBxyV"
      },
      "id": "4JxlW7FcBxyV"
    },
    {
      "cell_type": "markdown",
      "source": [
        "## Ejercicio 8\n",
        "\n",
        "Considerar una grilla del intervalo $[0,1]$, de paso $\\frac{1}{8}$.\n",
        "- Hacer un scatter plot de los valores de las funciones $f_1(x) = \\sin(2\\pi x)$ y $f_2(x) = \\sin(18\\pi x)$ sobre la\tgrilla. ¿Qué se observa?\n",
        "- Sobre el scatter plot anterior graficar, usando una grilla más fina, ambas funciones.\n",
        "- Supongamos que utilizamos como frecuencia de sampleo $\\omega_s=8$ y queremos samplear señales con frecuencias $\\omega_1=1$ y $\\omega_2=9$. ¿Qué nos dicen los gráficos anteriores sobre esto? ¿Qué ocurriría si quisiéramos samplear señales con frecuencias $\\omega_1=3$ y $\\omega_2=19$? ¿Y frecuencias $\\omega_1=5$ y $\\omega_2=-3$?"
      ],
      "metadata": {
        "id": "qekzBKrYB1Yu"
      },
      "id": "qekzBKrYB1Yu"
    },
    {
      "cell_type": "code",
      "source": [
        "# # # COMPLETAR"
      ],
      "metadata": {
        "id": "i38JzczTzg0z"
      },
      "execution_count": null,
      "outputs": [],
      "id": "i38JzczTzg0z"
    }
  ],
  "metadata": {
    "kernelspec": {
      "display_name": "Python 3 (ipykernel)",
      "language": "python",
      "name": "python3"
    },
    "language_info": {
      "codemirror_mode": {
        "name": "ipython",
        "version": 3
      },
      "file_extension": ".py",
      "mimetype": "text/x-python",
      "name": "python",
      "nbconvert_exporter": "python",
      "pygments_lexer": "ipython3",
      "version": "3.10.9"
    },
    "colab": {
      "provenance": [],
      "toc_visible": true,
      "include_colab_link": true
    }
  },
  "nbformat": 4,
  "nbformat_minor": 5
}