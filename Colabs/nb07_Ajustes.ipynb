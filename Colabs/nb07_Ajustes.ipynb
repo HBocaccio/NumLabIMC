{
  "cells": [
    {
      "cell_type": "markdown",
      "metadata": {
        "id": "view-in-github",
        "colab_type": "text"
      },
      "source": [
        "<a href=\"https://colab.research.google.com/github/HBocaccio/NumLabIMC/blob/main/Colabs/nb07_Ajustes.ipynb\" target=\"_parent\"><img src=\"https://colab.research.google.com/assets/colab-badge.svg\" alt=\"Open In Colab\"/></a>"
      ]
    },
    {
      "cell_type": "markdown",
      "source": [
        "> (Última Actualización: 8 de Octubre de 2025)"
      ],
      "metadata": {
        "id": "bi69GsEPvKUt"
      },
      "id": "bi69GsEPvKUt"
    },
    {
      "cell_type": "markdown",
      "source": [
        "# **Introducción al modelado continuo** (*a.k.a.* **Ecuaciones de la física matemática**)\n",
        "## Laboratorio numérico\n",
        "\n",
        "Bienvenidos al laboratorio numérico de la materia *Introducción al modelado continuo*, también conocida como *Ecuaciones de la física matemática*. En este, vamos a ver métodos numéricos para resolver distintos tipos de problemas de manera general, y su relación y aplicación a problemas específicos de la materia, de manera tal de complementar los contenidos de la cursada teórico-práctica."
      ],
      "metadata": {
        "id": "eSw_rXCgupPt"
      },
      "id": "eSw_rXCgupPt"
    },
    {
      "cell_type": "markdown",
      "source": [
        "# Motivación de este colab\n",
        "<!-- $$\\require{amsmath}$$ -->\n",
        "\n",
        "El modelado continuo es la práctica matemática de modelar variables continuas (aquellas que son infinitamente divisibles, en contraste con las variables discretas). Estas variables pueden representar distintos sistemas físicos, donde un sistema es un conjunto de objetos con alguna interacción o interdependencia. Por otro lado, un modelo es una representación conceptual de un objeto o proceso determinado que captura algún conjunto de aspectos de ese objeto o proceso. Es una descripción simplificada e idealizada de la fenomenología del comportamiento de un sistema, por lo general expresada en lenguaje matemático. El modelado consiste entonces en vincular el mundo real con el mundo matemático.\n",
        "\n",
        "* Mundo real\n",
        "  * Sistemas físicos\n",
        "  * Comportamineto observado\n",
        "* Mundo matemático\n",
        "  * Modelos\n",
        "  * Operaciones y reglas\n",
        "\n",
        "Cuando uno modela está interesado en comprender cómo funciona un sistema en particular, qué características provocan cambios en el sistema y cuán sensible es el sistema a ciertos cambios. También está interesado en predecir qué cambios podrían ocurrir y cuándo ocurrirán. Cabe destacar, que los sistemas físicos pueden ser muy complicados, con niveles de complejidad que pueden resultar difíciles de describir matemáticamente. El problema puede ser tan grande que sea imposible capturar toda la información en un solo modelo matemático. Al hacer observaciones sobre el comportamiento del mundo real, normalmente no podremos identificar o considerar todos los factores asociados con el fenómeno. Por lo tanto, haríamos suposiciones simplificadoras que eliminarían algunos de los factores.\n",
        "\n",
        "El objetivo del modelado matemático es producir una aproximación que sea suficiente para describir las partes importantes del sistema. Esto significa que el dominio de aplicabilidad de un modelo puede ser limitado en comparación con la representación matemática conceptualmente perfecta de dicho sistema. En particular, las observaciones que uno puede hacer sobre un sistema, se representan con datos definidos como variables discretas al ser imposible medir absolutamente todo. Es decir, los datos son una representaión inherentemente subsampleada de las variables del sistema. En contraste, los modelos proponen relaciones entre variables continuas. Esto hace que la incapacidad de conocer de manera completa un sistema lleve a que la construcción de conocimiento del mundo real se realice de manera inductiva. No hay que perder la perspectiva de que las conclusiones que obtengamos de este modelo se refieren estrictamente al modelo y no al comportamiento en el mundo real, ya que hemos realizado simplificaciones en el modelo y las observaciones en las que hemos basado nuestro modelo podrían contener errores. No obstante, el uso de modelos en ciertas condiciones puede ser muy informativo del sistema o inclusive ser la base sobre la cual se formulan hipótesis de mecanismos subyacentes que permitan construir teorías lo suficientemente generales.\n",
        "\n",
        "> “How can it be that mathematics, being after all a product of human thought independent of experience, is so admirably adapted to the objects of reality?” - Albert Einstein (1879-1955)\n"
      ],
      "metadata": {
        "id": "TGI4TFeeuy9N"
      },
      "id": "TGI4TFeeuy9N"
    },
    {
      "cell_type": "code",
      "source": [
        "import numpy as np\n",
        "import matplotlib.pyplot as plt\n",
        "import scipy as sp\n",
        "import os\n",
        "import pandas as pd\n",
        "# from mpl_toolkits.mplot3d import axes3d"
      ],
      "metadata": {
        "id": "8Wz1qcHVaukj"
      },
      "id": "8Wz1qcHVaukj",
      "execution_count": null,
      "outputs": []
    },
    {
      "cell_type": "markdown",
      "source": [
        "# Ajuste de datos\n",
        "\n",
        "En modelado data-driven buscamos representar la relación entre variables a partir de datos observados. El ajuste consiste en encontrar una función o modelo que reproduzca, con cierto criterio, el comportamiento de esos datos."
      ],
      "metadata": {
        "id": "6ZmV8K7leHOm"
      },
      "id": "6ZmV8K7leHOm"
    },
    {
      "cell_type": "markdown",
      "source": [
        "# Regresión\n",
        "\n",
        "La regresión busca ajustar un modelo a datos que pueden contener ruido o incertidumbre. El objetivo no es pasar exactamente por todos los puntos, sino capturar la tendencia general o la ley subyacente. Ejemplo: ajuste lineal o polinómico con mínimos cuadrados.\n",
        "\n",
        "**Mínimos cuadrados**\n",
        "\n",
        "Busca los parámetros del modelo que minimizan la suma de los errores cuadráticos entre los datos y las predicciones.\n",
        "Es el método clásico de ajuste en regresión lineal y base de muchos algoritmos más generales.\n",
        "\n",
        "**Máxima verosimilitud**\n",
        "\n",
        "Determina los parámetros que maximizan la probabilidad de observar los datos dados el modelo.\n",
        "Generaliza el enfoque de mínimos cuadrados al considerar la distribución estadística del ruido.\n",
        "\n",
        "**Descenso por el gradiente**\n",
        "\n",
        "Método iterativo para minimizar una función de costo.\n",
        "Actualiza los parámetros en la dirección opuesta al gradiente hasta alcanzar un mínimo.\n",
        "Es la base del entrenamiento en modelos no lineales y redes neuronales."
      ],
      "metadata": {
        "id": "fwd7vj_b2bdT"
      },
      "id": "fwd7vj_b2bdT"
    },
    {
      "cell_type": "markdown",
      "source": [
        "### Ejemplo: datos de población\n",
        "\n",
        "Tomemos el archivo de datos de población mundial (descargado de la página del [Banco Mundial](https://data.worldbank.org/indicator/SP.POP.TOTL?downloadformat=csv)), y la cargamos como un DataFrame.\n",
        "\n"
      ],
      "metadata": {
        "id": "CGBD1SJQBCic"
      },
      "id": "CGBD1SJQBCic"
    },
    {
      "cell_type": "code",
      "source": [
        "import requests\n",
        "import zipfile\n",
        "import io\n",
        "\n",
        "# url_pop = \"https://data.worldbank.org/indicator/SP.POP.TOTL?downloadformat=csv\"\n",
        "url_pop = \"https://api.worldbank.org/v2/country/all/indicator/SP.POP.TOTL?downloadformat=csv\"\n",
        "r = requests.get(url_pop)\n",
        "r.raise_for_status()\n",
        "\n",
        "# El contenido es un ZIP\n",
        "z = zipfile.ZipFile(io.BytesIO(r.content))\n",
        "# Listar archivos dentro\n",
        "# print(z.namelist())\n",
        "\n",
        "# Supongamos que uno de los archivos es “API_SP.POP.TOTL_DS2_en_csv_v2_xxx.csv”\n",
        "# Buscamos el archivo CSV dentro del ZIP:\n",
        "csv_filename = [name for name in z.namelist() if (name.endswith(\".csv\")) and (name.startswith(\"API\"))][0]\n",
        "\n",
        "# Leer el CSV directamente desde el ZIP en un DataFrame\n",
        "df_pop = pd.read_csv(z.open(csv_filename), skiprows=4)  # las 4 primeras filas son metadata\n",
        "df_pop\n"
      ],
      "metadata": {
        "id": "tl8yTmc44lFD"
      },
      "id": "tl8yTmc44lFD",
      "execution_count": null,
      "outputs": []
    },
    {
      "cell_type": "markdown",
      "source": [
        "Vemos que desde la 4ta columna tenemos los años, y que la última columna está de más"
      ],
      "metadata": {
        "id": "A0hdFRQNABMd"
      },
      "id": "A0hdFRQNABMd"
    },
    {
      "cell_type": "code",
      "source": [
        "df_pop.iloc[:,-1]"
      ],
      "metadata": {
        "id": "s-0sSanNAAz1"
      },
      "id": "s-0sSanNAAz1",
      "execution_count": null,
      "outputs": []
    },
    {
      "cell_type": "code",
      "source": [
        "df_pop.drop(df_pop.columns[-1], axis=1, inplace=True)"
      ],
      "metadata": {
        "id": "y_hFmZHL4lBj"
      },
      "id": "y_hFmZHL4lBj",
      "execution_count": null,
      "outputs": []
    },
    {
      "cell_type": "code",
      "source": [
        "df_pop.keys()[4:]"
      ],
      "metadata": {
        "id": "LM2B4DYSArmN"
      },
      "id": "LM2B4DYSArmN",
      "execution_count": null,
      "outputs": []
    },
    {
      "cell_type": "code",
      "source": [
        "# Podemos, por ejemplo, extraer los datos para algún país, pasarlos a un vector y graficarlos:\n",
        "pais = \"Angola\"\n",
        "df_pais = df_pop[df_pop['Country Name'] == pais]\n",
        "pop_pais = df_pais.iloc[0, 4:].values\n",
        "años = np.array(df_pop.keys()[4:].astype('float'))\n",
        "\n",
        "plt.figure(figsize=(5,5))\n",
        "plt.scatter(años, pop_pais, label=pais)\n",
        "plt.xticks(años[::10], rotation=0)\n",
        "plt.xlabel(\"Año\")\n",
        "plt.ylabel(\"Población\")\n",
        "plt.legend()\n",
        "plt.show()"
      ],
      "metadata": {
        "id": "FzvywXGOb4Ze"
      },
      "id": "FzvywXGOb4Ze",
      "execution_count": null,
      "outputs": []
    },
    {
      "cell_type": "markdown",
      "source": [
        "Para algunos ejemplos podemos usar un modelo exponencial. Pero es importante pensar en el rango de validez de este modelo, considerando que la población no puede crecer exponencialmente de manera ilimitada sin toparse con una saturación debido a la finitud de recursos. Pero es una aproximación válida localmente en ciertas circunstancia como por ejemeplo al inicio del crecimiento de uno población, o en casos que empíricamente tienen este comportamiento por factores que exceden el análisis de este ejercicio.\n",
        "\n",
        "Pero bajo ciertos supuestos podemos especular con que podemos ajustar con un modelo $N(t) = a e^{b(t-t_0)}$, donde $a$ es la población inicial (por ejemplo, en el primer año del dataset), y $b$ es la tasa de crecimiento anual (en unidades 1/año). Es importante destacar que de $b$, se puede estimar un *tiempo de duplicación poblacional*, a partir de la expresión $T_d = \\frac{\\ln 2}{b}$, que es una métrica muy útil para comparar el crecimiento entre países o períodos.\n",
        "\n",
        "Para hacer una regresión con un modelo no lineal (o lineal generalizado, con una función de activación no lineal, que es lo mismo), podemos usar el método Levenberg-Marquardt. Este método es básicamente el descenso por el gradiente, pero con unas mejoras computacionales que cuando tengo pocos parámetros mejoran la convergencia. Si tengo muchos parámetros, como con redes neuronales, se usa descenso por el gradiente de manera estándar. En python, podemos usar el método Levenberg–Marquardt con `scipy.optimize.curve_fit` o con el paquete `lmfit`, que es más versátil.\n"
      ],
      "metadata": {
        "id": "T_7pSL0ZdzLF"
      },
      "id": "T_7pSL0ZdzLF"
    },
    {
      "cell_type": "code",
      "source": [
        "!pip install lmfit"
      ],
      "metadata": {
        "id": "NPFVXBuBTwNU"
      },
      "id": "NPFVXBuBTwNU",
      "execution_count": null,
      "outputs": []
    },
    {
      "cell_type": "code",
      "source": [
        "# # # Con lmfit\n",
        "import lmfit\n",
        "\n",
        "# Definir modelo exponencial\n",
        "def exp_model(t, a, b):\n",
        "    return a * np.exp(b * (t - t.min()))\n",
        "\n",
        "# Crear modelo a partir de la función\n",
        "model = lmfit.Model(exp_model)\n",
        "\n",
        "# Parámetros iniciales (opcional, pero ayuda a la convergencia)\n",
        "params = model.make_params(a=1e6, b=0.02)\n",
        "params[\"a\"].min = 0  # forzar positividad\n",
        "\n",
        "# Ajuste\n",
        "result = model.fit(pop_pais, params, t=años)\n",
        "\n",
        "# Mostrar resumen\n",
        "print(result.fit_report())\n",
        "\n",
        "# Parámetros finales\n",
        "a_fit = result.params[\"a\"].value\n",
        "b_fit = result.params[\"b\"].value\n",
        "print(f\"a = {a_fit:.3e},  b = {b_fit:.4f}\")\n",
        "\n",
        "# Predicción y visualización\n",
        "plt.figure(figsize=(6,4))\n",
        "plt.scatter(años, pop_pais, label=\"Datos\", color=\"k\")\n",
        "plt.plot(años, result.best_fit, \"r\", label=\"Ajuste lmfit\")\n",
        "plt.xticks(años[::10])\n",
        "plt.xlabel(\"Año\")\n",
        "plt.ylabel(\"Población\")\n",
        "plt.legend()\n",
        "plt.show()\n"
      ],
      "metadata": {
        "id": "eir9ER1zTp7m"
      },
      "id": "eir9ER1zTp7m",
      "execution_count": null,
      "outputs": []
    },
    {
      "cell_type": "code",
      "source": [
        "# # # con curve_fit de scipy\n",
        "from scipy.optimize import curve_fit\n",
        "\n",
        "# Definir modelo exponencial\n",
        "def exp_model(t, a, b):\n",
        "    return a * np.exp(b * (t - t.min()))\n",
        "\n",
        "# Ajuste\n",
        "popt, _ = curve_fit(exp_model, años, pop_pais, p0=[1e6, 0.02])\n",
        "a, b = popt\n",
        "print(f\"a = {a:.3e}, b = {b:.4f}\")\n",
        "\n",
        "# Graficar\n",
        "plt.figure(figsize=(6,4))\n",
        "plt.scatter(años, pop_pais, label=\"Datos\", color=\"k\")\n",
        "plt.plot(años, exp_model(años, a, b), 'r', label=\"Ajuste exponencial\")\n",
        "plt.xticks(años[::10])\n",
        "plt.xlabel(\"Año\")\n",
        "plt.ylabel(\"Población\")\n",
        "plt.legend()\n",
        "plt.show()\n"
      ],
      "metadata": {
        "id": "VPC5G1IdBLaB"
      },
      "id": "VPC5G1IdBLaB",
      "execution_count": null,
      "outputs": []
    },
    {
      "cell_type": "markdown",
      "source": [
        "**Observación**: También podríamos haber aplicado el logaritmo al modelo para transformarlo a un problema lineal."
      ],
      "metadata": {
        "id": "JTTx3bnHcIrP"
      },
      "id": "JTTx3bnHcIrP"
    },
    {
      "cell_type": "markdown",
      "source": [
        "Algo interesante es que para la parte anterior, definimos explícitamente la forma del modelo, la dependencia funcional. Esto implica que conocemos/proponemos la solución. Pero en muchos sistemas dinámicos, no es fácil estimar una buena solución de manera analítica. Pero eso no es problema, porque lo que podemos hacer es resolver el problema de optimización pero para la solución numérica que se obtendría de integrar la ODE, directamente, sin la necesidad de conocer la expresión explícita de la solución."
      ],
      "metadata": {
        "id": "LBtbnUrzcfON"
      },
      "id": "LBtbnUrzcfON"
    },
    {
      "cell_type": "code",
      "source": [
        "# Definir el sistema dinámico: dP/dt = b * P\n",
        "def dP_dt(t, P, b):\n",
        "    return b * P\n",
        "\n",
        "# Definir el modelo que integra la ODE y devuelve P(t)\n",
        "def exp_ode_model(t, a, b):\n",
        "    # integrar desde t0 hasta tn\n",
        "    sol = sp.integrate.solve_ivp(\n",
        "        dP_dt,\n",
        "        (t.min(), t.max()),\n",
        "        [a],  # condición inicial\n",
        "        t_eval=t,\n",
        "        args=(b,)\n",
        "    )\n",
        "    return sol.y[0]\n",
        "\n",
        "# Crear modelo lmfit\n",
        "model = lmfit.Model(exp_ode_model)\n",
        "\n",
        "# Parámetros iniciales\n",
        "params = model.make_params(a=1e6, b=0.02)\n",
        "params[\"a\"].min = 0\n",
        "params[\"b\"].min = 0\n",
        "\n",
        "# Ajuste\n",
        "result = model.fit(pop_pais, params, t=años)\n",
        "\n",
        "# Reporte\n",
        "print(result.fit_report())\n",
        "\n",
        "# Extraer parámetros ajustados\n",
        "a_fit = result.params[\"a\"].value\n",
        "b_fit = result.params[\"b\"].value\n",
        "print(f\"a = {a_fit:.3e}, b = {b_fit:.4f}\")\n",
        "\n",
        "# Visualización\n",
        "plt.figure(figsize=(6,4))\n",
        "plt.scatter(años, pop_pais, label=\"Datos\", color=\"k\")\n",
        "plt.plot(años, result.best_fit, \"r\", label=\"Ajuste ODE (lmfit)\")\n",
        "plt.xticks(años[::10])\n",
        "plt.xlabel(\"Año\")\n",
        "plt.ylabel(\"Población\")\n",
        "plt.legend()\n",
        "plt.show()\n"
      ],
      "metadata": {
        "id": "fbZzPa2SeBCU"
      },
      "id": "fbZzPa2SeBCU",
      "execution_count": null,
      "outputs": []
    },
    {
      "cell_type": "markdown",
      "source": [
        "# Datos de un video\n",
        "\n",
        "Vamos a estudiar un video de oscilaciones amortiguadas y a extraer las variables. Para esto vamos a pelearnos con\n",
        "pelearnos con trackear objetos en video"
      ],
      "metadata": {
        "id": "mgKFRuHjyw08"
      },
      "id": "mgKFRuHjyw08"
    },
    {
      "cell_type": "markdown",
      "source": [
        "Otras opciones de interés podrían ser:\n",
        "* resorte vertical amortiguado fluido\n",
        "https://www.youtube.com/watch?v=sP1DzhT8Vzo\n",
        "\n",
        "* damped harmonic oscillators (resorte, pendulo, circuito, amortiguadores automovil)\n",
        "https://www.youtube.com/watch?v=ASqqp0a8LqI\n"
      ],
      "metadata": {
        "id": "DtafExEw05-o"
      },
      "id": "DtafExEw05-o"
    },
    {
      "cell_type": "code",
      "source": [
        "# !pip install pytube\n",
        "# # !pip install --upgrade pytube"
      ],
      "metadata": {
        "id": "1DN1YQrSyv0O"
      },
      "id": "1DN1YQrSyv0O",
      "execution_count": null,
      "outputs": []
    },
    {
      "cell_type": "code",
      "source": [
        "# !pip install yt-dlp\n",
        "!pip install yt-dlp ffmpeg-python"
      ],
      "metadata": {
        "id": "S-mj6TN8y231"
      },
      "id": "S-mj6TN8y231",
      "execution_count": null,
      "outputs": []
    },
    {
      "cell_type": "code",
      "source": [
        "!pip install opencv-contrib-python #==4.10.0.84\n",
        "import cv2\n",
        "print(cv2.__version__)"
      ],
      "metadata": {
        "id": "wxdDshK3y-AA"
      },
      "id": "wxdDshK3y-AA",
      "execution_count": null,
      "outputs": []
    },
    {
      "cell_type": "code",
      "source": [
        "from google.colab.patches import cv2_imshow\n",
        "# from pytube import YouTube\n",
        "import yt_dlp\n",
        "# import ffmpeg"
      ],
      "metadata": {
        "id": "1sCPzbQiy21P"
      },
      "id": "1sCPzbQiy21P",
      "execution_count": null,
      "outputs": []
    },
    {
      "cell_type": "markdown",
      "source": [
        "Nos quedamos con un segmento. De 0:23 a 0:45 es oscilador amortiguado"
      ],
      "metadata": {
        "id": "CwCnTFcdoCel"
      },
      "id": "CwCnTFcdoCel"
    },
    {
      "cell_type": "markdown",
      "source": [
        "Descargamos solo el clip de video que nos interesa"
      ],
      "metadata": {
        "id": "lzSms-V5pKuE"
      },
      "id": "lzSms-V5pKuE"
    },
    {
      "cell_type": "code",
      "source": [
        "url = \"https://www.youtube.com/watch?v=99ZE2RGwqSM\"\n",
        "\n",
        "# Definimos el segmento que queremos (en segundos)\n",
        "start_time = 26   # inicio\n",
        "end_time = 45     # fin\n",
        "duration = end_time - start_time\n",
        "\n",
        "ydl_opts = {\n",
        "    'format': 'bestvideo+bestaudio/best',\n",
        "    'outtmpl': 'pendulo_clip.mp4',\n",
        "    'download_sections': [f'*{start_time}-{end_time}'],\n",
        "    'postprocessor_args': [\n",
        "        '-ss', str(start_time),\n",
        "        '-t', str(duration)\n",
        "    ],\n",
        "    'merge_output_format': 'mp4',\n",
        "    'quiet': False\n",
        "}\n",
        "\n",
        "with yt_dlp.YoutubeDL(ydl_opts) as ydl:\n",
        "    ydl.download([url])\n",
        "\n",
        "print(\"Segmento del video descargado correctamente.\")\n"
      ],
      "metadata": {
        "id": "I3UYzi74pJrm"
      },
      "id": "I3UYzi74pJrm",
      "execution_count": null,
      "outputs": []
    },
    {
      "cell_type": "code",
      "source": [
        "from IPython.display import Video\n",
        "Video(\"pendulo_clip.mp4\", embed=True, width=600)"
      ],
      "metadata": {
        "id": "qDp_XptlqkXe"
      },
      "id": "qDp_XptlqkXe",
      "execution_count": null,
      "outputs": []
    },
    {
      "cell_type": "markdown",
      "source": [
        "Ahora vamos a extraer los frames del clip"
      ],
      "metadata": {
        "id": "4DCteCp7oXQV"
      },
      "id": "4DCteCp7oXQV"
    },
    {
      "cell_type": "markdown",
      "source": [
        "Trackeamos el objeto"
      ],
      "metadata": {
        "id": "2PM1F4EJojLl"
      },
      "id": "2PM1F4EJojLl"
    },
    {
      "cell_type": "code",
      "source": [
        "import numpy as np\n",
        "\n",
        "def get_diff_center(diff: np.ndarray) -> tuple:\n",
        "    \"\"\"\n",
        "    Calcula el centro de masa de una imagen usando operaciones vectorizadas de NumPy.\n",
        "    \"\"\"\n",
        "    # Suma total de los pesos (intensidad de los píxeles)\n",
        "    total_mass = diff.sum()\n",
        "\n",
        "    # Si la suma es cero (imagen negra), el centro de masa es indefinido.\n",
        "    # Devolvemos (0, 0) para evitar una división por cero.\n",
        "    if total_mass == 0:Cargando\n",
        "        return 0.0, 0.0\n",
        "\n",
        "    # Se crean los rangos de índices para las filas (i) y columnas (j)\n",
        "    rows = np.arange(diff.shape[0])\n",
        "    cols = np.arange(diff.shape[1])\n",
        "\n",
        "    # Se calcula la suma ponderada de los índices\n",
        "    # Para las filas (coordenada y), necesitamos un vector columna para el broadcasting\n",
        "    sum_i = (diff * rows[:, np.newaxis]).sum()\n",
        "    # Para las columnas (coordenada x), el broadcasting funciona directamente\n",
        "    sum_j = (diff * cols).sum()\n",
        "\n",
        "    # Se divide por la suma total para obtener el centroide\n",
        "    return sum_i / total_mass, sum_j / total_mass\n",
        "\n",
        "\n",
        "cap = cv2.VideoCapture('pendulo_clip.mp4')\n",
        "ret, frame = cap.read()\n",
        "if not ret:\n",
        "    raise RuntimeError(\"No se pudo leer el primer frame.\")\n",
        "\n",
        "gray_prev = cv2.cvtColor(frame, cv2.COLOR_BGR2GRAY)\n",
        "center_coords = []\n",
        "while True:\n",
        "    ret, frame = cap.read()\n",
        "    if not ret:\n",
        "        break\n",
        "    gray_next = cv2.cvtColor(frame, cv2.COLOR_BGR2GRAY)\n",
        "    diff = cv2.absdiff(gray_prev, gray_next)\n",
        "    center_coords.append(get_diff_center(diff))\n",
        "\n",
        "    if len(center_coords) % 100 == 0:\n",
        "        print(f\"{len(center_coords)} frames procesados.\")\n",
        "        # plt.imshow(diff)\n",
        "        # plt.plot(center_coords[-1][1], center_coords[-1][0], 'r+')\n",
        "        # plt.show()\n",
        "    gray_prev = gray_next\n",
        "\n",
        "positions = np.array(center_coords)\n",
        "np.save(\"pendulo_positions.npy\", positions)\n",
        "print(f\"{len(positions)} posiciones registradas.\")\n"
      ],
      "metadata": {
        "id": "ZR3o3Oai2Y3N"
      },
      "id": "ZR3o3Oai2Y3N",
      "execution_count": null,
      "outputs": []
    },
    {
      "cell_type": "code",
      "source": [
        "positions = np.load(\"pendulo_positions.npy\")\n",
        "y, x = positions[:,0], positions[:,1]\n",
        "\n",
        "plt.plot(x, label=\"x(t)\")\n",
        "plt.plot(y, label=\"y(t)\")\n",
        "plt.legend()\n",
        "plt.show()\n"
      ],
      "metadata": {
        "id": "upbuLO9YysjX"
      },
      "id": "upbuLO9YysjX",
      "execution_count": null,
      "outputs": []
    },
    {
      "cell_type": "markdown",
      "source": [
        "## Ejercicio 1\n",
        "\n",
        "Usando la variable extraída del video, realicen el ajuste pertinente para considerar que se trata de un oscilador amortiguado.\n",
        "\n",
        "(Las variables que les proponemos son una posible solución de extracción, pero si quieren pueden pelearse con técnicas de trackeado de objetos en videos)"
      ],
      "metadata": {
        "id": "mdZDY5og9M-O"
      },
      "id": "mdZDY5og9M-O"
    },
    {
      "cell_type": "code",
      "source": [
        "# # # COMPLETAR"
      ],
      "metadata": {
        "id": "t4HhjI7CxsLZ"
      },
      "id": "t4HhjI7CxsLZ",
      "execution_count": null,
      "outputs": []
    },
    {
      "cell_type": "markdown",
      "source": [
        "# Regresión por ventanas"
      ],
      "metadata": {
        "id": "1uF3XUNBhu9B"
      },
      "id": "1uF3XUNBhu9B"
    },
    {
      "cell_type": "markdown",
      "source": [
        "## Filtro de Savitzky–Golay\n",
        "\n",
        "Ajusta localmente polinomios por mínimos cuadrados dentro de una ventana deslizante.\n",
        "Suaviza la señal y permite calcular derivadas de manera robusta frente al ruido.\n",
        "Realiza un ajuste local que preserva la forma de la señal.\n",
        "Frecuentemente usado en análisis experimental y procesamiento de señales."
      ],
      "metadata": {
        "id": "TpQbse-DfJS9"
      },
      "id": "TpQbse-DfJS9"
    },
    {
      "cell_type": "markdown",
      "source": [
        "Se puede usar para el cálculo de derivadas. Para esto, se ajusta un polinomio de orden bajo en una ventana deslizante y se calcula la derivada del polinomio en el centro. En una ventana de ($2k+1$) puntos alrededor de ($t_i$), se ajusta $f(t) \\approx a_0 + a_1 t + a_2 t^2 + \\dots + a_n t^n$. La derivada es simplemente ($a_1$), evaluada en el centro de la ventana.\n",
        "\n",
        "Esto suaviza y deriva en un solo paso; es mucho más robusto al ruido que los métodos de diferencias finitas; puede presentar limitaciones para algunos problemas porque no se adapta bien a bordes ni a cambios rápidos en la dinámica si la ventana es muy grande."
      ],
      "metadata": {
        "id": "Q2LqYpxR2usl"
      },
      "id": "Q2LqYpxR2usl"
    },
    {
      "cell_type": "markdown",
      "source": [
        "### Ejemplo"
      ],
      "metadata": {
        "id": "PwhNp6KVgqj7"
      },
      "id": "PwhNp6KVgqj7"
    },
    {
      "cell_type": "code",
      "source": [
        "from scipy.signal import savgol_filter\n",
        "\n",
        "def derivada_savgol(y, dt=1.0, window_length=11, polyorder=3):\n",
        "    \"\"\"\n",
        "    Calcula la derivada primera de una señal usando el filtro de Savitzky-Golay.\n",
        "\n",
        "    Parámetros\n",
        "    ----------\n",
        "    y : array_like\n",
        "        Serie temporal (valores de la función).\n",
        "    dt : float\n",
        "        Paso temporal entre puntos (default=1.0).\n",
        "    window_length : int\n",
        "        Tamaño de la ventana (impar, p.ej. 5, 7, 11).\n",
        "    polyorder : int\n",
        "        Orden del polinomio usado en el ajuste local.\n",
        "\n",
        "    Retorna\n",
        "    -------\n",
        "    dy : ndarray\n",
        "        Estimación de la derivada de y.\n",
        "    \"\"\"\n",
        "    dy = savgol_filter(y, window_length=window_length,\n",
        "                          polyorder=polyorder,\n",
        "                          deriv=1, delta=dt)\n",
        "    return dy\n",
        "\n",
        "# Ejemplo de uso\n",
        "t = np.linspace(0, 2*np.pi, 200)\n",
        "y = np.sin(t) + 0.05*np.random.randn(len(t))  # señal ruidosa\n",
        "dy = derivada_savgol(y, dt=t[1]-t[0], window_length=21, polyorder=3)\n",
        "\n",
        "plt.plot(t, y, label=\"Señal ruidosa\")\n",
        "plt.plot(t, np.cos(t), 'k--', label=\"Derivada exacta\")\n",
        "plt.plot(t, dy, label=\"Derivada (Savitzky-Golay)\")\n",
        "plt.legend()\n",
        "plt.show()"
      ],
      "metadata": {
        "id": "iyIFGwdHlFB-"
      },
      "id": "iyIFGwdHlFB-",
      "execution_count": null,
      "outputs": []
    },
    {
      "cell_type": "markdown",
      "source": [
        "## Ejercicio 2\n",
        "\n",
        "Viendo esta aplicación de Savitzky-Golay, podemos retomar los datos de peatones que obtuvimos de un repositorio de datos público en la clase de derivación numérica. Ahí habíamos encontrado que el método de diferencias finitas me daban derivadas muy ruidosas.\n",
        "\n",
        "Básicamente lo que teníamos era lo siguiente:"
      ],
      "metadata": {
        "id": "sYN0ZPjl2gf3"
      },
      "id": "sYN0ZPjl2gf3"
    },
    {
      "cell_type": "code",
      "source": [
        "!pip install ucimlrepo"
      ],
      "metadata": {
        "id": "5dlc_PyU2OKZ"
      },
      "id": "5dlc_PyU2OKZ",
      "execution_count": null,
      "outputs": []
    },
    {
      "cell_type": "code",
      "source": [
        "from ucimlrepo import fetch_ucirepo\n",
        "\n",
        "# fetch dataset\n",
        "pedestrians_in_traffic = fetch_ucirepo(id=536)\n",
        "# data (as pandas dataframes)\n",
        "X = pedestrians_in_traffic.data.features\n",
        "y = pedestrians_in_traffic.data.targets\n"
      ],
      "metadata": {
        "id": "UYVSMVAd2OG1"
      },
      "id": "UYVSMVAd2OG1",
      "execution_count": null,
      "outputs": []
    },
    {
      "cell_type": "code",
      "source": [
        "pos_x = X[X['oid'] == 19339]['x'].to_numpy()\n",
        "pos_y = X[X['oid'] == 19339]['y'].to_numpy()"
      ],
      "metadata": {
        "id": "xZFXpIIu2Bfq"
      },
      "id": "xZFXpIIu2Bfq",
      "execution_count": null,
      "outputs": []
    },
    {
      "cell_type": "code",
      "source": [
        "times = np.arange(0, len(pos_x))"
      ],
      "metadata": {
        "id": "WLAkogx82aR-"
      },
      "id": "WLAkogx82aR-",
      "execution_count": null,
      "outputs": []
    },
    {
      "cell_type": "code",
      "source": [
        "derivada_x = np.gradient(pos_x)\n",
        "derivada_y = np.gradient(pos_y)"
      ],
      "metadata": {
        "id": "1yhPvptF2aKN"
      },
      "id": "1yhPvptF2aKN",
      "execution_count": null,
      "outputs": []
    },
    {
      "cell_type": "code",
      "source": [
        "fig, axs = plt.subplots(2, 2, figsize=(10,8), sharex=True)\n",
        "axs[0,0].plot(times, pos_x, c='k', lw=2, label='x')\n",
        "axs[0,0].legend(fontsize=16)\n",
        "axs[0,1].plot(times, pos_y, c='k', lw=2, label='y')\n",
        "axs[0,1].legend(fontsize=16)\n",
        "axs[1,0].plot(times, derivada_x, c='k', lw=2, label='derivada x')\n",
        "axs[1,0].legend(fontsize=16)\n",
        "axs[1,1].plot(times, derivada_y, c='k', lw=2, label='derivada y')\n",
        "axs[1,1].legend(fontsize=16)\n",
        "plt.show()"
      ],
      "metadata": {
        "id": "D5T7j2PK2edH"
      },
      "id": "D5T7j2PK2edH",
      "execution_count": null,
      "outputs": []
    },
    {
      "cell_type": "markdown",
      "source": [
        "Calculen las derivadas con SG y comparen. Para obtener estimaciones más suaves, pueden considerar ventanas más grandes que las usadas previamente, y orden del polinomio más bajo."
      ],
      "metadata": {
        "id": "3AuIq3Qzhgoz"
      },
      "id": "3AuIq3Qzhgoz"
    },
    {
      "cell_type": "code",
      "source": [
        "# # # COMPLETAR"
      ],
      "metadata": {
        "id": "U8pbAUvDhqvL"
      },
      "id": "U8pbAUvDhqvL",
      "execution_count": null,
      "outputs": []
    },
    {
      "cell_type": "markdown",
      "source": [
        "# Interpolación\n",
        "\n",
        "La [interpolación](https://en.wikipedia.org/wiki/Interpolation) es un caso particular de ajuste en el que se asume que los datos son exactos. El modelo debe pasar exactamente por los puntos conocidos y permite estimar valores intermedios. Ejemplo: interpolación polinómica o por splines."
      ],
      "metadata": {
        "id": "ID5M7Xk4ePEE"
      },
      "id": "ID5M7Xk4ePEE"
    },
    {
      "cell_type": "markdown",
      "source": [
        "## Interpolación polinómica\n",
        "\n",
        "Consiste en encontrar un polinomio que pase exactamente por todos los puntos conocidos.\n",
        "Es simple de implementar pero puede presentar oscilaciones si el número de puntos es grande (fenómeno de Runge).\n",
        "Métodos numéricos clásicos: Lagrange, Newton, Vandermonde."
      ],
      "metadata": {
        "id": "BqkcAjoufAjc"
      },
      "id": "BqkcAjoufAjc"
    },
    {
      "cell_type": "markdown",
      "source": [
        "## Splines\n",
        "\n",
        "Interpolan los datos mediante funciones polinómicas por tramos, garantizando continuidad y suavidad entre segmentos.\n",
        "Evitan las oscilaciones de los polinomios globales y se usan frecuentemente para graficar o reconstruir trayectorias suaves."
      ],
      "metadata": {
        "id": "hnSALs1afUZ8"
      },
      "id": "hnSALs1afUZ8"
    },
    {
      "cell_type": "code",
      "source": [
        "from scipy.interpolate import UnivariateSpline"
      ],
      "metadata": {
        "id": "kCj-AByXowgv"
      },
      "id": "kCj-AByXowgv",
      "execution_count": null,
      "outputs": []
    },
    {
      "cell_type": "markdown",
      "source": [
        "Veamos como puede servir para suav"
      ],
      "metadata": {
        "id": "A5u7TQGXo4Ed"
      },
      "id": "A5u7TQGXo4Ed"
    },
    {
      "cell_type": "markdown",
      "source": [
        "### Ejemplo\n",
        "\n",
        "Resolvamos el ejercicio de **Switch bioquimico**\n",
        "\n",
        "$ \\frac{dx}{d\\tau} = s - rx + \\frac{x^{2}}{1+x^{2}} $\n",
        "\n",
        "donde r > 0 y s ≥ 0 son adimensionales.\n"
      ],
      "metadata": {
        "id": "Pf1UW-KU3buM"
      },
      "id": "Pf1UW-KU3buM"
    },
    {
      "cell_type": "code",
      "source": [
        "from scipy.interpolate import UnivariateSpline, griddata\n",
        "from mpl_toolkits.mplot3d import Axes3D  # Necesario para proyección 3D\n",
        "\n",
        "# %% Diagrama de bifurcaciones (cúspide teórica)\n",
        "x = np.linspace(0, 1, 1000)\n",
        "r_sn = 2 * x / (1 + x**2)**2\n",
        "s_sn = x**2 * (1 - x**2) / (1 + x**2)**2\n",
        "\n",
        "plt.figure()\n",
        "plt.plot(r_sn, s_sn, 'k')\n",
        "plt.xlabel(\"r\")\n",
        "plt.ylabel(\"s\")\n",
        "plt.title(\"Curva de bifurcación (cúspide)\")\n",
        "plt.show()\n",
        "\n",
        "# %% Campo vectorial y raíces (puntos fijos)\n",
        "def f(x, r, s):\n",
        "    return s - r * x + x**2 / (1 + x**2)\n",
        "\n",
        "def raices(r, s):\n",
        "    xx = np.linspace(0, 10, 2000)\n",
        "    spline = UnivariateSpline(xx, f(xx, r, s), s=0, k=3)\n",
        "    roots = spline.roots()\n",
        "    # Incluimos x=0 si es raíz exacta\n",
        "    if np.isclose(f(0, r, s), 0):\n",
        "        roots = np.concatenate(([0], roots))\n",
        "    return roots\n",
        "\n",
        "# %% Barrido de parámetros\n",
        "rs = np.linspace(0, 0.65, 80)\n",
        "ss = np.linspace(0, 0.13, 80)\n",
        "\n",
        "pfs = []\n",
        "for r in rs:\n",
        "    for s in ss:\n",
        "        for x_star in raices(r, s):\n",
        "            pfs.append([r, s, x_star])\n",
        "\n",
        "pfs = np.array(pfs)\n",
        "\n",
        "# %% Gráfico 3D de los puntos fijos\n",
        "fig = plt.figure(figsize=(8, 6))\n",
        "ax = fig.add_subplot(111, projection='3d')\n",
        "ax.plot(pfs[:, 0], pfs[:, 1], pfs[:, 2], '.', ms=1, alpha=0.5, label='Puntos fijos')\n",
        "ax.set_ylabel(\"s\")\n",
        "ax.set_zlabel(r\"$x^*$\")\n",
        "ax.view_init(30, 20)\n",
        "ax.legend()\n",
        "plt.title(\"Superficie de bifurcaciones del switch bioquímico\")\n",
        "plt.show()\n"
      ],
      "metadata": {
        "id": "0fPj4HZQkYFB"
      },
      "id": "0fPj4HZQkYFB",
      "execution_count": null,
      "outputs": []
    },
    {
      "cell_type": "code",
      "source": [
        "#Un plot interactivo para variar el angulo\n",
        "from ipywidgets import interact\n",
        "\n",
        "def graf(angulo):\n",
        "  fig = plt.figure(figsize=(6,6))\n",
        "  ax = plt.axes(projection='3d')\n",
        "  ax.plot(pfs[:,0], pfs[:,1], pfs[:,2], '.', ms=0.5)\n",
        "  ax.plot(r_sn, s_sn, np.zeros(len(s_sn)), 'k')\n",
        "  ax.set_zlim([0, 2])\n",
        "  ax.grid(False)\n",
        "  plt.axis('off')\n",
        "  ax.view_init(30, angulo)\n",
        "  plt.show()\n",
        "\n",
        "interact(graf, angulo=(0,360,1.))"
      ],
      "metadata": {
        "id": "txjjCtHDszKx"
      },
      "id": "txjjCtHDszKx",
      "execution_count": null,
      "outputs": []
    },
    {
      "cell_type": "markdown",
      "source": [
        "GIF"
      ],
      "metadata": {
        "id": "uqJ1029Qs1_J"
      },
      "id": "uqJ1029Qs1_J"
    },
    {
      "cell_type": "code",
      "source": [
        "#Paso 1: guardar las imagenes\n",
        "\n",
        "save_folder = \"/content/\"  #Carpeta donde guardar las imagenes\n",
        "\n",
        "fig = plt.figure()\n",
        "ax = plt.axes(projection='3d')\n",
        "ax.plot(pfs[:,0], pfs[:,1], pfs[:,2], '.', ms=0.5)\n",
        "ax.plot(r_sn, s_sn, np.zeros(len(s_sn)), 'k')\n",
        "ax.set_zlim([0, 0.7])\n",
        "ax.grid(False)\n",
        "plt.axis('off')\n",
        "# rotate the axes and update\n",
        "contador = 0\n",
        "for angle in range(0, 360):\n",
        "    ax.view_init(30, angle)\n",
        "    plt.draw()\n",
        "    plt.savefig(save_folder+str(contador)+\".png\", dpi=100)   #Descomentar si queres guardar\n",
        "    # plt.pause(.0005)\n",
        "    contador+=1\n",
        "plt.show()"
      ],
      "metadata": {
        "id": "xLctP0U1s3z-"
      },
      "id": "xLctP0U1s3z-",
      "execution_count": null,
      "outputs": []
    },
    {
      "cell_type": "code",
      "source": [
        "#Guardamos los nombres de los archivos, ordenados, en una lista\n",
        "lista_files=[]\n",
        "for k in range(360):\n",
        "    lista_files.append(save_folder+str(k)+\".png\")\n",
        "\n",
        "#%%\n",
        "import imageio\n",
        "images = []\n",
        "\n",
        "for filename in lista_files:\n",
        "    images.append(imageio.imread(filename))\n",
        "# imageio.mimsave(save_folder+'movie.gif', images)"
      ],
      "metadata": {
        "id": "xIDzDuhas3vd"
      },
      "id": "xIDzDuhas3vd",
      "execution_count": null,
      "outputs": []
    }
  ],
  "metadata": {
    "kernelspec": {
      "display_name": "Python 3 (ipykernel)",
      "language": "python",
      "name": "python3"
    },
    "language_info": {
      "codemirror_mode": {
        "name": "ipython",
        "version": 3
      },
      "file_extension": ".py",
      "mimetype": "text/x-python",
      "name": "python",
      "nbconvert_exporter": "python",
      "pygments_lexer": "ipython3",
      "version": "3.10.9"
    },
    "colab": {
      "provenance": [],
      "toc_visible": true,
      "include_colab_link": true
    }
  },
  "nbformat": 4,
  "nbformat_minor": 5
}