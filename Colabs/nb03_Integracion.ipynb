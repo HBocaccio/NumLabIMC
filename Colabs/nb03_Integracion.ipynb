{
  "cells": [
    {
      "cell_type": "markdown",
      "metadata": {
        "id": "view-in-github",
        "colab_type": "text"
      },
      "source": [
        "<a href=\"https://colab.research.google.com/github/HBocaccio/NumLabIMC/blob/main/Colabs/nb03_Integracion.ipynb\" target=\"_parent\"><img src=\"https://colab.research.google.com/assets/colab-badge.svg\" alt=\"Open In Colab\"/></a>"
      ]
    },
    {
      "cell_type": "markdown",
      "source": [
        "# **Introducción al modelado continuo** (*a.k.a.* **Ecuaciones de la física matemática**)\n",
        "## Laboratorio numérico 2024\n",
        "\n",
        "Bienvenidos al laboratorio numérico de la materia *Introducción al modelado continuo*, también conocida como *Ecuaciones de la física matemática*. En este, vamos a ver métodos numéricos para resolver distintos tipos de problemas de manera general, y su relación y aplicación a problemas específicos de la materia, de manera tal de complementar los contenidos de la cursada teórico-práctica.\n"
      ],
      "metadata": {
        "id": "Re809_aCU7Mc"
      },
      "id": "Re809_aCU7Mc"
    },
    {
      "cell_type": "markdown",
      "source": [
        "# Motivación de este colab\n",
        "<!-- $$\\require{amsmath}$$ -->\n",
        "\n",
        "Recordemos que estamos estudiando **sistemas dinámicos**, con reglas representadas por **ecuaciones diferenciales ordinarias (ODEs)** que describen la evolución temporal de una variable.\n",
        "\n",
        "En este marco, es importante recordar:\n",
        "* Nos concentraremos principalmente en **sistemas autónomos**, por lo que las variables no dependen explícitamente del tiempo y su evolución se define a partir de la ecuación $\\dot{x}=dx/dt=f(x)$\n",
        "\n",
        "Entonces, lo que tenemos es básicamente que buscar la manera de integrar ecuaciones diferenciales. Esto motiva a que estudiemos distintos **métodos de integración numérica**. Entonces, vamos a buscar la solución a la ecuación diferencial, $x(t)$, pero necesitamos definir la condición inicial. Esto se llama **problema de valores iniciales**.\n"
      ],
      "metadata": {
        "id": "amSVYTaDVBjD"
      },
      "id": "amSVYTaDVBjD"
    },
    {
      "cell_type": "markdown",
      "id": "23704c89",
      "metadata": {
        "id": "23704c89"
      },
      "source": [
        "# Métodos de integración numérica 1D\n",
        "\n",
        "### [I. Método de Euler](#euler)\n",
        "### [II. Método de Runge-Kutta](#rk4)\n",
        "### [III. Método Odeint de scipy](#odeint)"
      ]
    },
    {
      "cell_type": "markdown",
      "id": "ee5b1248",
      "metadata": {
        "id": "ee5b1248"
      },
      "source": [
        "<a name=\"euler\"></a>\n",
        "## I. Método de Euler\n",
        "\n",
        "Supongamos que tenemos una ecuación diferencial de esta forma:\n",
        "\n",
        "$$\n",
        "\\frac{dx}{dt} = f(t, x)\n",
        "$$\n",
        "\n",
        "El método de Euler consiste en aproximar la derivada por el cociente incremental: $\\frac{dx}{dt} \\simeq \\frac{\\Delta x}{\\Delta t}$:\n",
        "\n",
        "$$\n",
        "\\frac{x(t+\\Delta t) - x(t)}{\\Delta t} = f(t, x)\n",
        "$$\n",
        "\n",
        "$$\n",
        "x(t+\\Delta t) = x(t)+f(t, x)\\Delta t\n",
        "$$\n",
        "\n",
        "Esto define una regla que prescribe una aproximación para el valor de $x$, después de cierto tiempo, en base a la condición inicial y el valor de la derivada (campo vector).\n",
        "\n",
        "Podemos definir un paso temporal discreto $h$, por lo que nos queda una regla iterativa para integrar el $x$ de a pasos discretos\n",
        "\n",
        "$${x}_{n+1} = {x}_{n} + h f(t_{n},{x}_{n})$$\n",
        "\n",
        "Notar que es como aproximar a la variable por su desarrollo de Taylor de orden 1, donde me muevo un paso $h$ para donde me dice la derivada primera (que es el campo vector por la ODE). Necesito una condición inicial."
      ]
    },
    {
      "cell_type": "markdown",
      "source": [
        "**Ejemplo:** Veamos una aplicación como ejemplo para el **modelo de Gompertz** del ejercicio 3 de la guía 1:\n",
        "\n",
        "$$\n",
        "\\dot{N} = -aNln(bN)\n",
        "$$\n",
        "\n",
        "$$\n",
        "\\frac{N(t + \\Delta t) - N(t)}{\\Delta t} = -aN(t) ln(bN(t))\n",
        "$$\n",
        "\n",
        "$$\n",
        "N(t + \\Delta t) = N(t) -aN(t) ln(bN(t))\\Delta t\n",
        "$$\n",
        "\n",
        "Para resolver esto tenemos que definir la condición incial y el paso temporal. Qué les parece que puede pasar si cambiamos sus valores?"
      ],
      "metadata": {
        "id": "-hRpAUYJLV5Y"
      },
      "id": "-hRpAUYJLV5Y"
    },
    {
      "cell_type": "code",
      "execution_count": null,
      "id": "7c55da52",
      "metadata": {
        "id": "7c55da52"
      },
      "outputs": [],
      "source": [
        "%matplotlib inline\n",
        "import numpy as np\n",
        "import matplotlib.pyplot as plt"
      ]
    },
    {
      "cell_type": "code",
      "execution_count": null,
      "id": "080a69cc",
      "metadata": {
        "id": "080a69cc"
      },
      "outputs": [],
      "source": [
        "# Definimos el valor de los parámetros del modelo\n",
        "a = 1\n",
        "b = 1\n",
        "# Damos el paso de integración o evolución\n",
        "dt = 0.1\n",
        "# Damos el vector de los tiempos para los que vamos a calcular N\n",
        "t = np.arange(0, 10, step=dt)\n",
        "# Nos armamos un vector N donde vamos a ir guardando los resultados de la integración. Por ahora son todos ceros. Lo vamos llenando al ir evolucionando con Euler.\n",
        "N = np.zeros_like(t)\n",
        "# Fijamos una condición inicial de N, dandole valor al primer punto\n",
        "N[0] = 3\n",
        "#Y ahora sí ya hacemos la evolución de la formulita\n",
        "for i in range(len(t)-1):\n",
        "    # Calculamos el siguiente punto usando el método de Euler (t -> i ; t+dt -> i+1)\n",
        "    N[i + 1] = -a*np.log(b*N[i]) * dt + N[i]\n"
      ]
    },
    {
      "cell_type": "code",
      "source": [
        "# Graficamos\n",
        "plt.figure(figsize=(5,5))\n",
        "plt.plot(t, N, 'k.-', lw=2, markersize=10)\n",
        "plt.scatter(t[0], N[0], color=\"red\", s=50, label=\"c.i\", zorder=3) # Hacemos el puntito de c.inicial\n",
        "plt.xlabel(\"Tiempo (u.a)\", fontsize=16)\n",
        "plt.ylabel(\"N(t)\", fontsize=16, rotation=0, labelpad=20)\n",
        "plt.legend(fontsize=14)\n",
        "plt.show()"
      ],
      "metadata": {
        "id": "ExeImZJvlW0B"
      },
      "id": "ExeImZJvlW0B",
      "execution_count": null,
      "outputs": []
    },
    {
      "cell_type": "markdown",
      "id": "9904630b",
      "metadata": {
        "id": "9904630b"
      },
      "source": [
        "**Paso temporal**\n",
        "\n",
        "En general, cuando uso el método de integración de Euler, tengo que calibrar con cuidado el paso temporal, para asegurarme de no estar haciendo cualquier cosa. Una forma de hacer esto es hacer la integración para pasos temporales sucesivamente menores, hasta notar (con algún criterio) que la integración no cambia sustancialmente al refinar el paso temporal."
      ]
    },
    {
      "cell_type": "code",
      "execution_count": null,
      "id": "89e5cbc2",
      "metadata": {
        "id": "89e5cbc2"
      },
      "outputs": [],
      "source": [
        "varios_dt = [1, 0.3, 0.1, 0.03, 0.01]\n",
        "plt.figure(figsize=(5,5))\n",
        "for dt in varios_dt:\n",
        "    # Para cada paso de integración hacemos el proceso\n",
        "    t = np.arange(0, 10, step=dt)\n",
        "    a = 1\n",
        "    b = 1\n",
        "    N = np.zeros_like(t)\n",
        "    # Fijamos una condición inicial, dandole valor al primer punto\n",
        "    N[0] = 5\n",
        "    for i in range(len(t)-1):\n",
        "        # Calculamos el siguiente punto usando el método de Euler (t -> i ; t+dt -> i+1)\n",
        "        N[i + 1] = -a*np.log(b*N[i]) * dt + N[i]\n",
        "    # Le agregamos una etiqueta a cada curva para saber que dt le correspondía\n",
        "    plt.plot(t, N, label='dt = {}'.format(dt))\n",
        "plt.xlabel(\"Tiempo (u.a)\", fontsize=16)\n",
        "plt.ylabel(\"N(t)\", fontsize=16)\n",
        "plt.legend()\n",
        "plt.show()"
      ]
    },
    {
      "cell_type": "markdown",
      "source": [
        "**Condiciones iniciales**\n",
        "\n",
        "Integremos ahora para varias condiciones iniciales."
      ],
      "metadata": {
        "id": "Hkf0uqUlllF6"
      },
      "id": "Hkf0uqUlllF6"
    },
    {
      "cell_type": "code",
      "source": [
        "# Damos el valor de parametros y paso de integracion\n",
        "a = 1\n",
        "b = 1\n",
        "dt = 0.1\n",
        "# Damos el vector de los tiempos para los que vamos a calcular N\n",
        "t = np.arange(0, 10, step=dt)\n",
        "# Definimos el vector N1, por ahora son todos ceros. Lo vamos llenando al ir evolucionando con Euler.\n",
        "N1 = np.zeros_like(t)\n",
        "# Damos la condicion inicial de N1.\n",
        "N1[0] = 3\n",
        "# Y ahora sí ya hacemos la evolución de la formulita.\n",
        "for i in range(len(t)-1):\n",
        "    N1[i + 1] = -a*N1[i]*np.log(b*N1[i]) * dt + N1[i]\n",
        "\n",
        "# Ahora integramos para otra condicion inicial\n",
        "N2 = np.zeros_like(t)\n",
        "# Damos otra condicion inicial\n",
        "N2[0] = 0.1\n",
        "# La integramos\n",
        "for i in range(len(t)-1):\n",
        "    N2[i + 1] = -a*N2[i]*np.log(b*N2[i]) * dt + N2[i]\n",
        "\n",
        "#Y ahora mostramos las dos\n",
        "plt.figure(figsize=(5,5))\n",
        "plt.plot(t, N1)\n",
        "plt.plot(t, N2)\n",
        "plt.xlabel(\"Tiempo (u.a)\", fontsize=16)\n",
        "plt.ylabel(\"N(t)\", fontsize=16)\n",
        "plt.show()"
      ],
      "metadata": {
        "id": "0S4Y-78wljrC"
      },
      "id": "0S4Y-78wljrC",
      "execution_count": null,
      "outputs": []
    },
    {
      "cell_type": "code",
      "source": [
        "# Y también podríamos hacer un loop y que nos integre muchas condiciones iniciales\n",
        "condiciones_iniciales = np.arange(0.1,3,0.1)\n",
        "plt.figure(figsize=(5,5))\n",
        "\n",
        "for ci in condiciones_iniciales:\n",
        "    N = np.zeros_like(t)\n",
        "    # Damos la condicion inicial de N.\n",
        "    N[0] = ci\n",
        "    # Y ahora sí ya hacemos la evolución de la formulita.\n",
        "    for i in range(len(t)-1):\n",
        "        N[i + 1] = -a*N[i]*np.log(b*N[i]) * dt + N[i]\n",
        "    plt.plot(t, N)\n",
        "plt.xlabel(\"Tiempo (u.a)\", fontsize=16)\n",
        "plt.ylabel(\"N(t)\", fontsize=16)\n",
        "plt.show()"
      ],
      "metadata": {
        "id": "D_nPHo1ZlxWy"
      },
      "id": "D_nPHo1ZlxWy",
      "execution_count": null,
      "outputs": []
    },
    {
      "cell_type": "markdown",
      "source": [
        "### Ejercicio 1\n",
        "\n",
        "Escriba una función llamada `odeEuler` que tome como argumentos de entrada el campo vector `f(x)`, la condición inicial `ci`, el paso de integración `h` seteado por default como 0.1, y el tiempo total de integración `tmax` seteado por default como 10. La función debe devolver el vector de tiempos y los valores de la variable en cada paso."
      ],
      "metadata": {
        "id": "tTddKBSXUi2Y"
      },
      "id": "tTddKBSXUi2Y"
    },
    {
      "cell_type": "code",
      "source": [
        "# # # COMPLETAR"
      ],
      "metadata": {
        "id": "l-_xNfFzUjfZ"
      },
      "id": "l-_xNfFzUjfZ",
      "execution_count": null,
      "outputs": []
    },
    {
      "cell_type": "markdown",
      "source": [
        "Pruebe la función para integrar el **modelo de Gompertz** para los parámetros y condiciones iniciales previamente usados (defina una función `gompertz` con el modelo de antes para ingresar al integrador)."
      ],
      "metadata": {
        "id": "-raxxzHQWMr2"
      },
      "id": "-raxxzHQWMr2"
    },
    {
      "cell_type": "code",
      "source": [
        "# # # COMPLETAR"
      ],
      "metadata": {
        "id": "27j13VPhWNOw"
      },
      "id": "27j13VPhWNOw",
      "execution_count": null,
      "outputs": []
    },
    {
      "cell_type": "markdown",
      "id": "c7db62c5",
      "metadata": {
        "id": "c7db62c5"
      },
      "source": [
        "<a name=\"rk4\"></a>\n",
        "## II. Método de [Runge Kutta](https://en.wikipedia.org/wiki/Runge%E2%80%93Kutta_methods)\n",
        "\n",
        "Así como podía pensar el método de Euler como una aproximación con Taylor de orden 1, podría considerar generalizar el método para ordenes superiores. Pero esto requiere el cálculo de derivadas, lo cual es un problema. Una alternativa es el método de punto medio que consiste básicamente en usar Euler, pero usando la información de la derviada en el punto medio de un paso de Euler. Este método es de orden 2 y pertence a una familia llamada métodos de **Runge-Kutta**.\n",
        "\n",
        "$${x}_{n+1} = {x}_{n} + h f(t_n + \\frac{h}{2}, x_n + \\frac{h}{2} f(t_{n},{x}_{n}))$$\n",
        "\n",
        "El método de Runge-Kutta de orden 4 (RK4) sigue la misma lógica, definiendo 4 evaluaciones intermedias:\n",
        "\n",
        "$$k_1 = f(t_n, x_n)\\\\\n",
        "k_2 = f\\left(t_n + \\frac{h}{2}, x_n + \\frac{h}{2} k_1\\right)\\\\\n",
        "k_3 = f\\left(t_n + \\frac{h}{2}, x_n + \\frac{h}{2} k_2\\right)\\\\\n",
        "k_4 = f(t_n + h, x_n + h k_3)$$\n",
        "\n",
        "La actualización de $x$ se realiza mediante:\n",
        "\n",
        "$$x_{n+1} = x_n + \\frac{h}{6} (k_1 + 2k_2 + 2k_3 + k_4)$$\n",
        "\n",
        "RK4 es el caballito de batalla de los integradores numéricos, pero, como todo, tiene sus ventajas y desventajas, y va a funcionar mejor o peor según el sistema."
      ]
    },
    {
      "cell_type": "markdown",
      "source": [
        "Escribimos una función para usar este método. Esta función ejecuta la integración de **un paso temporal**. Los argumentos que requiere son: i) campo vector (**función**) ii) valor de las variables en el tiempo t, iii) paso temporal.\n",
        "\n",
        "Los últimos dos (\\*args, **kwargs) son para que, en caso de que sus campos vectores tengan argumentos, se los puedan pasar a la función y los sepa manejar (más, adelante).\n"
      ],
      "metadata": {
        "id": "8SGCjqUwA0D0"
      },
      "id": "8SGCjqUwA0D0"
    },
    {
      "cell_type": "code",
      "execution_count": null,
      "id": "5cba2409",
      "metadata": {
        "id": "5cba2409"
      },
      "outputs": [],
      "source": [
        "import numpy as np\n",
        "import matplotlib.pyplot as plt"
      ]
    },
    {
      "cell_type": "code",
      "execution_count": null,
      "id": "be1d8b29",
      "metadata": {
        "id": "be1d8b29"
      },
      "outputs": [],
      "source": [
        "def rk4(dxdt, x, t, dt, *args, **kwargs):\n",
        "    x = np.asarray(x)\n",
        "    k1 = np.asarray(dxdt(x, t, *args, **kwargs))*dt\n",
        "    k2 = np.asarray(dxdt(x + k1*0.5, t, *args, **kwargs))*dt\n",
        "    k3 = np.asarray(dxdt(x + k2*0.5, t, *args, **kwargs))*dt\n",
        "    k4 = np.asarray(dxdt(x + k3, t, *args, **kwargs))*dt\n",
        "    return x + (k1 + 2*k2 + 2*k3 + k4)/6"
      ]
    },
    {
      "cell_type": "markdown",
      "id": "663e8b6a",
      "metadata": {
        "id": "663e8b6a"
      },
      "source": [
        "Veamoslo con el ejemplo de Gompertz. Primero definimos el campo vector. Este tiene que ser una **función** que devuelva la derivada en el punto (o una lista con las derivadas de cada componente)."
      ]
    },
    {
      "cell_type": "code",
      "execution_count": null,
      "id": "f6f487ac",
      "metadata": {
        "id": "f6f487ac"
      },
      "outputs": [],
      "source": [
        "def dNdt(N, t):\n",
        "    return -N*np.log(N)"
      ]
    },
    {
      "cell_type": "code",
      "execution_count": null,
      "id": "c50b442b",
      "metadata": {
        "id": "c50b442b"
      },
      "outputs": [],
      "source": [
        "# Definimos el paso temporal y el vector de tiempos\n",
        "dt = 0.5\n",
        "t = np.arange(0, 10, step=dt)\n",
        "# Damos la condición inicial\n",
        "N0 = 3\n",
        "# Nos creamos un vector para guardar la solución\n",
        "Nrk = np.zeros_like(t)\n",
        "Nrk[0] = N0\n",
        "for ix, tt in enumerate(t[:-1]):\n",
        "    # Avanzamos un paso temporal\n",
        "    Nrk[ix+1] = rk4(dNdt, Nrk[ix], tt, dt)\n",
        "plt.figure(figsize=(5,5))\n",
        "plt.plot(t, Nrk, 'o-')\n",
        "plt.xlabel(\"Tiempo (u.a)\", fontsize=16)\n",
        "plt.ylabel(\"N(t)\", fontsize=16)\n",
        "plt.show()"
      ]
    },
    {
      "cell_type": "markdown",
      "id": "957dd7ab",
      "metadata": {
        "id": "957dd7ab"
      },
      "source": [
        "De nuevo, es una buena práctica chequear que al achicar el paso de integración no cambie el resultado"
      ]
    },
    {
      "cell_type": "code",
      "execution_count": null,
      "id": "c381ae26",
      "metadata": {
        "id": "c381ae26"
      },
      "outputs": [],
      "source": [
        "# Definimos el paso temporal y el vector de tiempos\n",
        "dt = 0.5\n",
        "t = np.arange(0, 10, step=dt)\n",
        "# Damos la condición inicial\n",
        "N0 = 3\n",
        "# Nos creamos un vector para guardar la solución\n",
        "Nrk = np.zeros_like(t)\n",
        "Nrk[0] = N0\n",
        "for ix, tt in enumerate(t[:-1]):\n",
        "    # Avanzamos un paso temporal\n",
        "    Nrk[ix+1] = rk4(dNdt, Nrk[ix], tt, dt)\n",
        "plt.plot(t, Nrk, 'o-', label='dt = {:.2f}'.format(dt))\n",
        "\n",
        "dt2 = 0.25\n",
        "t2 = np.arange(0, 10, step=dt2)\n",
        "# Damos la condición inicial\n",
        "N0 = 3\n",
        "# Nos creamos un vector para guardar la solución\n",
        "Nrk = np.zeros_like(t2)\n",
        "Nrk[0] = N0\n",
        "for ix, tt in enumerate(t2[:-1]):\n",
        "    # Avanzamos un paso temporal\n",
        "    Nrk[ix+1] = rk4(dNdt, Nrk[ix], tt, dt2)\n",
        "\n",
        "plt.plot(t2, Nrk, 'o-', label='dt = {:.2f}'.format(dt2))\n",
        "plt.xlabel(\"Tiempo (u.a)\", fontsize=16)\n",
        "plt.ylabel(\"N(t)\", fontsize=16)\n",
        "plt.legend()\n",
        "plt.show()"
      ]
    },
    {
      "cell_type": "markdown",
      "id": "2a9e1d61",
      "metadata": {
        "id": "2a9e1d61"
      },
      "source": [
        "Con parámetros"
      ]
    },
    {
      "cell_type": "code",
      "execution_count": null,
      "id": "58098e5b",
      "metadata": {
        "id": "58098e5b"
      },
      "outputs": [],
      "source": [
        "def rk4(dxdt, x, t, dt, *args, **kwargs):\n",
        "    x = np.asarray(x)\n",
        "    k1 = np.asarray(dxdt(x, t, *args, **kwargs))*dt\n",
        "    k2 = np.asarray(dxdt(x + k1*0.5, t, *args, **kwargs))*dt\n",
        "    k3 = np.asarray(dxdt(x + k2*0.5, t, *args, **kwargs))*dt\n",
        "    k4 = np.asarray(dxdt(x + k3, t, *args, **kwargs))*dt\n",
        "    return x + (k1 + 2*k2 + 2*k3 + k4)/6"
      ]
    },
    {
      "cell_type": "code",
      "execution_count": null,
      "id": "f742b6d2",
      "metadata": {
        "id": "f742b6d2"
      },
      "outputs": [],
      "source": [
        "def dNdt_ab(N, t, a, b):\n",
        "    return -a*N*np.log(b*N)"
      ]
    },
    {
      "cell_type": "code",
      "execution_count": null,
      "id": "c8900087",
      "metadata": {
        "id": "c8900087"
      },
      "outputs": [],
      "source": [
        "a = 1\n",
        "b = 0.1\n",
        "dt = 0.5\n",
        "t = np.arange(0, 10, step=dt)\n",
        "# Damos la condición inicial\n",
        "N0 = 3\n",
        "# Nos creamos un vector para guardar la solución\n",
        "Nrk = np.zeros_like(t)\n",
        "Nrk[0] = N0\n",
        "for ix, tt in enumerate(t[:-1]):\n",
        "    # Avanzamos un paso temporal\n",
        "    Nrk[ix+1] = rk4(dNdt_ab, Nrk[ix], tt, dt, a, b)\n",
        "plt.plot(t, Nrk, 'o-', label='dt = {:.2f}'.format(dt))\n",
        "plt.xlabel(\"Tiempo (u.a)\", fontsize=16)\n",
        "plt.ylabel(\"N(t)\", fontsize=16)\n",
        "plt.show()"
      ]
    },
    {
      "cell_type": "markdown",
      "source": [
        "### Ejercicio 2\n",
        "\n",
        "Muestre los resultados de integrar el problema anterior para distintos valores del parámetro b."
      ],
      "metadata": {
        "id": "6VOia7F2Cm8L"
      },
      "id": "6VOia7F2Cm8L"
    },
    {
      "cell_type": "code",
      "source": [
        "# # # COMPLETAR"
      ],
      "metadata": {
        "id": "5jx-pthMCmWT"
      },
      "id": "5jx-pthMCmWT",
      "execution_count": null,
      "outputs": []
    },
    {
      "cell_type": "markdown",
      "source": [
        "### Ejercicio 3\n",
        "\n",
        "Usando RK4, integre y encuentre las soluciones para distintas condiciones iniciales y para distintos valores de $r$ del sistema:\n",
        "\n",
        "$\\dot{x}=f(x)=rx-x^{3}$"
      ],
      "metadata": {
        "id": "a6BfCHiHD6cP"
      },
      "id": "a6BfCHiHD6cP"
    },
    {
      "cell_type": "code",
      "source": [
        "# # # COMPLETAR"
      ],
      "metadata": {
        "id": "ebqcGKIyD7YA"
      },
      "id": "ebqcGKIyD7YA",
      "execution_count": null,
      "outputs": []
    },
    {
      "cell_type": "markdown",
      "id": "2e183e41",
      "metadata": {
        "id": "2e183e41"
      },
      "source": [
        "<a name=\"odeint\"></a>\n",
        "## III. Odeint\n",
        "\n",
        "Hay diversos métodos, más o menos precisos y que funcionan para diversos sistemas. Scipy trae un integrador bastante bueno llamado [odeint](https://docs.scipy.org/doc/scipy/reference/generated/scipy.integrate.odeint.html) (no teman a la documentación)."
      ]
    },
    {
      "cell_type": "code",
      "source": [
        "from scipy.integrate import odeint"
      ],
      "metadata": {
        "id": "LRaMtTidPK8i"
      },
      "id": "LRaMtTidPK8i",
      "execution_count": null,
      "outputs": []
    },
    {
      "cell_type": "markdown",
      "source": [
        "El odeint necesita que le digamos cómo calcular la derivada en cada punto (tenemos que darle la **función** campo vector como primer argumento), las condiciones iniciales (segundo argumento) y los tiempos donde queremos que integre y nos de el resultado.\n",
        "\n",
        "Se invoca de la siguiente forma:\n",
        "\n",
        "```\n",
        "odeint(campo vector, condiciones iniciales, vector de tiempos)\n",
        "```\n",
        "\n",
        "Donde el primer argumento es el campo vector (definido de la forma que lo hicimos arriba), el segundo es la condición inicial (o una lista con las condiciones iniciales de cada variable) y el tercero es una lista de tiempos donde queremos que nos dé el resultado de la integración.\n",
        "\n",
        "El integrador necesita que definamos el campo vector de cierta forma para que pueda interpretarlo correctamente. En particular, el **primer** argumento que reciba tiene que ser la variable (o una lista con las variables). El **segundo** argumento tiene que ser el tiempo (aunque no aparezca explícitamente en las ecuaciones). Luego pueden ponerse argumentos adicionales (si los hay)."
      ],
      "metadata": {
        "id": "-TDhsOJOOWip"
      },
      "id": "-TDhsOJOOWip"
    },
    {
      "cell_type": "markdown",
      "source": [
        "Para el caso 1D. Tomemos como ejemplo la ecuación:\n",
        "\n",
        "$$ \\dot{x} = -x^{2} + 4 $$"
      ],
      "metadata": {
        "id": "pgFcWNFJOYrp"
      },
      "id": "pgFcWNFJOYrp"
    },
    {
      "cell_type": "code",
      "execution_count": null,
      "id": "5a9e190a",
      "metadata": {
        "id": "5a9e190a"
      },
      "outputs": [],
      "source": [
        "def dxdt(x, t):\n",
        "    return -x**2 + 4"
      ]
    },
    {
      "cell_type": "code",
      "execution_count": null,
      "id": "48be50a9",
      "metadata": {
        "id": "48be50a9"
      },
      "outputs": [],
      "source": [
        "dt = 0.1\n",
        "t = np.arange(0, 5, step=dt)\n",
        "x0 = 10\n",
        "solucion = odeint(dxdt, x0, t)  # odeint hace algo y su output lo guardamos en la variable \"solucion\""
      ]
    },
    {
      "cell_type": "markdown",
      "id": "e3b60523",
      "metadata": {
        "id": "e3b60523"
      },
      "source": [
        "Veamos la forma de lo que nos devuelve el odeint:"
      ]
    },
    {
      "cell_type": "code",
      "execution_count": null,
      "id": "fec6e2d5",
      "metadata": {
        "id": "fec6e2d5"
      },
      "outputs": [],
      "source": [
        "print(solucion.shape)\n",
        "x = solucion[:, 0]\n",
        "print(x)"
      ]
    },
    {
      "cell_type": "markdown",
      "id": "eee5698c",
      "metadata": {
        "id": "eee5698c"
      },
      "source": [
        "Grafiquemos la solución:"
      ]
    },
    {
      "cell_type": "code",
      "execution_count": null,
      "id": "9456b585",
      "metadata": {
        "id": "9456b585"
      },
      "outputs": [],
      "source": [
        "plt.plot(t, x)\n",
        "plt.show()"
      ]
    },
    {
      "cell_type": "markdown",
      "id": "d55951ce",
      "metadata": {
        "id": "d55951ce"
      },
      "source": [
        "**Paso temporal** (Ojo con el dt!!)\n",
        "\n",
        "Atención! Para odeint, el vector de tiempos solo le dice en qué momentos queremos que devuelva el resultado de la integración. El paso temporal real lo va a ir ajustando sin avisarnos!\n",
        "\n",
        "Para convencernos comparemos 2 integraciones con tiempos muy distintos:"
      ]
    },
    {
      "cell_type": "code",
      "execution_count": null,
      "id": "27607532",
      "metadata": {
        "id": "27607532"
      },
      "outputs": [],
      "source": [
        "# Graficamos la solución que teníamos de antes, con paso temporal \"chico\"\n",
        "plt.plot(t, x)\n",
        "# Hacemos otra integración con paso temporal \"grande\"\n",
        "dt = 1\n",
        "t2 = np.arange(0, 5, step=dt)\n",
        "x0 = 10\n",
        "sol2 = odeint(dxdt, x0, t2)\n",
        "x2 = sol2[:, 0]\n",
        "plt.plot(t2, x2, 'o')\n",
        "plt.show()"
      ]
    },
    {
      "cell_type": "markdown",
      "source": [
        "**Ecuaciones con parámetros, cómo pasarle argumentos al odeint**\n",
        "\n",
        "Una de las cosas que nos suele interesar es analizar como cambian los flujos cuando cambiamos algún parámetro. Para eso está bueno tener una función definida y pasarle el parámetro que queremos ir moviendo como un argumento. Esto se puede hacer con el odeint, agregando un argumento (una tupla) cuando lo llamamos:\n",
        "\n",
        "```\n",
        "x = odeint(campo_vector, xi, t, args=(parametro1, parametro2))\n",
        "```\n",
        "\n",
        "Para que esto funcione, nuestro campo vector tiene que saber cómo tomar esos parámetros! Por eso tenemos que definirlo con:\n",
        "\n",
        "```\n",
        "def campo_vector(x, t, parametro1, parametro2)\n",
        "```\n",
        "\n",
        "Veamos el ejemplo del switch bioquímico, donde el campo vector se definía como:\n",
        "\n",
        "$$\n",
        "\\dot{x} = s-rx+\\dfrac{x^2}{1+x^2}\n",
        "$$\n",
        "con (r, s) dos parámetros que vamos a ir variando."
      ],
      "metadata": {
        "id": "hoiinpBwnWGx"
      },
      "id": "hoiinpBwnWGx"
    },
    {
      "cell_type": "code",
      "source": [
        "# Definimos el campo vector, con los dos parámetros r y s\n",
        "def campo_vector(x, t, r, s):\n",
        "    dxdt = s - r*x + x**2/(1+x**2)\n",
        "    return dxdt\n",
        "\n",
        "# Definimos tiempo máximo, paso y un vector de tiempos\n",
        "tmax = 50.\n",
        "dt = 1./100\n",
        "t = np.arange(0, tmax, dt)\n",
        "\n",
        "# Le damos algún valor a los dos parámetros\n",
        "r = 0.5\n",
        "s = 0\n",
        "\n",
        "# Nos preparamos varias condiciones iniciales\n",
        "Xi = np.linspace(0, 4, 10)\n",
        "for xi in Xi:\n",
        "    # Para cada una de las condiciones iniciales hacemos la integración\n",
        "    x = odeint(campo_vector, xi, t, args=(r, s))\n",
        "    # Ploteamos. Python automáticamente va a ir cambiando el color en cada vuelta\n",
        "    plt.plot(t, x)\n",
        "plt.xlabel('t')\n",
        "plt.ylabel('x')\n"
      ],
      "metadata": {
        "id": "M56erN37nV2p"
      },
      "id": "M56erN37nV2p",
      "execution_count": null,
      "outputs": []
    },
    {
      "cell_type": "markdown",
      "source": [
        "Ahora para un valor fijo de condición inicial, vemos qué pasa si cambiamos el valor de uno de los parámetros"
      ],
      "metadata": {
        "id": "LyHzRje2ngj1"
      },
      "id": "LyHzRje2ngj1"
    },
    {
      "cell_type": "code",
      "source": [
        "# Nos armamos una lista de valores para r\n",
        "rs = np.linspace(0.1, 3, 4)\n",
        "# Ponemos un única condición inicial\n",
        "xi = 4\n",
        "for r in rs:\n",
        "    # Para cada valor del parámetro hacemos la integración\n",
        "    x = odeint(campo_vector, xi, t, args=(r, s))\n",
        "    # Graficamos y le ponemos una etiqueta a cada curva para reconocerlas\n",
        "    plt.plot(t, x, label=r'r = {:.2f}; s = {:.2f}'.format(r, s))\n",
        "# Le pedimos que nos muestre las etiquetas que generamos\n",
        "plt.legend()"
      ],
      "metadata": {
        "id": "WT6o7oYEngCd"
      },
      "id": "WT6o7oYEngCd",
      "execution_count": null,
      "outputs": []
    },
    {
      "cell_type": "markdown",
      "id": "abf76a6f",
      "metadata": {
        "id": "abf76a6f"
      },
      "source": [
        "Rehagamos el ejercicio de Gompertz:"
      ]
    },
    {
      "cell_type": "code",
      "execution_count": null,
      "id": "dff5ecf6",
      "metadata": {
        "id": "dff5ecf6"
      },
      "outputs": [],
      "source": [
        "def dNdt(N, t):\n",
        "    return -N*np.log(N)"
      ]
    },
    {
      "cell_type": "code",
      "execution_count": null,
      "id": "4434f81a",
      "metadata": {
        "id": "4434f81a"
      },
      "outputs": [],
      "source": [
        "dt = 0.1\n",
        "t = np.arange(0, 10, step=dt)\n",
        "N0 = 3\n",
        "sol = odeint(dNdt, N0, t)"
      ]
    },
    {
      "cell_type": "markdown",
      "id": "12fd2099",
      "metadata": {
        "id": "12fd2099"
      },
      "source": [
        "Veamos qué es lo que nos devuelve:"
      ]
    },
    {
      "cell_type": "code",
      "execution_count": null,
      "id": "c9a875b8",
      "metadata": {
        "id": "c9a875b8"
      },
      "outputs": [],
      "source": [
        "print(sol)"
      ]
    },
    {
      "cell_type": "markdown",
      "id": "f54bdc63",
      "metadata": {
        "id": "f54bdc63"
      },
      "source": [
        "Si queremos convertilo en la lista \"bonita\" podemos hacer lo siguiente (esta forma de escribirlo nos va a servir cuando lo hagamos en 2D!)"
      ]
    },
    {
      "cell_type": "code",
      "execution_count": null,
      "id": "8a0fc570",
      "metadata": {
        "id": "8a0fc570"
      },
      "outputs": [],
      "source": [
        "N = sol[:, 0]\n",
        "print(N)\n",
        "plt.plot(t, N)"
      ]
    },
    {
      "cell_type": "markdown",
      "source": [
        "\n",
        "## Error de truncamiento local\n",
        "\n",
        "Sea $y_1$ la aproximación de $y(t_1)$ mediante un paso de algún método numérico que utilice un tamaño de paso $h = t_1 - t_0$. El **error de truncamiento (local)** (para la ecuación diferencial y el método dados) es\n",
        "\n",
        "$$\n",
        "E(h) = | y(t_1) - y_1 |\n",
        "$$\n",
        "\n",
        "La palabra *local* significa que estamos viendo solo un paso del método y la palabra *truncamiento* tiene que ver con el truncamiento de la serie de Taylor."
      ],
      "metadata": {
        "id": "PB74HiprlXGW"
      },
      "id": "PB74HiprlXGW"
    },
    {
      "cell_type": "markdown",
      "source": [
        "La mayoría de los métodos numéricos se basan en la serie de Taylor, por lo que el error puede expresarse en términos del teorema de Taylor. Por ejemplo, considere la serie de Taylor hasta el orden $p$ evaluada en $t_1 = t_0 + h$:\n",
        "\n",
        "$$\n",
        "y(t_1) = y(t_0) + y'(t_0)h + \\cdots + \\frac{y^{(p)}(t_0)}{p!} h^p + \\frac{y^{(p+1)}(c)}{(p+1)!} h^{p+1}\n",
        "$$\n",
        "\n",
        "para algún $c \\in [t_0,t_1]$. Si un método numérico calcula $y(t_1)$ utilizando el polinomio de Taylor de grado $p$, entonces el error de truncamiento local es\n",
        "\n",
        "$$\n",
        "E(h) = | y(t_1) - y_1 | = \\frac{| y^{(p+1)}(c) |}{(p+1)!} h^{p+1}\n",
        "$$\n",
        "\n",
        "Por lo tanto, podemos decir aproximadamente que un método numérico es de orden $p$ si el error de truncamiento local se parece a $Ch^{p+1}$ para alguna constante $C$.\n",
        "\n",
        "Más precisamente, un método numérico es de **orden** $p$ si el error de truncamiento local satisface\n",
        "\n",
        "$$\n",
        "E(h) \\leq C h^{p+1}\n",
        "$$\n",
        "\n",
        "para *cualquier* ecuación $y' = f(t,y)$, $y(t_0)=y_0$. La constante $C$ depende de $f$. Nótese que el orden es un entero positivo."
      ],
      "metadata": {
        "id": "oPQwcexwlttl"
      },
      "id": "oPQwcexwlttl"
    },
    {
      "cell_type": "markdown",
      "source": [
        "Generalmente es bastante difícil determinar el orden de un método numérico dada la fórmula. En cambio, podemos determinar el orden experimentalmente. La idea es que el error de truncamiento local debe satisfacer\n",
        "\n",
        "$$\n",
        "E(h) \\approx C h^{p+1}\n",
        "$$\n",
        "\n",
        "cuando se aplica a la mayoría de las ecuaciones diferenciales. Por lo tanto, podemos observar la pendiente en el gráfico log-log:\n",
        "\n",
        "$$\n",
        "\\log(E(h)) \\approx (p+1) \\log(h) + \\log(C)\n",
        "$$\n",
        "\n",
        "El procedimiento para determinar experimentalmente el orden $p$ de un método numérico es:\n",
        "\n",
        "1. Aplicar el método numérico a la ecuación $y' = y,y(0)=1$ para diferentes tamaños de paso $h_1$ y $h_2$.\n",
        "2. Calcular los errores de truncamiento locales $E(h_1)$ y $E(h_2)$ utilizando la solución exacta $y(t)=e^t$.\n",
        "3. Calcule la pendiente del gráfico logarítmico:\n",
        "\n",
        "$$\n",
        "p+1 \\approx \\frac{\\log(E(h_2)) - \\log(E(h_1))}{\\log(h_2) - \\log(h_1)}\n",
        "$$"
      ],
      "metadata": {
        "id": "rTdiXvzElxw-"
      },
      "id": "rTdiXvzElxw-"
    },
    {
      "cell_type": "markdown",
      "source": [
        "### El método de Euler es de orden 1\n",
        "\n",
        "El método de Euler se construye utilizando el polinomio de Taylor de grado 1. El teorema de Talyor dice:\n",
        "\n",
        "$$\n",
        "y(t_1) = y(t_0) + y'(t_0)(t_1 - t_0) + \\frac{y''(c)}{2}(t_1 - t_0)^2\n",
        "$$\n",
        "\n",
        "para algún $c \\in [t_0,t_1]$. Por lo tanto, si $|y''(t)|\\leq K_2$ para todo $t \\in [t_0,t_1]$, entonces\n",
        "\n",
        "$$\n",
        "E(h) = \\left| \\frac{y''(c)}{2}(t_1 - t_0)^2 \\right| \\leq \\frac{K_2 h^2}{2}\n",
        "$$\n",
        "\n",
        "Por lo tanto, el método de Euler es de orden 1. Verifiquemos experimentalmente el orden del método de Euler trazando el error de truncamiento local para el método de Euler aplicado a $y'=y$, $y(0)=1$."
      ],
      "metadata": {
        "id": "j3HKxEVel8ts"
      },
      "id": "j3HKxEVel8ts"
    },
    {
      "cell_type": "code",
      "source": [
        "f = lambda y: y\n",
        "y0 = 1;\n",
        "h = [0.1,0.05,0.01,0.005,0.001]\n",
        "E = np.zeros(len(h))\n",
        "for n in range(0,len(h)):\n",
        "    t_grid, y = odeEuler(f, y0, h[n])\n",
        "    y1 = y[1]\n",
        "    y1_exact = np.exp(h[n])\n",
        "    E[n] = np.abs(y1_exact - y1)\n",
        "\n",
        "plt.loglog(h,E,'b.-'), plt.grid(True)\n",
        "plt.title(\"Método de Euler, $y'=y,y(0)=1$\")\n",
        "plt.xlabel(\"$h$\"), plt.ylabel(\"Error de truncamiento local\")\n",
        "plt.show()"
      ],
      "metadata": {
        "id": "JgDoRATomHJN"
      },
      "id": "JgDoRATomHJN",
      "execution_count": null,
      "outputs": []
    },
    {
      "cell_type": "markdown",
      "source": [
        "El gráfico logarítmico tiene pendiente 2 como se esperaba a partir de la fórmula de error y verificamos que el método de Euler es de orden 1.\n"
      ],
      "metadata": {
        "id": "chEW-k9pltkf"
      },
      "id": "chEW-k9pltkf"
    },
    {
      "cell_type": "markdown",
      "source": [
        "### Ejercicio 4\n",
        "\n",
        "Busque mostrar que RK4 es de orden 4"
      ],
      "metadata": {
        "id": "bcfnY5cfJKbk"
      },
      "id": "bcfnY5cfJKbk"
    },
    {
      "cell_type": "code",
      "source": [
        "# # # COMPLETAR"
      ],
      "metadata": {
        "id": "lz5PaDx9J40J"
      },
      "id": "lz5PaDx9J40J",
      "execution_count": null,
      "outputs": []
    }
  ],
  "metadata": {
    "kernelspec": {
      "display_name": "Python 3 (ipykernel)",
      "language": "python",
      "name": "python3"
    },
    "language_info": {
      "codemirror_mode": {
        "name": "ipython",
        "version": 3
      },
      "file_extension": ".py",
      "mimetype": "text/x-python",
      "name": "python",
      "nbconvert_exporter": "python",
      "pygments_lexer": "ipython3",
      "version": "3.10.9"
    },
    "colab": {
      "provenance": [],
      "toc_visible": true,
      "include_colab_link": true
    }
  },
  "nbformat": 4,
  "nbformat_minor": 5
}