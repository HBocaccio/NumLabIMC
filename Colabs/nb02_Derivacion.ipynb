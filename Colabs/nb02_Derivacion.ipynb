{
  "cells": [
    {
      "cell_type": "markdown",
      "metadata": {
        "id": "view-in-github",
        "colab_type": "text"
      },
      "source": [
        "<a href=\"https://colab.research.google.com/github/HBocaccio/NumLabIMC/blob/main/Colabs/nb02_Derivacion.ipynb\" target=\"_parent\"><img src=\"https://colab.research.google.com/assets/colab-badge.svg\" alt=\"Open In Colab\"/></a>"
      ]
    },
    {
      "cell_type": "markdown",
      "source": [
        "# **Introducción al modelado continuo** (*a.k.a.* **Ecuaciones de la física matemática**)\n",
        "## Laboratorio numérico 2024\n",
        "\n",
        "Bienvenidos al laboratorio numérico de la materia *Introducción al modelado continuo*, también conocida como *Ecuaciones de la física matemática*. En este, vamos a ver métodos numéricos para resolver distintos tipos de problemas de manera general, y su relación y aplicación a problemas específicos de la materia, de manera tal de complementar los contenidos de la cursada teórico-práctica.\n"
      ],
      "metadata": {
        "id": "Yvti8mA19G9l"
      },
      "id": "Yvti8mA19G9l"
    },
    {
      "cell_type": "markdown",
      "id": "ee5b1248",
      "metadata": {
        "id": "ee5b1248"
      },
      "source": [
        "# Motivación de este colab\n",
        "<!-- $$\\require{amsmath}$$ -->\n",
        "\n",
        "Recordemos que estamos estudiando **sistemas dinámicos**, con reglas representadas por **ecuaciones diferenciales ordinarias (ODEs)** que describen la evolución temporal de una variable.\n",
        "\n",
        "En este marco, es importante recordar:\n",
        "* Nos concentraremos principalmente en **sistemas autónomos**, por lo que las variables no dependen explícitamente del tiempo y su evolución se define a partir de la ecuación $\\dot{x}=dx/dt=f(x)$\n",
        "* $f(x)$ es lo que llamamos un **campo vector**\n",
        "* Definimos como **punto fijo ($x^{*}$)** aquel para el cual se cumple que $\\dot{x}=f(x)=0$\n",
        "* De esta manera, si la condición inicial es $x(0)=x^{*}$, la única evolución temporal posible sería permanecer en ese punto fijo $\\forall t > 0$\n",
        "* El signo del campo vector define la **dirección del flujo**:\n",
        "    * Si $f(x) > 0$, entonces $\\dot{x} > 0$, por lo que $x$ crece.\n",
        "    * Si $f(x) < 0$, entonces $\\dot{x} < 0$, por lo que $x$ decrece.\n",
        "* La dirección del flujo me da indicios de la **estabilidad de un punto fijo**.\n",
        "* La **estabilidad de un punto fijo** también puede estudiarse calculando la **derivada del campo vector evaluada en cada punto fijo**.\n",
        "    * Dado el sistema dinámico autónomo 1D definido por $\\dot{x}=dx/dt=f(x)$\n",
        "    * Este sistema tiene puntos fijos $x^{*}$, que son las raíces del campo vector (donde el campo vector se hace cero) de la forma $\\dot{x}=f(x)=0$.\n",
        "    * Para estudiar la estabilidad de los puntos fijos, tengo que evaluar la derivada en el punto fijo de la forma $\\frac{df}{dx} \\Bigr\\rvert_{x^{\\*}} = f'(x^{*})$, donde\n",
        "        * Si $f'(x^{\\*}) > 0$, el punto fijo será **inestable**.\n",
        "        * Si $f'(x^{\\*}) < 0$, el punto fijo será **estable**.\n",
        "\n",
        "Entonces, teniendo los puntos fijos $x^{*}$ usando los métodos vistos en la clase pasada, podríamos analizar su **estabilidad** a partir de la **derivada del campo vector evaluada en el punto fijo**. Esto motiva a que estudiemos distintos **métodos numéricos para el cálculo de la derivada** de funciones.\n",
        "\n"
      ]
    },
    {
      "cell_type": "markdown",
      "source": [
        "# Derivada numérica\n",
        "\n",
        "La [derivada](https://en.wikipedia.org/wiki/Derivative) de una función $f(x)$ en $x=x_{0}$ se define como el límite del cociente incremental\n",
        "\n",
        "$$\n",
        "f'(x_{0}) = \\lim_{h \\to 0} \\frac{f(x_{0}+h) - f(x_{0})}{h}\n",
        "$$\n",
        "\n",
        "Consiste básicamente en calcular la pendiente de la secante entre el punto y el punto más un paso h, y hacer tender el paso h a cero, de manera tal que en este límite tienda a la pendiente de la recta tangente en el punto.\n",
        "\n",
        "<img align=center src=https://raw.githubusercontent.com/HBocaccio/NumLabIMC/main/Colabs/images/2.derivada.png width=\"400\">\n"
      ],
      "metadata": {
        "id": "lmc-XULbK1YK"
      },
      "id": "lmc-XULbK1YK"
    },
    {
      "cell_type": "markdown",
      "source": [
        "## Métodos para derivar una función\n",
        "\n",
        "Existen 3 [fórmulas de diferencias finitas](https://en.wikipedia.org/wiki/Finite_difference#Forward,_backward,_and_central_differences) principales para aproximar numéricamente las derivadas.\n",
        "\n",
        "La *fórmula de la diferencia progresiva (forward)* con un tamaño de paso $h$ es\n",
        "\n",
        "$$\n",
        "f'(x_{0}) \\approx \\frac{f(x_{0} + h) - f(x_{0})}{h}\n",
        "$$\n",
        "\n",
        "La *fórmula de la diferencia regresiva (backward)* con un tamaño de paso $h$ es\n",
        "\n",
        "$$\n",
        "f'(x_{0}) \\approx \\frac{f(x_{0}) - f(x_{0} - h)}{h}\n",
        "$$\n",
        "\n",
        "La *fórmula de la diferencia central* con un tamaño de paso $h$ es el promedio de las fórmulas de diferencia hacia delante y hacia atrás\n",
        "\n",
        "$$\n",
        "f'(x_{0}) \\approx \\frac{1}{2} \\left( \\frac{f(x_{0} + h) - f(x_{0})}{h} + \\frac{f(x_{0}) - f(x_{0} - h)}{h} \\right) = \\frac{f(x_{0} + h) - f(x_{0} - h)}{2h}\n",
        "$$"
      ],
      "metadata": {
        "id": "7bdJt4E3K4t7"
      },
      "id": "7bdJt4E3K4t7"
    },
    {
      "cell_type": "markdown",
      "source": [
        "### Ejercicio 1"
      ],
      "metadata": {
        "id": "ANmG5Gb_ogv2"
      },
      "id": "ANmG5Gb_ogv2"
    },
    {
      "cell_type": "markdown",
      "source": [
        "Escribamos una función llamada `derivar` que toma los parámetros de entrada `f`, `x0`, `method` y `h` (con valores predeterminados `method='central'` y `h=0.01`) y devuelve la fórmula de diferencia correspondiente para $f'(x_{0})$ con tamaño de paso $h$."
      ],
      "metadata": {
        "id": "yjl1BRoGK-bw"
      },
      "id": "yjl1BRoGK-bw"
    },
    {
      "cell_type": "code",
      "source": [
        "import numpy as np\n",
        "import matplotlib.pyplot as plt\n",
        "import scipy as sp"
      ],
      "metadata": {
        "id": "cHJ1Mf_QYOCj"
      },
      "id": "cHJ1Mf_QYOCj",
      "execution_count": null,
      "outputs": []
    },
    {
      "cell_type": "code",
      "source": [
        "# # # COMPLETAR"
      ],
      "metadata": {
        "id": "1mjjgYCyost5"
      },
      "id": "1mjjgYCyost5",
      "execution_count": null,
      "outputs": []
    },
    {
      "cell_type": "markdown",
      "source": [
        "Probemos nuestra función con algunas funciones simples. Por ejemplo, sabemos que\n",
        "\n",
        "$$\n",
        "\\left. \\frac{d}{dx} \\left( \\cos x \\right) \\, \\right|_{x=0} = -\\sin(0) = 0\n",
        "$$\n",
        "\n",
        "y calculamos"
      ],
      "metadata": {
        "id": "3_5zlJecLGZx"
      },
      "id": "3_5zlJecLGZx"
    },
    {
      "cell_type": "code",
      "source": [
        "derivar(np.cos, 0)"
      ],
      "metadata": {
        "id": "ilxA-T8bKx_p"
      },
      "id": "ilxA-T8bKx_p",
      "execution_count": null,
      "outputs": []
    },
    {
      "cell_type": "code",
      "execution_count": null,
      "id": "9b1aec3e",
      "metadata": {
        "id": "9b1aec3e"
      },
      "outputs": [],
      "source": [
        "derivar(np.cos, 0, method='forward', h=1e-8)"
      ]
    },
    {
      "cell_type": "markdown",
      "source": [
        "Observe que nuestra función puede tomar una matriz de entradas para $x0$ y devolver las derivadas para cada valor de $x0$. Por ejemplo, podemos representar gráficamente la derivada de $\\sin(x)$:"
      ],
      "metadata": {
        "id": "7xBaPo8hLY7Y"
      },
      "id": "7xBaPo8hLY7Y"
    },
    {
      "cell_type": "code",
      "source": [
        "x = np.linspace(0,5*np.pi,100)\n",
        "# Derivada estimada\n",
        "dydx = derivar(np.sin,x)\n",
        "# Derivada real conocida\n",
        "dYdx = np.cos(x)\n",
        "\n",
        "plt.figure(figsize=(6,5))\n",
        "plt.plot(x, dYdx, 'gray', label='Valor real')\n",
        "plt.plot(x, dydx, 'ro', label='Diferencia central')\n",
        "plt.legend(loc='upper right')\n",
        "plt.show()"
      ],
      "metadata": {
        "id": "lcHvGgMmLSNA"
      },
      "id": "lcHvGgMmLSNA",
      "execution_count": null,
      "outputs": []
    },
    {
      "cell_type": "markdown",
      "source": [
        "Con estos métodos podemos calcular numéricamente la derivada de funciones complicadas, para los cuales el cálculo de la derivada analítica no es trivial. Veamos el siguiente ejemplo\n",
        "\n",
        "$$\n",
        "y=\\left(\\frac{4x^2+2x+1}{x+2e^x}\\right)^x\n",
        "$$"
      ],
      "metadata": {
        "id": "w71wb4aOLeB3"
      },
      "id": "w71wb4aOLeB3"
    },
    {
      "cell_type": "code",
      "source": [
        "x = np.linspace(0, 6, 100)\n",
        "f = lambda x: ((4*x**2 + 2*x + 1)/(x + 2*np.exp(x)))**x\n",
        "y = f(x)\n",
        "dydx = derivar(f, x)\n",
        "\n",
        "plt.figure(figsize=(6,5))\n",
        "plt.plot(x, y, label='f(x)')\n",
        "plt.plot(x, dydx, label=\"Diferencia central f'(x)\")\n",
        "plt.legend()\n",
        "plt.grid(True)\n",
        "plt.show()"
      ],
      "metadata": {
        "id": "SfxFvPBxLds_"
      },
      "id": "SfxFvPBxLds_",
      "execution_count": null,
      "outputs": []
    },
    {
      "cell_type": "markdown",
      "source": [
        "## Error en la estimación de la derivada"
      ],
      "metadata": {
        "id": "9B0Yi055t0mI"
      },
      "id": "9B0Yi055t0mI"
    },
    {
      "cell_type": "markdown",
      "source": [
        "### Error de truncamiento\n",
        "\n",
        "En primer lugar, una parte del error de la estimación se debe a que estamos truncando el desarrollo de Taylor para aproximar la derivada.\n",
        "Del [Teorema de Taylor](https://en.wikipedia.org/wiki/Taylor%27s_theorem), podemos definir\n",
        "\n",
        "$$\n",
        "f(x) = f(x_{0}) + f'(x_{0})(x - x_{0}) + \\frac{f''(x_{0})}{2}(x-x_{0})^2 + \\frac{f'''(x_{0})}{6}(x-x_{0})^{3} + \\cdots\n",
        "$$\n",
        "\n",
        "Entonces, evaluando en $x=x_{0}+h$, podemos encontrar el **error de truncamiento del método de la diferencia progresiva** asociado a los términos de orden superior que estamos despreciando al aproximar por un polinomio de Taylor de grado 1. De esta manera, sabemos que esta componente del error de tener una cota definida por la expresión\n",
        "\n",
        "$$\n",
        "\\left| \\, \\frac{f(x_{0}+h) - f(x_{0})}{h} - f'(x_{0}) \\, \\right| \\leq \\frac{hK_2}{2}\n",
        "$$\n",
        "\n",
        "donde $\\left| \\, f''(x) \\, \\right| \\leq K_2$ para todo $x \\in [x_{0},x_{0}+h]$.\n",
        "\n",
        "De manera análoga, obtenemos que esta misma fórmula se aplica al **error de truncamiento del método de la diferencia regresiva**. Esto se debe a que en ambos casos necesitamos evaluar la función en 2 puntos y que los métodos son casos particulares de una forma más general pero para $h > 0$ y $h < 0$, respectivamente.\n",
        "\n",
        "Para el cálculo del **error de truncamiento del método de la diferencia central**, tenemos una expresión distinta, debido a que estamos evaluando la función en 3 puntos. De esta manera, el error debido al truncamiento al aproximar es menor (para h chico).\n",
        "\n",
        "\n",
        "$$\n",
        "\\left| \\frac{f(x_{0}+h) - f(x_{0}-h)}{2h} - f'(x_{0}) \\right| \\leq \\frac{h^2K_3}{6}\n",
        "$$\n",
        "\n",
        "donde $|f'''(x)| \\leq K_3$ para todo $x \\in [x_{0}-h,x_{0}+h]$.\n",
        "\n",
        "Esto se debe a que tenemos que truncar a polinomios de Taylor de grado 2, debido a que cuando evaluamos en $x = x_{0} + h$ y en $x = x_{0} - h$ el término cuadrático se cancela, como se muestra a continuación\n",
        "\n",
        "\\begin{align}\n",
        "f(x_{0}+h) &= f(x_{0}) + f'(x_{0})h + \\frac{f''(x_{0})}{2}h^2 + \\frac{f'''(c_1)}{6}h^{3} \\\\\\\n",
        "f(x_{0}-h) &= f(x_{0}) - f'(x_{0})h + \\frac{f''(x_{0})}{2}h^2 - \\frac{f'''(c_2)}{6}h^{3} \\\\\\\n",
        "f(x_{0}+h) - f(x_{0}-h) &= 2 f'(x_{0})h + \\frac{f'''(c_1)}{6}h^{3} + \\frac{f'''(c_2)}{6}h^{3} \\\\\\\n",
        "\\frac{f(x_{0}+h) - f(x_{0}-h)}{2h} - f'(x_{0}) &= \\frac{f'''(c_1) + f'''(c_2)}{12}h^{2}\n",
        "\\end{align}\n",
        "\n",
        "Donde consideramos que $f'''(x)$ es continua (por suposición) y $(f'''(c_1) + f'''(c_2))/2$ está entre $f'''(c_1)$ y $f'''(c_2)$ y, por lo tanto, existe algún $c$ entre $c_1$ y $c_2$, por la Teorema del valor intermedio, tal que\n",
        "\n",
        "$$\n",
        "f'''(c) = \\frac{f'''(c_1) + f'''(c_2)}{2}\n",
        "$$\n",
        "\n",
        "Entonces elegimos $K_3$ tal que $\\left| \\, f'''(x) \\, \\right| \\leq K_3$ para todo $x \\in [x_{0}-h,x_{0}+h]$ y obtenemos la expresión del error de más arriba.\n"
      ],
      "metadata": {
        "id": "vQoSBBXwLhlZ"
      },
      "id": "vQoSBBXwLhlZ"
    },
    {
      "cell_type": "markdown",
      "source": [
        "### Error de redondeo\n",
        "\n",
        "Si consideramos sólo el error de truncamiento, pareciera que siempre me conviene usar valores de $h$ muy chicos. Esta afirmación es en parte válida, pero se debe también tenerse en consideración el error de redondeo de la máquina.\n",
        "\n",
        "El error de redondeo $e$ en la estimación de los valores de la función evaluada será\n",
        "\n",
        "$$f(x) = \\hat{f}(x) + e(x)$$\n",
        "\n",
        "Por lo que para el método de la diferencia progresiva me queda la expresión\n",
        "\n",
        "$$\\frac{f(x_{0}+h) - f(x_{0})}{h} - f'(x_{0})=\\frac{\\hat{f}(x_{0}+h) - \\hat{f}(x_{0})}{h} - f'(x_{0})+\\frac{e(x_{0}+h) - e(x_{0})}{h}$$\n",
        "\n",
        "Y si suponemos que los errores de redondeo están acotados por un número $𝜀 > 0$, entonces voy a estar cometiendo un error que va como $𝜀/h$. Y procediendo análogamente, se puede mostrar que el error de redondeo para los otros métodos son también proporcionales a $𝜀/h$.\n",
        "\n",
        "Esto quiere decir que cuánto más chico es el $h$ mayor es el error de redondeo que voy a cometer en la estimación. De esta manera, el error total, que estará compuesto tanto por el error de truncamiento como por el error de redondeo, va a tener una dependencia con $h$ en la que se requiera un balance en su valor. El $h$ debe ser chico para reducir el error de truncamiento, pero tampoco tanto como para tener un error de redondeo alto."
      ],
      "metadata": {
        "id": "p9_QQvFGt20i"
      },
      "id": "p9_QQvFGt20i"
    },
    {
      "cell_type": "markdown",
      "source": [
        "### Ejercicio 2\n",
        "\n",
        "Se la función $f(x)=e^x$, calcule la derivada numérica con la función `derivar` del Ejercicio 1 para los 3 métodos de diferencias finitas, en $x_{0}=5$, para valores de $h$ entre 1e-7 y 1e-2 rellenando con un paso de 5e-7. Calcule el valor absoluto del error cometido en el cálculo de la derivada respecto de la real y grafique en función de $h$, con ambos ejes en escala logarítmica. Qué observa en el comportamiento del error?"
      ],
      "metadata": {
        "id": "x2_512N2uFoC"
      },
      "id": "x2_512N2uFoC"
    },
    {
      "cell_type": "code",
      "source": [
        "# # # Definimos algunas variables y funciones útiles como punto de partida para el ejercicio\n",
        "x0 = 5\n",
        "f = lambda x: np.exp(x)\n",
        "fprima = lambda x: np.exp(x)\n",
        "hs = np.arange(1e-7, 1e-2, 5e-7)"
      ],
      "metadata": {
        "id": "sFdfKX6V2Ouh"
      },
      "id": "sFdfKX6V2Ouh",
      "execution_count": null,
      "outputs": []
    },
    {
      "cell_type": "code",
      "source": [
        "# # # COMPLETAR"
      ],
      "metadata": {
        "id": "faq_etE31UhC"
      },
      "id": "faq_etE31UhC",
      "execution_count": null,
      "outputs": []
    },
    {
      "cell_type": "markdown",
      "metadata": {
        "id": "53953afe"
      },
      "source": [
        "# Estabilidad de puntos fijos\n"
      ],
      "id": "53953afe"
    },
    {
      "cell_type": "markdown",
      "source": [
        "Supongamos que tenemos el sistema dinámico\n",
        "\n",
        "$\\dot{x}=f(x)=x-x^{3}$"
      ],
      "metadata": {
        "id": "Iv-CQAjVpDEF"
      },
      "id": "Iv-CQAjVpDEF"
    },
    {
      "cell_type": "code",
      "execution_count": null,
      "metadata": {
        "id": "088d19f7"
      },
      "outputs": [],
      "source": [
        "# # # Defino la función campovector para el sistema dinámico\n",
        "def campovector(x):\n",
        "    return x-x**3"
      ],
      "id": "088d19f7"
    },
    {
      "cell_type": "code",
      "source": [
        "# # # Definios el dominio, evaluamos el campo vector, y graficamos\n",
        "x = np.arange(-1.5, 1.5, 0.01)\n",
        "y = campovector(x)\n",
        "plt.vlines(0, ymin=y.min(), ymax=y.max(), colors='k', ls='--', lw=1)\n",
        "plt.hlines(0, xmin=x.min(), xmax=x.max(), colors='k', ls='-', lw=1)\n",
        "plt.plot(x, y)\n",
        "plt.xlabel('$x$', fontsize=18)\n",
        "plt.ylabel('$f(x), \\dot{x}$', fontsize=18)\n",
        "plt.show()"
      ],
      "metadata": {
        "id": "4Rb48MxGqLYu"
      },
      "execution_count": null,
      "outputs": [],
      "id": "4Rb48MxGqLYu"
    },
    {
      "cell_type": "markdown",
      "source": [
        "Busco las raíces del campo vector. Para eso defino una función de Python que haga una exploración para N inicializaciones"
      ],
      "metadata": {
        "id": "Mu5GtD8CiOYO"
      },
      "id": "Mu5GtD8CiOYO"
    },
    {
      "cell_type": "code",
      "source": [
        "def root_finder(f, x, N=20, round=2, seed=0):\n",
        "    if seed is not None:\n",
        "        np.random.seed(seed)\n",
        "    condiciones_iniciales = np.random.choice(x, size=N)\n",
        "    soluciones = []\n",
        "    for c in condiciones_iniciales:\n",
        "        try:\n",
        "            sol = sp.optimize.newton(f, fprime=None, x0=c, tol=0.0001, maxiter=100, disp=False)\n",
        "            soluciones.append(sol)\n",
        "        except RuntimeError:\n",
        "            pass\n",
        "    return np.unique(np.array(soluciones).round(round))"
      ],
      "metadata": {
        "id": "wrOwCUOQfz8N"
      },
      "id": "wrOwCUOQfz8N",
      "execution_count": null,
      "outputs": []
    },
    {
      "cell_type": "code",
      "source": [
        "puntosfijos = root_finder(campovector, x)"
      ],
      "metadata": {
        "id": "4-PHrnhVhUi-"
      },
      "id": "4-PHrnhVhUi-",
      "execution_count": null,
      "outputs": []
    },
    {
      "cell_type": "code",
      "source": [
        "puntosfijos"
      ],
      "metadata": {
        "id": "fH7YHdwrmKXu"
      },
      "id": "fH7YHdwrmKXu",
      "execution_count": null,
      "outputs": []
    },
    {
      "cell_type": "markdown",
      "source": [
        "Calculo las pendientes en cada punto fijo usando la función `derivar` del ejercicio 1"
      ],
      "metadata": {
        "id": "8-KMU1vdKr9v"
      },
      "id": "8-KMU1vdKr9v"
    },
    {
      "cell_type": "code",
      "source": [
        "pendientes = []\n",
        "for x0 in puntosfijos:\n",
        "    pendientes.append(derivar(f=campovector, x0=x0))"
      ],
      "metadata": {
        "id": "l69LFfYUiryW"
      },
      "id": "l69LFfYUiryW",
      "execution_count": null,
      "outputs": []
    },
    {
      "cell_type": "code",
      "source": [
        "pendientes"
      ],
      "metadata": {
        "id": "A5TD8mtBfz5N"
      },
      "id": "A5TD8mtBfz5N",
      "execution_count": null,
      "outputs": []
    },
    {
      "cell_type": "markdown",
      "source": [
        "Defino una variable `estabilidad` que se fije en el signo de la derivada y a partir de este tome valor 1 (0) cuando el punto fijo sea estable (inestable), para cada punto fijo"
      ],
      "metadata": {
        "id": "bWKTMQDuK9Ui"
      },
      "id": "bWKTMQDuK9Ui"
    },
    {
      "cell_type": "code",
      "source": [
        "estabilidad = []\n",
        "for p in pendientes:\n",
        "    estabilidad.append(int(p < 0))"
      ],
      "metadata": {
        "id": "hITVm7NQk1m4"
      },
      "id": "hITVm7NQk1m4",
      "execution_count": null,
      "outputs": []
    },
    {
      "cell_type": "code",
      "source": [
        "estabilidad"
      ],
      "metadata": {
        "id": "YhtHY__-MExQ"
      },
      "id": "YhtHY__-MExQ",
      "execution_count": null,
      "outputs": []
    },
    {
      "cell_type": "markdown",
      "source": [
        "Calculo las ordenadas de las rectas tangentes al campo vector en los puntos fijos para estudiar el flujo y grafico"
      ],
      "metadata": {
        "id": "UEVKh0hrMg-m"
      },
      "id": "UEVKh0hrMg-m"
    },
    {
      "cell_type": "code",
      "source": [
        "ordenadas = -np.array(pendientes)*np.array(puntosfijos)"
      ],
      "metadata": {
        "id": "SPh3nU6ak1Z7"
      },
      "id": "SPh3nU6ak1Z7",
      "execution_count": null,
      "outputs": []
    },
    {
      "cell_type": "code",
      "execution_count": null,
      "metadata": {
        "id": "14b1bb2c"
      },
      "outputs": [],
      "source": [
        "markerfcolors = ['w', 'r']\n",
        "markerecolors = ['r', 'r']\n",
        "plt.vlines(0, ymin=y.min(), ymax=y.max(), colors='k', ls='--', lw=1)\n",
        "plt.hlines(0, xmin=x.min(), xmax=x.max(), colors='k', ls='-', lw=1)\n",
        "plt.plot(x, y)\n",
        "plt.xlabel('$x$', fontsize=18)\n",
        "plt.ylabel('$f(x), \\dot{x}$', fontsize=18)\n",
        "for p in np.arange(len(puntosfijos)):\n",
        "    epsilon = 0.1\n",
        "    n = 10\n",
        "    x_tmp = np.linspace(puntosfijos[p]-epsilon, puntosfijos[p]+epsilon, n)\n",
        "    y_tmp = pendientes[p]*x_tmp+ordenadas[p]\n",
        "    plt.plot(x_tmp, y_tmp, 'r')\n",
        "    plt.arrow(x_tmp[-2], y_tmp[-2], x_tmp[-1]-x_tmp[-2], y_tmp[-1]-y_tmp[-2],\n",
        "              shape='full', color='r', lw=0, length_includes_head=True, head_width=.06)\n",
        "    plt.plot(puntosfijos[p], 0, marker='o',\n",
        "             markerfacecolor=markerfcolors[estabilidad[p]], markeredgecolor=markerecolors[estabilidad[p]])\n",
        "plt.show()"
      ],
      "id": "14b1bb2c"
    },
    {
      "cell_type": "code",
      "execution_count": null,
      "metadata": {
        "id": "3d1ee06c"
      },
      "outputs": [],
      "source": [
        "markerfcolors = ['w', 'r']\n",
        "markerecolors = ['r', 'r']\n",
        "xmarkerstyle = ['<', '>']\n",
        "plt.vlines(0, ymin=y.min(), ymax=y.max(), colors='k', ls='--', lw=1)\n",
        "plt.hlines(0, xmin=x.min(), xmax=x.max(), colors='k', ls='-', lw=1)\n",
        "plt.plot(x, y)\n",
        "\n",
        "for p in np.arange(len(puntosfijos)):\n",
        "    puntosfijos_sorted = np.sort(puntosfijos)\n",
        "    if puntosfijos_sorted[p] == puntosfijos_sorted.min():\n",
        "        x_markers_tmp = [x[0]+(puntosfijos_sorted[p]-x[0])/2]\n",
        "    elif puntosfijos_sorted[p] == puntosfijos_sorted.max():\n",
        "        x_markers_tmp = [x[-1]-(x[-1]-puntosfijos[p])/2]\n",
        "    else:\n",
        "        x_markers_tmp = [puntosfijos_sorted[p]-(puntosfijos_sorted[p]-puntosfijos_sorted[p-1])/2,\n",
        "                        puntosfijos_sorted[p]+(puntosfijos_sorted[p+1]-puntosfijos_sorted[p])/2]\n",
        "    plt.plot(puntosfijos[p], 0, marker='o',\n",
        "             markerfacecolor=markerfcolors[estabilidad[p]], markeredgecolor=markerecolors[estabilidad[p]])\n",
        "    for i in np.arange(len(x_markers_tmp)):\n",
        "        plt.plot(x_markers_tmp[i], 0, c='k', marker=xmarkerstyle[int(campovector(x_markers_tmp[i]) > 0)])\n",
        "plt.xlabel('$x$', fontsize=18)\n",
        "plt.ylabel('$f(x), \\dot{x}$', fontsize=18)\n",
        "plt.show()"
      ],
      "id": "3d1ee06c"
    },
    {
      "cell_type": "markdown",
      "source": [
        "## Bifurcación de Pitchfork"
      ],
      "metadata": {
        "id": "lF3RiFT2M2mi"
      },
      "id": "lF3RiFT2M2mi"
    },
    {
      "cell_type": "markdown",
      "source": [
        "Estudiemos ahora el sistema dinámico asociado a una bifurcación de Pitchfork supercrítica, definido por la ecuación\n",
        "\n",
        "$\\dot{x}=f(x)=rx-x^{3}$"
      ],
      "metadata": {
        "id": "rvSmmGOhKJU0"
      },
      "id": "rvSmmGOhKJU0"
    },
    {
      "cell_type": "code",
      "source": [
        "# # # Defino la función campovector para el sistema dinámico, incluyendo el parámetro r\n",
        "def campovector(x, r):\n",
        "    return r*x-x**3"
      ],
      "metadata": {
        "id": "Lrc-S90SfaM4"
      },
      "id": "Lrc-S90SfaM4",
      "execution_count": null,
      "outputs": []
    },
    {
      "cell_type": "markdown",
      "source": [
        "Primero hago una inspección gráfica de $x^{3}$ y $rx$ para ver posibles intersecciones para distintos valores de $r$"
      ],
      "metadata": {
        "id": "mTRZ_bqYM9z7"
      },
      "id": "mTRZ_bqYM9z7"
    },
    {
      "cell_type": "code",
      "source": [
        "x = np.arange(-1.5, 1.5, 0.01)\n",
        "plt.plot(x, x**3, 'k')\n",
        "rs = np.arange(-2, 2.1, 0.5)\n",
        "for r in rs:\n",
        "    plt.plot(x, r*x, label=str(r))\n",
        "plt.xlabel('x', fontsize=18)\n",
        "plt.ylabel('y', fontsize=18)\n",
        "plt.legend(bbox_to_anchor=(1, 1))\n",
        "plt.show()"
      ],
      "metadata": {
        "id": "ub0l1KX1NKyY"
      },
      "id": "ub0l1KX1NKyY",
      "execution_count": null,
      "outputs": []
    },
    {
      "cell_type": "markdown",
      "source": [
        "Ahora grafico el campo vector"
      ],
      "metadata": {
        "id": "_IxVgAWNQVS0"
      },
      "id": "_IxVgAWNQVS0"
    },
    {
      "cell_type": "code",
      "source": [
        "x = np.arange(-1.5, 1.5, 0.01)\n",
        "rs = np.arange(-2, 2.1, 0.5)\n",
        "for r in rs:\n",
        "    y = campovector(x, r)\n",
        "    plt.plot(x, y, label=str(r))\n",
        "plt.xlabel('$x$', fontsize=18)\n",
        "plt.ylabel('$\\dot{x}$', fontsize=18)\n",
        "plt.legend(bbox_to_anchor=(1, 1))\n",
        "plt.show()"
      ],
      "metadata": {
        "id": "IPQaLQgJNKvF"
      },
      "id": "IPQaLQgJNKvF",
      "execution_count": null,
      "outputs": []
    },
    {
      "cell_type": "markdown",
      "source": [
        "A partir de estos gráficos, que puede suponer a priori de los puntos fijos?"
      ],
      "metadata": {
        "id": "fyjADtYLQra6"
      },
      "id": "fyjADtYLQra6"
    },
    {
      "cell_type": "markdown",
      "source": [
        "Ahora vamos a definir un conjunto de valores de $r$. Para cada $r$ vamos a definir un campo vector que sea el del sistema pero para ese valor de parámetro. Vamos a buscar de manera automatizada los puntos fijos, a definir su estabilidad, y a graficar cada punto fijo en función del parámetro para ver el diagrama de bifurcaciones"
      ],
      "metadata": {
        "id": "0-mVrqeURiaz"
      },
      "id": "0-mVrqeURiaz"
    },
    {
      "cell_type": "code",
      "source": [
        "markerfcolors = ['w', 'r']\n",
        "markerecolors = ['r', 'r']\n",
        "x = np.arange(-1.5, 1.5, 0.01)\n",
        "N = 20\n",
        "rs = np.arange(-1.5, 1.6, 0.1)\n",
        "for r in rs:\n",
        "    def campovector_r(x):\n",
        "        return campovector(x, r)\n",
        "    puntosfijos = root_finder(campovector_r, x, N=N)\n",
        "    pendientes = []\n",
        "    for x0 in puntosfijos:\n",
        "        p = derivar(f=campovector_r, x0=x0)\n",
        "        pendientes.append(p)\n",
        "        plt.plot(r, x0, 'o', markerfacecolor=markerfcolors[int(p < 0)], markeredgecolor=markerecolors[int(p < 0)])\n",
        "plt.xlabel('$r$', fontsize=18)\n",
        "plt.ylabel('$x^{*}$', fontsize=18)\n",
        "plt.show()"
      ],
      "metadata": {
        "id": "OjJvYifEfZn-"
      },
      "id": "OjJvYifEfZn-",
      "execution_count": null,
      "outputs": []
    },
    {
      "cell_type": "markdown",
      "source": [
        "*Observación: Notar que me aparece un punto fijo que no debería estar. A qué se puede deber? Se podría mejorar este artefacto en alguna parte del proceso?*"
      ],
      "metadata": {
        "id": "HWe-tyxKYXEI"
      },
      "id": "HWe-tyxKYXEI"
    },
    {
      "cell_type": "markdown",
      "source": [
        "## Ejercicio 3\n",
        "\n",
        "Estudiemos ahora el sistema dinámico asociado a una bifurcación de Pitchfork subcrítica, definido por la ecuación\n",
        "\n",
        "$\\dot{x}=f(x)=rx+x^{3}$"
      ],
      "metadata": {
        "id": "Jl7HPqGrXK0B"
      },
      "id": "Jl7HPqGrXK0B"
    },
    {
      "cell_type": "code",
      "source": [
        "# # # COMPLETAR"
      ],
      "metadata": {
        "id": "P8QRf9e1SOjz"
      },
      "id": "P8QRf9e1SOjz",
      "execution_count": null,
      "outputs": []
    },
    {
      "cell_type": "markdown",
      "source": [
        "# Derivada numérica aplicada a datos reales\n",
        "\n",
        "Hasta ahora, hablamos de derivadas numéricas de funciones, en los que definimos el $h$ con cualquier valor arbitrario que quisieramos. Esto era posible porque teníamos la expresión de la función. Qué pasa cuando tengo datos? Qué formato tienen los datos? Conozco esa relación entre variables?\n",
        "\n"
      ],
      "metadata": {
        "id": "iTybS065H_Tf"
      },
      "id": "iTybS065H_Tf"
    },
    {
      "cell_type": "markdown",
      "source": [
        "## Uso de paquetes de Python\n",
        "\n",
        "Los paquetes [NumPy](https://numpy.org/) y [SciPy](https://scipy.org/) tienen algunas funciones que nos pueden ayudar a calcular derivadas primeras. Por ejemplo, Scipy tiene la función `scipy.misc.derivative` utilizando la fórmula de diferencia central, pero tiene problemas, se aplica a funciones, y será despreciado en próximas versiones (recomiendan otros paquetes, ver documentación). Numpy tiene la función `numpy.diff` que sólo me calcula la diferencia entre elementos de un array, por lo que devuelve un array de tamaño n-1; y también la función `numpy.gradient` que usa la fórmula de diferencia central pero como variable de entrada pide un array para \"y\", y también se le puede pasar un array para \"x\" (ver documentación), lo que la hace ideal para trabajar con datos."
      ],
      "metadata": {
        "id": "-YKn1pO4Rkm8"
      },
      "id": "-YKn1pO4Rkm8"
    },
    {
      "cell_type": "code",
      "source": [
        "x = np.array([0.0, 0.1, 0.2, 0.3, 0.4])\n",
        "y = np.array([0.0, 0.0998, 0.1987, 0.2955, 0.3894])\n",
        "\n",
        "derivada = np.gradient(y, x)\n",
        "for i in range(0, len(x)):\n",
        "    print(\"La derivada en x = %f es %f\" % (x[i], derivada[i]))"
      ],
      "metadata": {
        "id": "kx9hdHuZR8vq"
      },
      "execution_count": null,
      "outputs": [],
      "id": "kx9hdHuZR8vq"
    },
    {
      "cell_type": "code",
      "source": [
        "delta = 0.01\n",
        "fig = plt.figure(figsize=(6,6))\n",
        "plt.plot(x, y, 'ko', label='datos')\n",
        "for i in range(0, len(x)):\n",
        "    ord = y[i]-np.array(derivada[i])*np.array(x[i])\n",
        "    plt.plot([x[i]-delta, x[i]+delta], [derivada[i]*(x[i]-delta)+ord, derivada[i]*(x[i]+delta)+ord], 'r', label='derivada')\n",
        "plt.xlabel('x', fontsize=16)\n",
        "plt.ylabel('y', fontsize=16)\n",
        "handles, labels = plt.gca().get_legend_handles_labels()\n",
        "_, idx = np.unique(np.array(labels), return_index=True)\n",
        "plt.legend(np.array(handles)[idx], np.array(labels)[np.sort(idx)], loc='upper left', fontsize=12)\n",
        "plt.show()"
      ],
      "metadata": {
        "id": "N0JDbXqkR9h9"
      },
      "execution_count": null,
      "outputs": [],
      "id": "N0JDbXqkR9h9"
    },
    {
      "cell_type": "markdown",
      "source": [
        "## Ejercicio 4: Dataset (resuelto)\n",
        "\n",
        "Vamos a cargar una base de datos de un repositorio público, con datos de [tránsito de peatones](https://archive.ics.uci.edu/dataset/536/pedestrian+in+traffic+dataset). Nos vamos a quedar sólo con las posiciones y vamos a calcular numéricamente las derivadas, como estimación de la velocidad. De esta manera, podemos observar algunas características estadísticas de las estimaciones obtenidas numéricamente de datos.\n",
        "\n",
        "1. Explorar el hipervínculo del repositirio donde se dá indicaciones de como cargar el dataset (tiene un paquete asociado).\n",
        "2. Descargar los datos y exportar las posiciones en \"x\" y en \"y\" únicamente para el sujeto indicado por la variable identificatoria \"oid\" igual a 19339.\n",
        "3. Graficar las posiciones. Pensar cómo esperaría que sean las derivadas de cada una de las variables.\n",
        "4. Calcular las derivadas de las posiciones \"x\" e \"y\" con la función `numpy.gradient`.\n",
        "5. Hacer un subplot en el que las posiciones compartan eje x con las derivadas de las posiciones. Observar cómo se comportan las derivadas y comparar con lo esperado."
      ],
      "metadata": {
        "id": "SfaT6MHZHUjD"
      },
      "id": "SfaT6MHZHUjD"
    },
    {
      "cell_type": "code",
      "source": [
        "import pandas as pd"
      ],
      "metadata": {
        "id": "feeC31XpJLuS"
      },
      "id": "feeC31XpJLuS",
      "execution_count": null,
      "outputs": []
    },
    {
      "cell_type": "code",
      "source": [
        "!pip install ucimlrepo"
      ],
      "metadata": {
        "id": "7_OwDR99FY8p"
      },
      "id": "7_OwDR99FY8p",
      "execution_count": null,
      "outputs": []
    },
    {
      "cell_type": "code",
      "source": [
        "from ucimlrepo import fetch_ucirepo\n",
        "\n",
        "# fetch dataset\n",
        "pedestrians_in_traffic = fetch_ucirepo(id=536)\n",
        "# data (as pandas dataframes)\n",
        "X = pedestrians_in_traffic.data.features\n",
        "y = pedestrians_in_traffic.data.targets\n",
        "# metadata\n",
        "print(pedestrians_in_traffic.metadata)\n",
        "# variable information\n",
        "print(pedestrians_in_traffic.variables)"
      ],
      "metadata": {
        "id": "H1kLFZdCFY52"
      },
      "id": "H1kLFZdCFY52",
      "execution_count": null,
      "outputs": []
    },
    {
      "cell_type": "code",
      "source": [
        "np.unique(X['oid'].values)"
      ],
      "metadata": {
        "id": "naNPm8mWFk9n"
      },
      "id": "naNPm8mWFk9n",
      "execution_count": null,
      "outputs": []
    },
    {
      "cell_type": "code",
      "source": [
        "X.groupby('oid')[['x', 'y']].count()"
      ],
      "metadata": {
        "id": "Sg0EtjOhFkIB"
      },
      "id": "Sg0EtjOhFkIB",
      "execution_count": null,
      "outputs": []
    },
    {
      "cell_type": "code",
      "source": [
        "pos_x = X[X['oid'] == 19339]['x'].ravel()\n",
        "pos_y = X[X['oid'] == 19339]['y'].ravel()"
      ],
      "metadata": {
        "id": "dldMcY69Gr0O"
      },
      "id": "dldMcY69Gr0O",
      "execution_count": null,
      "outputs": []
    },
    {
      "cell_type": "code",
      "source": [
        "plt.plot(pos_x, pos_y)"
      ],
      "metadata": {
        "id": "QmMsyVl5JEOo"
      },
      "id": "QmMsyVl5JEOo",
      "execution_count": null,
      "outputs": []
    },
    {
      "cell_type": "code",
      "source": [
        "plt.plot(pos_x)"
      ],
      "metadata": {
        "id": "YHWWrx-3JEMI"
      },
      "id": "YHWWrx-3JEMI",
      "execution_count": null,
      "outputs": []
    },
    {
      "cell_type": "code",
      "source": [
        "plt.plot(pos_y)"
      ],
      "metadata": {
        "id": "qf5lhUDtJEJn"
      },
      "id": "qf5lhUDtJEJn",
      "execution_count": null,
      "outputs": []
    },
    {
      "cell_type": "code",
      "source": [
        "derivada_x = np.gradient(pos_x)\n",
        "derivada_y = np.gradient(pos_y)"
      ],
      "metadata": {
        "id": "_ilHlA33Ja6u"
      },
      "id": "_ilHlA33Ja6u",
      "execution_count": null,
      "outputs": []
    },
    {
      "cell_type": "code",
      "source": [
        "fig, axs = plt.subplots(2, 2, figsize=(10,8), sharex=True)\n",
        "axs[0,0].plot(pos_x, c='k', lw=2, label='x')\n",
        "axs[0,0].legend(fontsize=16)\n",
        "axs[0,1].plot(pos_y, c='k', lw=2, label='y')\n",
        "axs[0,1].legend(fontsize=16)\n",
        "axs[1,0].plot(derivada_x, c='k', lw=2, label='derivada x')\n",
        "axs[1,0].legend(fontsize=16)\n",
        "axs[1,1].plot(derivada_y, c='k', lw=2, label='derivada y')\n",
        "axs[1,1].legend(fontsize=16)\n",
        "plt.show()"
      ],
      "metadata": {
        "id": "Noeji53eJa36"
      },
      "id": "Noeji53eJa36",
      "execution_count": null,
      "outputs": []
    },
    {
      "cell_type": "markdown",
      "source": [
        "Cómo se comportan las derivadas? Esperaba fluctuaciones en ambas derivadas al ver los valores de las posiciones?\n",
        "\n",
        "Hay un tema de ruido y de robustez de la estimación que necesitamos resolver y vamos a profundizar más adelante...\n",
        "\n"
      ],
      "metadata": {
        "id": "f01oJnMJrV0j"
      },
      "id": "f01oJnMJrV0j"
    }
  ],
  "metadata": {
    "kernelspec": {
      "display_name": "Python 3 (ipykernel)",
      "language": "python",
      "name": "python3"
    },
    "language_info": {
      "codemirror_mode": {
        "name": "ipython",
        "version": 3
      },
      "file_extension": ".py",
      "mimetype": "text/x-python",
      "name": "python",
      "nbconvert_exporter": "python",
      "pygments_lexer": "ipython3",
      "version": "3.10.9"
    },
    "colab": {
      "provenance": [],
      "toc_visible": true,
      "include_colab_link": true
    }
  },
  "nbformat": 4,
  "nbformat_minor": 5
}