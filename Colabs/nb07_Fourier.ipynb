{
  "cells": [
    {
      "cell_type": "markdown",
      "metadata": {
        "id": "view-in-github",
        "colab_type": "text"
      },
      "source": [
        "<a href=\"https://colab.research.google.com/github/HBocaccio/NumLabIMC/blob/main/Colabs/nb07_Fourier.ipynb\" target=\"_parent\"><img src=\"https://colab.research.google.com/assets/colab-badge.svg\" alt=\"Open In Colab\"/></a>"
      ]
    },
    {
      "cell_type": "markdown",
      "id": "wolRSUraVgBd",
      "metadata": {
        "id": "wolRSUraVgBd"
      },
      "source": [
        "# **Introducción al modelado continuo** (*a.k.a.* **Ecuaciones de la física matemática**)\n",
        "## Laboratorio numérico 2024\n",
        "\n",
        "Bienvenidos al laboratorio numérico de la materia *Introducción al modelado continuo*, también conocida como *Ecuaciones de la física matemática*. En este, vamos a ver métodos numéricos para resolver distintos tipos de problemas de manera general, y su relación y aplicación a problemas específicos de la materia, de manera tal de complementar los contenidos de la cursada teórico-práctica."
      ]
    },
    {
      "cell_type": "markdown",
      "id": "69sZ7VOLVjnE",
      "metadata": {
        "id": "69sZ7VOLVjnE"
      },
      "source": [
        "# Motivación de este colab\n",
        "<!-- $$\\require{amsmath}$$ -->\n",
        "\n",
        "En el estudio del modelado del continuo, las **series de Fourier** juegan un papel fundamental al permitir la descomposición de funciones periódicas en sumas de funciones armónicas (senos y cosenos), que son más fáciles de analizar. Esto es especialmente útil para resolver ecuaciones diferenciales, ya que muchas soluciones pueden expresarse en términos de estas funciones base. En este colab vamos a sentar las bases para complementar lo visto sobre cómo cualquier función periódica puede representarse como una suma infinita de funciones simples. Este concepto es crucial no solo en sistemas dinámicos, donde las soluciones pueden exhibir comportamiento periódico, sino también como un paso preparatorio para el análisis de ecuaciones en derivadas parciales, que abordaremos en el próximo eje temático.\n",
        "\n",
        "El trabajo de Fourier sobre la descomposición de funciones en series armónicas se originó en el contexto del estudio de la ecuación del calor, una ecuación diferencial parcial que describe cómo se distribuye el calor en un medio. En 1807, Joseph Fourier presentó su teoría sobre la propagación del calor en un sólido, postulando que cualquier función periódica puede representarse como una suma de senos y cosenos. Su enfoque rompió con las técnicas tradicionales de la época, generando debate, ya que proponía descomponer funciones arbitrarias, incluso discontinuas, en series de funciones suaves. La relevancia de su trabajo radica en que, además de resolver problemas físicos concretos, sentó las bases para muchas técnicas matemáticas modernas que permiten analizar sistemas periódicos y oscilatorios en distintas áreas de la ciencia, brindando herramientas que hasta el día de hoy son de las más utilizadas en el análisis de señales y de datos estructurados como series temporales o imágenes.\n",
        "\n",
        "Vamos a comenzar viendo algunas características de las **funciones armónicas**, y distintas propiedades que se vinculan con la matemática de las series de Fourier. En particular, usaremos como anclaje señales de **audio**. Probablemente las primeras secciones del colab sean sobre temas que ya saben y pueden resultar un poco obvias, pero vamos a utilizarlas para reforzar los conceptos base y para empezar a ver como aproximarnos desde Python a estos temas. Por lo que las primeras secciones son para pasarlas relativamente rápido.\n",
        "\n",
        "---"
      ]
    },
    {
      "cell_type": "code",
      "execution_count": null,
      "id": "963834a2",
      "metadata": {
        "id": "963834a2"
      },
      "outputs": [],
      "source": [
        "import numpy as np\n",
        "import matplotlib.pyplot as plt\n",
        "import scipy as sp"
      ]
    },
    {
      "cell_type": "markdown",
      "id": "ee5b1248",
      "metadata": {
        "id": "ee5b1248"
      },
      "source": [
        "# Funciones armónicas\n",
        "\n",
        "Las funciones armónicas son fundamentales en la física por su capacidad de describir fenómenos como ondas y vibraciones. En el contexto de Fourier, estudiaremos funciones senos y cosenos, que forman la base para descomponer cualquier función periódica en una serie de términos sencillos y oscilatorios. Las funciones seno y coseno de $x$, o sin(x) y cos(x), son funciones periódicas, lo que quiere decir que se repiten después de un rango de valores en $x$, que definen su período. En particular, sin(x) y cos(x) tienen período $2\\pi$. Estas funciones están integradas a Numpy. Empecemos entonces graficándolas y modificando el argumento a partir de parametrizarlo, para entender un poco más sobre la periodicidad de las funciones. Para eso, vamos a definir un dominio de valores de $x$ y a aplicarle la función trigonométrica seno. Una buena elección de valores de $x$ puede ser que esté acotado a una cantidad de veces su período, que es $2\\pi$."
      ]
    },
    {
      "cell_type": "code",
      "execution_count": null,
      "id": "b4d720df",
      "metadata": {
        "id": "b4d720df"
      },
      "outputs": [],
      "source": [
        "x = np.linspace(0, 2*np.pi, 100)\n",
        "y = np.sin(x)"
      ]
    },
    {
      "cell_type": "code",
      "execution_count": null,
      "id": "60199153",
      "metadata": {
        "id": "60199153"
      },
      "outputs": [],
      "source": [
        "plt.figure(figsize=(5, 5))\n",
        "plt.plot(x, y)\n",
        "plt.show()"
      ]
    },
    {
      "cell_type": "markdown",
      "source": [
        "Ahora, veamos qué pasaría si parametrizamos el argumento de la función armónica con una función lineal. Esto quiere decir, qué pasa si en el argumento ponemos una expresión del tipo $a.x+b$. Vamos a ver que estos parámetros tienen un rol muy específico y por eso tienen un nombre, una interpretación, y hasta una notación que suele ser más comúnmente usada. Entonces, la función armónica quedaría:\n",
        "\n",
        "$$\n",
        "y(x) = sin(f.x+\\phi)\n",
        "$$\n",
        "\n",
        "Donde $\\phi$ es la fase, y $f$ la frecuencia."
      ],
      "metadata": {
        "id": "YRivig4ezSBN"
      },
      "id": "YRivig4ezSBN"
    },
    {
      "cell_type": "markdown",
      "id": "8994f842",
      "metadata": {
        "id": "8994f842"
      },
      "source": [
        "## Frecuencia\n",
        "\n",
        "Veamos el efecto de $f$"
      ]
    },
    {
      "cell_type": "code",
      "execution_count": null,
      "id": "0f475711",
      "metadata": {
        "id": "0f475711"
      },
      "outputs": [],
      "source": [
        "f = 2\n",
        "x = np.linspace(0, 2*np.pi, 100)\n",
        "y = np.sin(f*x)"
      ]
    },
    {
      "cell_type": "code",
      "execution_count": null,
      "id": "c61e0654",
      "metadata": {
        "id": "c61e0654"
      },
      "outputs": [],
      "source": [
        "plt.figure(figsize=(5, 5))\n",
        "plt.plot(x, y)\n",
        "plt.show()"
      ]
    },
    {
      "cell_type": "markdown",
      "source": [
        "La frecuencia es la cantidad de ciclos u oscilaciones que una función realiza por unidad de tiempo o espacio. Entonces, si duplicamos la frecuencia, esto quiere decir que ahora entran 2 períodos en el mismo rango que en el que antes entraba 1 sólo período.\n",
        "\n",
        "Probemos de graficar al mismo tiempo, funciones armónicas de distintas frecuencias que sean múltiplos entre sí."
      ],
      "metadata": {
        "id": "EEaVpRoY0eM9"
      },
      "id": "EEaVpRoY0eM9"
    },
    {
      "cell_type": "code",
      "execution_count": null,
      "id": "284eedb1",
      "metadata": {
        "id": "284eedb1"
      },
      "outputs": [],
      "source": [
        "f1 = 2\n",
        "f2 = 3\n",
        "x = np.linspace(0, 2*np.pi, 1000)\n",
        "y1 = np.sin(f1*x)\n",
        "y2 = np.sin(f2*x)"
      ]
    },
    {
      "cell_type": "code",
      "execution_count": null,
      "id": "b8a4e152",
      "metadata": {
        "id": "b8a4e152"
      },
      "outputs": [],
      "source": [
        "plt.figure(figsize=(5, 5))\n",
        "plt.plot(x, y1)\n",
        "plt.plot(x, y2)\n",
        "plt.show()"
      ]
    },
    {
      "cell_type": "code",
      "execution_count": null,
      "id": "e1a5c0be",
      "metadata": {
        "id": "e1a5c0be"
      },
      "outputs": [],
      "source": [
        "f3 = 6\n",
        "y3 = np.sin(f3*x)"
      ]
    },
    {
      "cell_type": "code",
      "execution_count": null,
      "id": "0a639023",
      "metadata": {
        "id": "0a639023"
      },
      "outputs": [],
      "source": [
        "plt.figure(figsize=(5, 5))\n",
        "plt.plot(x, y1)\n",
        "plt.plot(x, y2)\n",
        "plt.plot(x, y3)\n",
        "plt.show()"
      ]
    },
    {
      "cell_type": "markdown",
      "source": [
        "## Fase\n",
        "\n",
        "De la misma manera, podemos ver el efecto de $\\phi$. Qué esperamos que haga?"
      ],
      "metadata": {
        "id": "WaE-_o3601LP"
      },
      "id": "WaE-_o3601LP"
    },
    {
      "cell_type": "code",
      "execution_count": null,
      "id": "89713c4c",
      "metadata": {
        "id": "89713c4c"
      },
      "outputs": [],
      "source": [
        "phis = np.linspace(0, 2*np.pi, 5)\n",
        "x = np.linspace(0, 2*np.pi, 100)\n",
        "plt.figure(figsize=(5, 5))\n",
        "for phi in phis:\n",
        "    y = np.sin(x+phi)\n",
        "    plt.plot(x, y, label=f\"$\\phi$ = {phi/np.pi} $\\pi$\")\n",
        "plt.legend()\n",
        "plt.show()"
      ]
    },
    {
      "cell_type": "markdown",
      "source": [
        "Como era de esperarse, la fase me agrega un corrimiento en $x$. Es decir, que el período sigue siendo el mismo, pero la función empieza en otro lado. En particular, noten que la función seno corrida en $\\pi/2$ es igual al coseno."
      ],
      "metadata": {
        "id": "lVaJFJVt2ZUY"
      },
      "id": "lVaJFJVt2ZUY"
    },
    {
      "cell_type": "code",
      "source": [
        "plt.figure(figsize=(5, 5))\n",
        "plt.plot(x, np.cos(x))\n",
        "plt.show()"
      ],
      "metadata": {
        "id": "bR2pFPN427Bu"
      },
      "id": "bR2pFPN427Bu",
      "execution_count": null,
      "outputs": []
    },
    {
      "cell_type": "markdown",
      "id": "23c5af6a",
      "metadata": {
        "id": "23c5af6a"
      },
      "source": [
        "---\n",
        "# Composición de funciones armónicas\n",
        "\n",
        "Para aproximarnos a las series de Fourier, vamos a ver la composición de funciones armónicas a partir de su suma.\n",
        "\n",
        "En un principio, vamos a sumar dos funciones armónicas con una de frecuencia del doble que la otra. Esto quiere decir que el período es la mitad. El período de la suma, es decir, cuándo se repite la forma de la composición, va a quedar definido por el período más largo."
      ]
    },
    {
      "cell_type": "code",
      "execution_count": null,
      "id": "30ac7664",
      "metadata": {
        "id": "30ac7664"
      },
      "outputs": [],
      "source": [
        "freqs = [2, 4]\n",
        "ys = np.empty((len(freqs), len(x)))\n",
        "for f in np.arange(len(freqs)):\n",
        "    y = np.sin(freqs[f]*x)\n",
        "    plt.plot(x, y)\n",
        "    ys[f] = y\n",
        "y_sum = np.sum(ys, axis=0)\n",
        "plt.plot(x, y_sum, label='suma')\n",
        "plt.legend()\n",
        "plt.show()"
      ]
    },
    {
      "cell_type": "markdown",
      "source": [
        "Ahora vamos a sumar varias funciones armónicas con mpultiplos impares de la frecuencia fundamental. Noten que además aplicamos un factor de reducción de la amplitud de las señales que vamos adicionando. Qué tipo de forma adquiere la composición?"
      ],
      "metadata": {
        "id": "jjhZtjv6Da0W"
      },
      "id": "jjhZtjv6Da0W"
    },
    {
      "cell_type": "code",
      "execution_count": null,
      "id": "89e5cbc2",
      "metadata": {
        "id": "89e5cbc2"
      },
      "outputs": [],
      "source": [
        "Nf = 100\n",
        "freqs = np.arange(1, Nf, 2)\n",
        "x = np.linspace(0, 2*np.pi, 10000)\n",
        "ys = np.empty((len(freqs), len(x)))\n",
        "for f in np.arange(len(freqs)):\n",
        "    y = 4/(np.pi*(freqs[f]))*np.sin(freqs[f]*x)\n",
        "    # plt.plot(x, y)\n",
        "    ys[f] = y\n",
        "y_sum = np.sum(ys, axis=0)\n",
        "plt.plot(x, y_sum)\n",
        "plt.show()"
      ]
    },
    {
      "cell_type": "markdown",
      "source": [
        "Y qué pasa si usamos los múltiplos pares? Qué forma se obtiene?"
      ],
      "metadata": {
        "id": "BfAsi-sYEDvy"
      },
      "id": "BfAsi-sYEDvy"
    },
    {
      "cell_type": "code",
      "source": [
        "Nf = 100\n",
        "freqs = np.arange(2, Nf, 2)\n",
        "x = np.linspace(0, 2*np.pi, 10000)\n",
        "ys = np.empty((len(freqs), len(x)))\n",
        "for f in np.arange(len(freqs)):\n",
        "    y = 4/(np.pi*(freqs[f]))*np.sin(freqs[f]*x)\n",
        "    # plt.plot(x, y)\n",
        "    ys[f] = y\n",
        "y_sum = np.sum(ys, axis=0)\n",
        "plt.plot(x, y_sum)\n",
        "plt.show()"
      ],
      "metadata": {
        "id": "Nxfp_ggCB7yy"
      },
      "id": "Nxfp_ggCB7yy",
      "execution_count": null,
      "outputs": []
    },
    {
      "cell_type": "markdown",
      "source": [
        "Estos ejemplos son una buena primera aproximación de cómo funciones periódicas se pueden descomponer en una suma de funciones armónicas, es decir una serie, teniendo en consideración ciertas propiedades de las frecuencias y amplitudes."
      ],
      "metadata": {
        "id": "ImNPoSyiEOfs"
      },
      "id": "ImNPoSyiEOfs"
    },
    {
      "cell_type": "markdown",
      "id": "sWz5GbX2Vy7H",
      "metadata": {
        "id": "sWz5GbX2Vy7H"
      },
      "source": [
        "---\n",
        "# Audio\n",
        "\n",
        "Un ejemplo que conocemos mucho de señal que oscila periódicamente es el sonido. Vamos a ver cómo generar y escuchar audios en Python a partir de funciones armónicas, así como también a observar algunas propiedades acústicas."
      ]
    },
    {
      "cell_type": "code",
      "execution_count": null,
      "id": "rbUN9Tb1V0lJ",
      "metadata": {
        "id": "rbUN9Tb1V0lJ"
      },
      "outputs": [],
      "source": [
        "from IPython.display import Audio\n",
        "from scipy.io.wavfile import write"
      ]
    },
    {
      "cell_type": "code",
      "source": [
        "# Función para generar una onda sinusoidal\n",
        "def generar_sinusoidal(frecuencia, duracion, fs=44100):\n",
        "    t = np.linspace(0, duracion, int(fs*duracion), endpoint=False)\n",
        "    onda = np.sin(2 * np.pi * frecuencia * t)\n",
        "    return onda, fs\n",
        "\n",
        "# Función para reproducir el sonido en Python usando IPython.display\n",
        "def reproducir_onda(onda, fs):\n",
        "    # Guardamos la onda en un archivo temporal\n",
        "    write(\"sonido.wav\", fs, np.int16(onda * 32767))\n",
        "    return Audio(\"sonido.wav\")"
      ],
      "metadata": {
        "id": "oRPqVb0wQaul"
      },
      "id": "oRPqVb0wQaul",
      "execution_count": null,
      "outputs": []
    },
    {
      "cell_type": "markdown",
      "source": [
        "## Notas\n",
        "\n",
        "La nota, o altura, va a estar definida por la frecuencia de oscilación de la onda de sonido."
      ],
      "metadata": {
        "id": "S6OC7Bd7QH11"
      },
      "id": "S6OC7Bd7QH11"
    },
    {
      "cell_type": "code",
      "execution_count": null,
      "id": "n1lan2QQV1go",
      "metadata": {
        "id": "n1lan2QQV1go"
      },
      "outputs": [],
      "source": [
        "# Parámetros de ejemplo\n",
        "frecuencia = 440  # Frecuencia en Hz (La estándar)\n",
        "duracion = 2.0  # Duración en segundos\n",
        "\n",
        "# Generar la onda\n",
        "onda, fs = generar_sinusoidal(frecuencia, duracion)\n",
        "\n",
        "# Reproducir la onda en Jupyter\n",
        "reproducir_onda(onda, fs)"
      ]
    },
    {
      "cell_type": "code",
      "execution_count": null,
      "id": "_jKBKYVzWzGm",
      "metadata": {
        "id": "_jKBKYVzWzGm"
      },
      "outputs": [],
      "source": [
        "# Graficar la onda\n",
        "plt.plot(onda[:1000])  # Graficamos los primeros 1000 puntos\n",
        "plt.title(f\"Onda Sinusoidal de {frecuencia} Hz\")\n",
        "plt.xlabel(\"Muestras\")\n",
        "plt.ylabel(\"Amplitud\")\n",
        "plt.show()"
      ]
    },
    {
      "cell_type": "markdown",
      "source": [
        "### Ejercicio 1\n",
        "\n",
        "El oído humano puede percibir frecuencias aproximadamente desde los 20Hz hasta los 20kHz. Este espectro se divide usualmente en octavas que siguen una escala logarítmica (la primera octava va aproximadamente de 16 a 32Hz, la segunda de 32 a 64, etc.). Los sonidos más nítidos se encuentran en la zona media, en las octavas quinta, sexta y séptima, en el rango de 200 - 2000Hz. La capacidad de oir los extremos del espectro (primera y undécima octavas) varía de persona en persona.\n",
        "\n",
        "Experimentar generando señales (y escuchándolas) con distintas frecuencias, en la zona media y en los extremos del espectro (**cuidado con el volumen y sus oídos!!**)."
      ],
      "metadata": {
        "id": "Ua5MI_5eN3MD"
      },
      "id": "Ua5MI_5eN3MD"
    },
    {
      "cell_type": "code",
      "source": [
        "# # # COMPLETAR"
      ],
      "metadata": {
        "id": "BHtKmapjN590"
      },
      "id": "BHtKmapjN590",
      "execution_count": null,
      "outputs": []
    },
    {
      "cell_type": "markdown",
      "metadata": {
        "id": "0n4nj8dYW7TM"
      },
      "source": [
        "## Armonías\n",
        "\n",
        "En música, la armonía se refiere a la combinación de notas tocadas simultáneamente, creando un sonido que puede ser consonante (estable y agradable) o disonante (tenso e inestable). Las notas en armonía tienen frecuencias relacionadas de manera que forman proporciones simples, como 2:1 (octava), 3:2 (quinta perfecta) o 4:3 (cuarta perfecta), lo que se percibe como consonancia.\n",
        "\n",
        "En términos matemáticos, estar en consonancia significa que las ondas de sonido de esas notas tienen frecuencias con relaciones proporcionales simples. Estas relaciones permiten que las ondas se superpongan de manera regular, con sus máximos y mínimos alineándose en patrones repetitivos. Esto minimiza la interferencia destructiva entre las ondas y genera una sensación de estabilidad en el sonido. Por ejemplo, en la quinta perfecta, la relación 3:2 indica que por cada 3 ciclos de la nota superior, la inferior completa 2 ciclos, creando una interferencia constructiva periódica que resulta en un sonido consonante."
      ],
      "id": "0n4nj8dYW7TM"
    },
    {
      "cell_type": "code",
      "execution_count": null,
      "metadata": {
        "id": "k4NAuglrWzBM"
      },
      "outputs": [],
      "source": [
        "# Generar dos ondas con una quinta perfecta (frecuencia2 = 3/2 * frecuencia1)\n",
        "frecuencia1 = 440  # La estándar\n",
        "frecuencia2 = frecuencia1 * 3/2  # Quinta perfecta\n",
        "\n",
        "# Generar las ondas\n",
        "onda1, fs = generar_sinusoidal(frecuencia1, duracion)\n",
        "onda2, fs = generar_sinusoidal(frecuencia2, duracion)\n",
        "\n",
        "# Sumar las ondas para generar armonías\n",
        "onda_armonia = onda1 + onda2\n",
        "\n",
        "# Reproducir la armonía\n",
        "reproducir_onda(onda_armonia, fs)"
      ],
      "id": "k4NAuglrWzBM"
    },
    {
      "cell_type": "markdown",
      "source": [
        "### Ejercicio 2\n",
        "\n",
        "Generar una señal que superponga varias frecuencias. Por ejemplo: una combinación lineal de las notas C\\#4 (277.183 Hz), E4 (329.628 Hz), A4 (440 Hz), que correspondería al acorde de LA mayor. Escuchar. Graficar dos o tres períodos de la onda. Es fácil deducir a simple vista qué frecuencias componen la señal resultante?"
      ],
      "metadata": {
        "id": "55Bahq0YQqwB"
      },
      "id": "55Bahq0YQqwB"
    },
    {
      "cell_type": "code",
      "source": [
        "# # # COMPLETAR"
      ],
      "metadata": {
        "id": "zHTcEDYUQ1NB"
      },
      "id": "zHTcEDYUQ1NB",
      "execution_count": null,
      "outputs": []
    },
    {
      "cell_type": "markdown",
      "id": "WsQRZoEnW1iU",
      "metadata": {
        "id": "WsQRZoEnW1iU"
      },
      "source": [
        "## Batidos\n",
        "\n",
        "Qué pasa si sumamos funciones armónicas con frecuencias muy cercanas entre sí?"
      ]
    },
    {
      "cell_type": "code",
      "execution_count": null,
      "id": "EPqpUPCuWzD9",
      "metadata": {
        "id": "EPqpUPCuWzD9"
      },
      "outputs": [],
      "source": [
        "# Generar dos ondas con frecuencias cercanas\n",
        "frecuencia1 = 440  # La estándar\n",
        "frecuencia2 = 442  # Frecuencia cercana (batido)\n",
        "\n",
        "# Generar las ondas\n",
        "onda1, fs = generar_sinusoidal(frecuencia1, duracion)\n",
        "onda2, fs = generar_sinusoidal(frecuencia2, duracion)\n",
        "\n",
        "# Sumar las ondas para generar batidos\n",
        "onda_batido = onda1 + onda2\n",
        "\n",
        "# Reproducir los batidos\n",
        "reproducir_onda(onda_batido, fs)"
      ]
    },
    {
      "cell_type": "markdown",
      "source": [
        "El fenómeno de batido ocurre cuando se superponen dos ondas de frecuencias ligeramente diferentes. La interferencia entre ambas produce una oscilación modulada, donde se observa una variación en la amplitud con una frecuencia baja (la frecuencia del batido) y una frecuencia rápida que corresponde al promedio de las frecuencias originales.\n",
        "\n",
        "Matemáticamente, se describe sumando dos senos de frecuencias cercanas:\n",
        "\n",
        "$$\n",
        "\\sin(\\omega_1 t) + \\sin(\\omega_2 t) = 2 \\cos\\left( \\frac{\\omega_1 - \\omega_2}{2} t \\right) \\sin\\left( \\frac{\\omega_1 + \\omega_2}{2} t \\right)\n",
        "$$\n",
        "\n",
        "Aquí, $\\frac{\\omega_1 - \\omega_2}{2}$ es la frecuencia de batido, responsable de la modulación de la amplitud.\n",
        "\n",
        "Veamos la forma de la onda"
      ],
      "metadata": {
        "id": "oESA2rPUMNWr"
      },
      "id": "oESA2rPUMNWr"
    },
    {
      "cell_type": "code",
      "source": [
        "# Graficar la onda\n",
        "t = np.linspace(0, duracion, int(fs*duracion), endpoint=False)\n",
        "plt.plot(t, onda_batido)  # Graficamos los primeros 1000 puntos\n",
        "plt.xlabel(\"Tiempo [seg]\", fontsize=16)\n",
        "plt.ylabel(\"Amplitud\", fontsize=16)\n",
        "plt.show()"
      ],
      "metadata": {
        "id": "K5WdMCejM4XT"
      },
      "id": "K5WdMCejM4XT",
      "execution_count": null,
      "outputs": []
    },
    {
      "cell_type": "markdown",
      "source": [
        "## Timbre\n",
        "\n",
        "El timbre, a menudo descrito como el \"color\" o \"carácter\" del sonido, se refiere a las cualidades que permiten distinguir diferentes fuentes sonoras, incluso cuando tocan la misma nota y a la misma intensidad. Este fenómeno se debe a la combinación de las frecuencias fundamentales y las armonías (o sobretonos) presentes en el sonido.\n",
        "\n",
        "Matemáticamente, el timbre se puede entender en términos de la composición espectral de una onda sonora. Un instrumento musical produce no solo la frecuencia fundamental, sino también una serie de armónicos, que son múltiplos enteros de esta frecuencia. La amplitud y la fase de estos armónicos determinan el timbre del sonido. Por ejemplo, un piano y un violín que tocan la misma nota tendrán un timbre diferente porque generan diferentes patrones de sobretonos, resultando en percepciones auditivas distintivas.\n",
        "\n",
        "Por ejemplo, una onda cuadrada va a ser una composición de funciones armónicas, por lo que además de tener una frecuencia fundamental, va a tener un montón de armónicos."
      ],
      "metadata": {
        "id": "pom2vmqwCKfu"
      },
      "id": "pom2vmqwCKfu"
    },
    {
      "cell_type": "code",
      "execution_count": null,
      "id": "GzcvjxceXaY9",
      "metadata": {
        "id": "GzcvjxceXaY9"
      },
      "outputs": [],
      "source": [
        "# Generar onda cuadrada\n",
        "Nf = 1000\n",
        "frecuencia = 1\n",
        "frecuencias = np.arange(frecuencia, Nf*frecuencia, 2*frecuencia)\n",
        "onda_cuadrada = np.empty(())\n",
        "for f in frecuencias:\n",
        "    onda, fs = generar_sinusoidal(f, duracion)\n",
        "    amplitud = 4/(np.pi*f)\n",
        "    onda_cuadrada = onda_cuadrada + amplitud*onda\n",
        "# Reproducir la armonía\n",
        "reproducir_onda(onda_cuadrada, fs)"
      ]
    },
    {
      "cell_type": "code",
      "execution_count": null,
      "id": "UaT8aV36hFm7",
      "metadata": {
        "id": "UaT8aV36hFm7"
      },
      "outputs": [],
      "source": [
        "plt.plot(onda_cuadrada)\n",
        "plt.xlabel(\"Muestras\")\n",
        "plt.ylabel(\"Amplitud\")\n",
        "plt.show()"
      ]
    },
    {
      "cell_type": "markdown",
      "source": [
        "Tanto en el audio como en el gráfico de la onda, se observa un fenómeno particular en las transiciones. Este fenómeno se conoce como overshooting (o sobreimpulso). En una onda cuadrada generada a partir de una serie de Fourier truncada, se refiere al fenómeno en el que la amplitud de la onda excede el valor máximo esperado en los puntos de transición, es decir, en los bordes de la onda cuadrada. Esto ocurre debido a la naturaleza de las series de Fourier, que, al truncarse (es decir, al considerar solo un número limitado de términos), no puede representar perfectamente las discontinuidades de la forma de onda cuadrada."
      ],
      "metadata": {
        "id": "ATu5mqV9aZqD"
      },
      "id": "ATu5mqV9aZqD"
    },
    {
      "cell_type": "markdown",
      "id": "05f6f863",
      "metadata": {
        "id": "05f6f863"
      },
      "source": [
        "---\n",
        "# Series de Fourier\n",
        "\n",
        "Una serie de Fourier se define como una expansión de una función o representación de una función en una serie de senos y cosenos, tal que\n",
        "\n",
        "$$\n",
        "f(x) = \\frac{a_0}{2} + \\sum_{n=1}^{\\infty} a_n cos(nx) + \\sum_{n=1}^{\\infty} b_n sin(nx)\n",
        "$$\n",
        "\n",
        "Donde los coeficientes están relacionados con la función periódica f(x) mediante integrales definidas:\n",
        "\n",
        "$$\n",
        "a_n = \\frac{1}{\\pi} \\int_{0}^{2\\pi} f(x) cos(nx) dx \\\\\n",
        "b_n = \\frac{1}{\\pi} \\int_{0}^{2\\pi} f(x) sin(nx) dx\n",
        "$$\n",
        "\n",
        "Entonces, vemos que para calcular los coefientes es necesario calcular integrales definidas, para lo cual usaremos la regla del trapecio compuesta.\n"
      ]
    },
    {
      "cell_type": "markdown",
      "source": [
        "## Regla del trapecio compuesta\n",
        "\n",
        "La regla del trapecio compuesta es un método numérico utilizado para aproximar la integral de una función. Consiste en dividir el intervalo de integración en $n$ subintervalos de igual longitud y aplicar la regla del trapecio a cada uno de esos subintervalos. La fórmula general se expresa de la siguiente manera:\n",
        "\n",
        "Dividir el intervalo $[a, b]$ en $n$ subintervalos de igual longitud $h$:\n",
        "\n",
        "$$\n",
        "h = \\frac{b - a}{n}\n",
        "$$\n",
        "\n",
        "Los puntos de división son $x_0, x_1, \\ldots, x_n$, donde $x_0 = a$ y $x_n = b$.\n",
        "\n",
        "Aplicar la regla del trapecio a cada subintervalo:\n",
        "\n",
        "$$\n",
        "\\int_a^b f(x) \\, dx \\approx \\frac{h}{2} \\left( f(x_0) + 2\\sum_{i=1}^{n-1} f(x_i) + f(x_n) \\right)\n",
        "$$\n",
        "\n",
        "En esta fórmula, $f(x_0)$ y $f(x_n)$ son los valores de la función en los extremos del intervalo, y $2\\sum_{i=1}^{n-1} f(x_i)$ representa el doble de la suma de los valores de la función en los puntos internos. Esta aproximación es generalmente más precisa que la regla del trapecio simple, ya que considera múltiples subintervalos y promedia mejor la función a lo largo del intervalo de integración.\n"
      ],
      "metadata": {
        "id": "lATlg0CTf9UH"
      },
      "id": "lATlg0CTf9UH"
    },
    {
      "cell_type": "markdown",
      "id": "-YVpKB3NZ9Ca",
      "metadata": {
        "id": "-YVpKB3NZ9Ca"
      },
      "source": [
        "Vamos a implementar una función que estime una integral a través de una regla de trapecios compuesta. Debe recibir la función a integrar, el intervalo de integración y el número de intervalos de la partición. Después vamos a probar esta función integrando el seno de $x$ entre $0$ y $\\pi$."
      ]
    },
    {
      "cell_type": "code",
      "source": [
        "def trapezoidal_rule(f, a, b, n):\n",
        "    # Calcular la longitud del subintervalo\n",
        "    h = (b - a) / n\n",
        "    # Calcular los puntos de evaluación\n",
        "    x = np.linspace(a, b, n + 1)\n",
        "    # Calcular los valores de la función en los puntos\n",
        "    y = f(x)\n",
        "    # Aplicar la regla del trapecio compuesta\n",
        "    integral = (h / 2) * (y[0] + 2 * np.sum(y[1:n]) + y[n])\n",
        "    return integral"
      ],
      "metadata": {
        "id": "k2NfDFIkgyMp"
      },
      "id": "k2NfDFIkgyMp",
      "execution_count": null,
      "outputs": []
    },
    {
      "cell_type": "code",
      "execution_count": null,
      "id": "e102a94d",
      "metadata": {
        "id": "e102a94d"
      },
      "outputs": [],
      "source": [
        "# Ejemplo de uso\n",
        "f = lambda x: np.sin(x)  # Definir la función a integrar\n",
        "a = 0                     # Límite inferior\n",
        "b = np.pi                 # Límite superior\n",
        "n = 100                   # Número de subintervalos\n",
        "\n",
        "resultado = trapezoidal_rule(f, a, b, n)\n",
        "print(f'La integral aproximada es: {resultado}')"
      ]
    },
    {
      "cell_type": "markdown",
      "source": [
        "### Ejercicio 3\n",
        "\n",
        "Esta función también está implementada en Numpy, usando `np.trapz`. Calcule la misma integral que antes y compare.\n",
        "\n"
      ],
      "metadata": {
        "id": "NwIyRdH6ibia"
      },
      "id": "NwIyRdH6ibia"
    },
    {
      "cell_type": "code",
      "source": [
        "# # # COMPLETAR"
      ],
      "metadata": {
        "id": "PqHQCPwumqNe"
      },
      "id": "PqHQCPwumqNe",
      "execution_count": null,
      "outputs": []
    },
    {
      "cell_type": "markdown",
      "source": [
        "## Cálculo de coeficientes"
      ],
      "metadata": {
        "id": "yIh510TzlSaR"
      },
      "id": "yIh510TzlSaR"
    },
    {
      "cell_type": "markdown",
      "id": "_UogiH80aLMM",
      "metadata": {
        "id": "_UogiH80aLMM"
      },
      "source": [
        "### Ejercicio 4\n",
        "\n",
        "Implementar una función que compute mediante integración numérica, usando `np.trapz`, estos coeficientes hasta un cierto $N$ y devuelva la función que corresponde a la serie truncada."
      ]
    },
    {
      "cell_type": "code",
      "source": [
        "# # # COMPLETAR"
      ],
      "metadata": {
        "id": "jyK7u3BEl3I6"
      },
      "id": "jyK7u3BEl3I6",
      "execution_count": null,
      "outputs": []
    },
    {
      "cell_type": "markdown",
      "id": "7GFlmUNGa90U",
      "metadata": {
        "id": "7GFlmUNGa90U"
      },
      "source": [
        "### Ejercicio 5\n",
        "\n",
        "Utilizando el ejercicio anterior, calcular aproximaciones por funciones armónicas de la función $f(x) = x^4$. Graficar $f$ y sus aproximaciones sucesivas."
      ]
    },
    {
      "cell_type": "code",
      "source": [
        "# # # COMPLETAR"
      ],
      "metadata": {
        "id": "8OznWi9jnTtP"
      },
      "id": "8OznWi9jnTtP",
      "execution_count": null,
      "outputs": []
    },
    {
      "cell_type": "markdown",
      "source": [
        "# Promedio de una función periódica\n",
        "\n",
        "La integral de una función periódica se puede utilizar para calcular su promedio en un intervalo completo de su período. La idea es que el promedio de una función periódica sobre un período completo es igual a la integral de la función dividida por la longitud del período.\n",
        "\n",
        "Para una función periódica $f(x)$ con período $T$, el promedio $\\bar{f}$ se puede calcular como:\n",
        "\n",
        "$$\n",
        "\\bar{f} = \\frac{1}{T} \\int_0^T f(x) dx\n",
        "$$\n",
        "\n",
        "Por ejemplo, para la función $f(x) = \\sin(x)$, con período $T = 2\\pi$,\n",
        "\n",
        "$$\n",
        "\\bar{f} = \\frac{1}{2\\pi} \\int_0^{2\\pi} \\sin(x) dx = 0\n",
        "$$\n",
        "\n",
        "Que es efectivamente lo que vale el promedio, ya que la función seno tiene igual área positiva y negativa en un período completo.\n"
      ],
      "metadata": {
        "id": "A4jgQ0jVlLQZ"
      },
      "id": "A4jgQ0jVlLQZ"
    },
    {
      "cell_type": "markdown",
      "source": [
        "## Ejercicio 6\n",
        "\n",
        "6.1. Calcular la integral de la función $f(x)=(sin(x))^2$ en un período.\n",
        "6.2. Comparar con el promedio obtenido de evaluar en un conjunto de valores.\n",
        "6.3. Qué pasa si ahora integramos en 2 veces el período? Observe que calcular la media en un período es igual a calcular la media en más períodos."
      ],
      "metadata": {
        "id": "au0vRpvzqHtx"
      },
      "id": "au0vRpvzqHtx"
    },
    {
      "cell_type": "code",
      "execution_count": null,
      "id": "9b1aec3e",
      "metadata": {
        "id": "9b1aec3e"
      },
      "outputs": [],
      "source": [
        "# # # COMPLETAR"
      ]
    },
    {
      "cell_type": "markdown",
      "source": [
        "# Paridad de funciones\n",
        "\n",
        "La paridad de funciones se refiere a la simetría de una función con respecto al origen o al eje vertical. Una función $f(x)$ es **par** si cumple $f(x) = f(-x)$ para todo $x$, lo que significa que su gráfica es simétrica respecto al eje $y$. En cambio, es **impar** si satisface $f(x) = -f(-x)$, lo que implica que su gráfica es simétrica respecto al origen.\n",
        "\n",
        "Para calcular los coeficientes de Fourier de una función, si sabemos que es par, sólo necesitaremos los coeficientes $a_n$ (coseno), ya que todos los coeficientes $b_n$ (seno) serán cero.\n",
        "\n",
        "Por ejemplo, para una función par como $f(x) = x^2$ en el intervalo $[-L, L]$, los coeficientes de Fourier se calculan como:\n",
        "\n",
        "$$\n",
        "a_0 = \\frac{1}{2L} \\int_{-L}^{L} f(x) dx, \\quad a_n = \\frac{1}{L} \\int_{-L}^{L} f(x) \\cos\\left(\\frac{n \\pi x}{L}\\right) dx\n",
        "$$\n",
        "\n",
        "donde $b_n = 0$ para todo $n$. Esto simplifica el cálculo de la serie de Fourier al eliminar los términos de seno."
      ],
      "metadata": {
        "id": "MutQmXlpsKjK"
      },
      "id": "MutQmXlpsKjK"
    },
    {
      "cell_type": "markdown",
      "source": [
        "## Ejercicio 7\n",
        "\n",
        "7.1. Para la función $f(x) = x^2$, haga el gráfico de $f(x)$ contra $f(-x)$. Qué me dice esto de la paridad de la función?\n",
        "\n",
        "7.2. Calcule los coeficientes $b_n$ en el intervalo entre $-\\pi$ y $\\pi$ y muestre que efectivamente son cero."
      ],
      "metadata": {
        "id": "A1Duo_1TtKCG"
      },
      "id": "A1Duo_1TtKCG"
    },
    {
      "cell_type": "code",
      "source": [
        "# # # COMPLETAR"
      ],
      "metadata": {
        "id": "yQx31dOGt8Tm"
      },
      "id": "yQx31dOGt8Tm",
      "execution_count": null,
      "outputs": []
    },
    {
      "cell_type": "markdown",
      "source": [
        "# Ortogonalidad de funciones armónicas\n",
        "\n",
        "La ortogonalidad de los senos (o cosenos) asegura que cada frecuencia en la serie de Fourier se mantiene independiente de las demás, permitiendo descomponer cualquier función periódica en una suma de senos (y cosenos) sin interferencias entre las diferentes componentes de frecuencia.\n",
        "\n",
        "Para $m$ y $n$ enteros positivos, las funciones seno $\\sin(mx)$ y $\\sin(nx)$ son ortogonales en el intervalo $[0, 2\\pi]$ si $m \\neq n$, lo que significa que:\n",
        "\n",
        "$$\n",
        "\\int_0^{2\\pi} \\sin(mx) \\sin(nx) dx = 0 \\quad \\text{si} \\quad m \\neq n\n",
        "$$\n",
        "\n",
        "En cambio, si $m = n$, la integral no es cero, sino que tiene un valor proporcional a $\\pi$:\n",
        "\n",
        "$$\n",
        "\\int_0^{2\\pi} \\sin^2(nx) dx = \\pi\n",
        "$$\n",
        "\n",
        "El producto interno de funciones se define como\n",
        "\n",
        "$$\n",
        "\\langle f, g \\rangle = \\int_0^{2\\pi} f(x) g(x) \\, dx\n",
        "$$\n",
        "\n",
        "Esto quiere decir, que las funciones armónicas de distinta frecuencia son ortogonales, ya que su producto interno es cero. Esta propiedad es necesaria para que puedan formar una base y que entonces tenga sentido el desarrollo en series de Fourier.\n"
      ],
      "metadata": {
        "id": "UUbuZ13kvzPP"
      },
      "id": "UUbuZ13kvzPP"
    },
    {
      "cell_type": "markdown",
      "source": [
        "## Ejercicio 8\n",
        "\n",
        "Mostrar que las funciones coseno para algún par de frecuencias distintas en particular son ortogonales."
      ],
      "metadata": {
        "id": "YiFiZm_Hx7po"
      },
      "id": "YiFiZm_Hx7po"
    },
    {
      "cell_type": "code",
      "source": [
        "# # # COMPLETAR"
      ],
      "metadata": {
        "id": "y9DqkPKxyMpu"
      },
      "id": "y9DqkPKxyMpu",
      "execution_count": null,
      "outputs": []
    },
    {
      "cell_type": "code",
      "source": [],
      "metadata": {
        "id": "Zy4Ap-PPyNWX"
      },
      "id": "Zy4Ap-PPyNWX",
      "execution_count": null,
      "outputs": []
    }
  ],
  "metadata": {
    "colab": {
      "provenance": [],
      "toc_visible": true,
      "include_colab_link": true
    },
    "kernelspec": {
      "display_name": "Python 3 (ipykernel)",
      "language": "python",
      "name": "python3"
    },
    "language_info": {
      "codemirror_mode": {
        "name": "ipython",
        "version": 3
      },
      "file_extension": ".py",
      "mimetype": "text/x-python",
      "name": "python",
      "nbconvert_exporter": "python",
      "pygments_lexer": "ipython3",
      "version": "3.10.9"
    }
  },
  "nbformat": 4,
  "nbformat_minor": 5
}