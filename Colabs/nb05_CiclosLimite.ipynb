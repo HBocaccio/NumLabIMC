{
  "cells": [
    {
      "cell_type": "markdown",
      "metadata": {
        "id": "view-in-github",
        "colab_type": "text"
      },
      "source": [
        "<a href=\"https://colab.research.google.com/github/HBocaccio/NumLabIMC/blob/main/Colabs/nb05_CiclosLimite.ipynb\" target=\"_parent\"><img src=\"https://colab.research.google.com/assets/colab-badge.svg\" alt=\"Open In Colab\"/></a>"
      ]
    },
    {
      "cell_type": "markdown",
      "source": [
        "> (Última Actualización: 23 de Septiembre de 2025)"
      ],
      "metadata": {
        "id": "2719IgcGAgEZ"
      },
      "id": "2719IgcGAgEZ"
    },
    {
      "cell_type": "markdown",
      "id": "BOepFYbhg2H0",
      "metadata": {
        "id": "BOepFYbhg2H0"
      },
      "source": [
        "# **Introducción al modelado continuo** (*a.k.a.* **Ecuaciones de la física matemática**)\n",
        "## Laboratorio numérico\n",
        "\n",
        "Bienvenidos al laboratorio numérico de la materia *Introducción al modelado continuo*, también conocida como *Ecuaciones de la física matemática*. En este, vamos a ver métodos numéricos para resolver distintos tipos de problemas de manera general, y su relación y aplicación a problemas específicos de la materia, de manera tal de complementar los contenidos de la cursada teórico-práctica."
      ]
    },
    {
      "cell_type": "markdown",
      "id": "6rixVwE4g6tm",
      "metadata": {
        "id": "6rixVwE4g6tm"
      },
      "source": [
        "# Motivación de este colab\n",
        "<!-- $$\\require{amsmath}$$ -->\n",
        "\n",
        "Recordemos que estamos estudiando **sistemas dinámicos**, con reglas representadas por **ecuaciones diferenciales ordinarias (ODEs)**. En el caso 2D, vamos a tener conjuntos de pares de ecuaciones que describen la evolución temporal de dos variables.\n",
        "\n",
        "Podemos ver directamente como encontrar **soluciones al problema de valor inicial en 2D** usando métodos de **integración numérica** 2D, que van a ser trayectorias en el diagrama de fases. Además vimos que podemos entender mejor el sistema mediante la aplicación de diversas **herramientas gráficas**. Esto nos permitió estudiar distintos tipos de puntos fijos de acuerdo a como condicionan el flujo en el espacio de fases.\n",
        "\n",
        "En este Colab, vamos a aplicar las herramientas aprendidas para el estudio del flujo bidimensional, pero en este caso para incorporar nuevos elementos dinámicos relevantes, los cuales no podían aparecer para sistemas unidimensionales. Se trata de los **ciclos límite**.\n",
        "\n",
        "$$\n",
        "x(t_0+\\tau) = x(t_0) \\neq x(t), \\forall t\n",
        "$$"
      ]
    },
    {
      "cell_type": "markdown",
      "source": [
        "---\n",
        "# Ciclos límite\n",
        "\n",
        "Definimos como ciclo límite a una órbita periódica aislada.\n",
        "\n",
        "<center>\n",
        "<img src=\"https://lh4.googleusercontent.com/proxy/6-fL6oliiEmpNnrSdFa-LeWroIvfU2Krb1kBFhLJSIWSHyzxEREfd3vSlRl8dMmoPoVuARg0gq_Q3vvdKM8ZbYuj863JixheDuYMtzdJEg\" width=\"500\"/>\n",
        "</center>\n",
        "\n"
      ],
      "metadata": {
        "id": "WcblMy_Fp1zJ"
      },
      "id": "WcblMy_Fp1zJ"
    },
    {
      "cell_type": "code",
      "source": [
        "import numpy as np\n",
        "import matplotlib.pyplot as plt\n",
        "import scipy as sp"
      ],
      "metadata": {
        "id": "Wr-DaoRHU-s3"
      },
      "id": "Wr-DaoRHU-s3",
      "execution_count": null,
      "outputs": []
    },
    {
      "cell_type": "markdown",
      "id": "92b3e045",
      "metadata": {
        "id": "92b3e045"
      },
      "source": [
        "---\n",
        "## Ejercicio 1\n",
        "\n",
        "Sea el sistema descrito por el siguiente conjunto de ecuaciones\n",
        "\n",
        "$$\n",
        "\\dot{x} = y\\\\\n",
        "\\dot{y} = -x\n",
        "$$\n",
        "\n",
        "Encuentre la solución para condiciones iniciales [1, 0]. Es periódica? Si así lo pareciera, busque el período de la solución. Para esto se propone encontrar los picos de la señal con `scipy.signal.find_peaks`, encontrar la distancia entre esos picos con `numpy.diff`, y ver si la solución muestra una periodicidad definida. Puedo decir que se trata de un ciclo límite? Justifique usando las herramientas vistas.\n",
        "\n"
      ]
    },
    {
      "cell_type": "code",
      "execution_count": null,
      "id": "0JjaYnvqjV-R",
      "metadata": {
        "id": "0JjaYnvqjV-R"
      },
      "outputs": [],
      "source": [
        "# # # COMPLETAR"
      ]
    },
    {
      "cell_type": "markdown",
      "source": [
        "---\n",
        "## Ejercicio 2\n",
        "\n",
        "Sea el sistema descrito por el siguiente conjunto de ecuaciones\n",
        "\n",
        "$$\n",
        "\\dot{x} = y(1+\\epsilon x)\\\\\n",
        "\\dot{y} = -x(1+\\epsilon x)\n",
        "$$\n",
        "\n",
        "2.1. Para alguna condición inicial particular, integre las ecuaciones.\n",
        "\n",
        "2.2. Estime el período.\n",
        "\n",
        "2.3. Ahora vuelva a integrar definiendo como tiempo de integración un único período completo. Considere usar un paso grande, para tener un muestreo bastante discreto de las soluciones y grafique los puntos de la solución en lugar de líneas sólidas. Compare con las soluciones del ejercicio anterior. Qué encuentra de diferente?\n",
        "\n",
        "2.4. Transforme las soluciones encontradas a coordenadas polares usando:\n",
        "\n",
        "$$\n",
        "\\rho = \\sqrt{x^2+y^2}\\\\\n",
        "\\phi = arctan \\left(\\frac{y}{x} \\right)\n",
        "$$\n",
        "\n",
        "Qué puede decir del problema y de su comparación con el ejercicio anterior desde esta perspectiva?\n"
      ],
      "metadata": {
        "id": "6WsgiUjlWhL4"
      },
      "id": "6WsgiUjlWhL4"
    },
    {
      "cell_type": "code",
      "source": [
        "# # # COMPLETAR"
      ],
      "metadata": {
        "id": "g8FzRk1nWiBA"
      },
      "id": "g8FzRk1nWiBA",
      "execution_count": null,
      "outputs": []
    },
    {
      "cell_type": "markdown",
      "metadata": {
        "id": "gW3qV2lUaqnf"
      },
      "source": [
        "---\n",
        "## Ejercicio 3\n",
        "\n",
        "La ecuación del [oscilador de Van der Pol](https://en.wikipedia.org/wiki/Van_der_Pol_oscillator) está dada por\n",
        "\n",
        "$$\n",
        "\\ddot{x} - \\mu(1 - x^2)\\dot{x} + x = 0\n",
        "$$\n",
        "\n",
        "3.1. Escriba una función llamada `van_der_pol` para esta ecuación expresada como un sistema dinámico.\n",
        "\n",
        "3.2. Integre con `solve_ivp` para $\\mu=2$ con condiciones iniciales $x=1$ y $\\dot{x}=0$, dandole suficiente tiempo a la solución según considere.\n",
        "\n",
        "3.3. Grafique el diagrama de fases ($x$, $\\dot{x}$) de la solución con puntos en lugar de con líneas sólidas (incluya el punto de la condición inicial de manera distintiva). Qué puede observar en referencia a la distancia entre puntos? A qué se lo atribuye?\n"
      ],
      "id": "gW3qV2lUaqnf"
    },
    {
      "cell_type": "code",
      "source": [
        "# # # COMPLETAR"
      ],
      "metadata": {
        "id": "soBt-OVe-Fxz"
      },
      "execution_count": null,
      "outputs": [],
      "id": "soBt-OVe-Fxz"
    },
    {
      "cell_type": "markdown",
      "metadata": {
        "id": "ObsCYA7cpsPH"
      },
      "source": [
        "---\n",
        "## Ejercicio 4\n",
        "\n",
        "Sea el siguiente sistema visto en clase\n",
        "\n",
        "$$\n",
        "\\dot{\\rho} = \\rho(1-\\rho)\\\\\n",
        "\\dot{\\phi} = \\omega + sin(\\phi)\n",
        "$$\n",
        "\n",
        "4.1. Integre el sistema para w=1 usando distintas condiciones iniciales con $\\rho$ entre 0 y 2, y $\\phi_{inicial}=0$. Vea la evolución temporal de $\\rho$.\n",
        "\n",
        "4.2. Integre el sistema para w igual a -1, 0, y 1 usando como condiciones iniciales $\\rho_{inicial}=1$ y $\\phi_{inicial}=0$. Vea la evolución temporal de $\\phi$. Cómo interpreta lo que está pasando?\n",
        "\n",
        "4.3. Integre el sistema para w=1, usando como condiciones iniciales $\\rho_{inicial}=1$ y $\\phi_{inicial}=0$. Haga la transformación a coordenadas cartesianas usando las expresiones\n",
        "\n",
        "$$\n",
        "x = \\rho.cos(\\phi)\\\\\n",
        "y = \\rho.sin(\\phi)\n",
        "$$\n",
        "\n",
        "Grafique en el diagrama de fases ($x$, $y$), pero usando puntos en lugar de una línea sólida. Qué observa? Estudie el flujo del campo vector para entender mejor lo que está pasando.\n",
        "\n",
        "Para eso, genere una grilla en ($x$,$y$). Transformela a coordenadas polares usando la expresión\n",
        "\n",
        "$$\n",
        "\\rho = \\sqrt{x^2+y^2}\\\\\n",
        "\\phi = arctan \\left(\\frac{y}{x} \\right)\n",
        "$$\n",
        "\n",
        "Calcule los valores del campo vector sin integrar en coordenadas polares y transforme esas velocidades a coordenadas cartesianas\n",
        "\n",
        "$$\n",
        "\\dot{x} = \\dot{\\rho} \\cos(\\phi) - \\rho \\dot{\\phi} \\sin(\\phi)\\\\\n",
        "\\dot{y} = \\dot{\\rho} \\sin(\\phi) + \\rho \\dot{\\phi} \\cos(\\phi)\n",
        "$$\n",
        "\n",
        "Grafique usando `quiver`.\n"
      ],
      "id": "ObsCYA7cpsPH"
    },
    {
      "cell_type": "code",
      "execution_count": null,
      "metadata": {
        "id": "ImQienH7t8q9"
      },
      "outputs": [],
      "source": [
        "# # # COMPLETAR"
      ],
      "id": "ImQienH7t8q9"
    },
    {
      "cell_type": "markdown",
      "source": [
        "---\n",
        "## Ejercicio 5\n",
        "\n",
        "Sea el sistema para la bifurcación de Hopf\n",
        "\n",
        "$$\n",
        "\\dot{x} = \\mu x + y\\\\\n",
        "\\dot{y} = -x + \\mu y - x^2 y\n",
        "$$\n",
        "\n",
        "5.1. Integre el sistema con `solve_ivp` hasta un tiempo de 10, con paso temporal $dt=0.1$, condiciones iniciales $x=0$ y $y=0$, para para valores de $\\mu=[-1, -0.5, 0, 0.5, 1]$. Calcule el radio como $r=\\sqrt{x^2+y^2}$ y muestre las soluciones de $r$ para los distintos $\\mu$ en un mismo gráfico. Qué muestran las observaciones sobre la evolución temporal en este punto?\n",
        "\n",
        "5.2. Pruebe ahora de hacer lo mismo pero con condiciones iniciales $x=0.1$ y $y=0.1$ (puede demorar un minuto). Qué observa en relación al item anterior?\n",
        "\n",
        "5.3. Estudie la bifurcación de este sistema. Cómo son las oscilaciones que se \"prenden\"?\n"
      ],
      "metadata": {
        "id": "mp8g_LUPf898"
      },
      "id": "mp8g_LUPf898"
    },
    {
      "cell_type": "code",
      "source": [
        "# # # COMPLETAR"
      ],
      "metadata": {
        "id": "Gfi_57OVgFeN"
      },
      "execution_count": null,
      "outputs": [],
      "id": "Gfi_57OVgFeN"
    }
  ],
  "metadata": {
    "colab": {
      "provenance": [],
      "include_colab_link": true
    },
    "kernelspec": {
      "display_name": "Python 3 (ipykernel)",
      "language": "python",
      "name": "python3"
    },
    "language_info": {
      "codemirror_mode": {
        "name": "ipython",
        "version": 3
      },
      "file_extension": ".py",
      "mimetype": "text/x-python",
      "name": "python",
      "nbconvert_exporter": "python",
      "pygments_lexer": "ipython3",
      "version": "3.10.9"
    }
  },
  "nbformat": 4,
  "nbformat_minor": 5
}