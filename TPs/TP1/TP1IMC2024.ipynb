{
  "nbformat": 4,
  "nbformat_minor": 0,
  "metadata": {
    "colab": {
      "provenance": [],
      "toc_visible": true,
      "authorship_tag": "ABX9TyMIUEpQEgO6oWi7Uo+II8uH",
      "include_colab_link": true
    },
    "kernelspec": {
      "name": "python3",
      "display_name": "Python 3"
    },
    "language_info": {
      "name": "python"
    }
  },
  "cells": [
    {
      "cell_type": "markdown",
      "metadata": {
        "id": "view-in-github",
        "colab_type": "text"
      },
      "source": [
        "<a href=\"https://colab.research.google.com/github/HBocaccio/NumLabIMC/blob/main/TPs/TP1/TP1IMC2024.ipynb\" target=\"_parent\"><img src=\"https://colab.research.google.com/assets/colab-badge.svg\" alt=\"Open In Colab\"/></a>"
      ]
    },
    {
      "cell_type": "markdown",
      "source": [
        "**Introducción al modelado continuo** (*a.k.a.* **Ecuaciones de la física matemática**) - 2do Cuatrimestre 2024\n",
        "# **Trabajo Práctico 1**\n",
        "\n",
        "Este es el trabajo práctico del 1er eje temático. Se trata de un conjunto de ejercicios que deben resolver numéricamente y entregar para el **martes 22 de octubre, inclusive**. El trabajo se puede hacer en **grupos de hasta 3 personas**. Deben desarrollar los ejercicios en una **notebook** de Python en Google Colab. Deben **compartir el link del archivo final** (previamente dando permisos para compartir como lector), alojado en el Google Drive de alguno de los integrantes del grupo, y mandar el link del archivo al mail *hbocaccio@gmail.com*. Deben **enviar un único mail por grupo**. El nombre del archivo debe incluir los apellidos de los integrantes del grupo separados con guión bajo, resultando el siguiente **formato “TP1IMC2024_APELLIDO1_APELLIDO2_APELLIDO3.ipynb”**.\n",
        "\n",
        "El contenido del archivo debe incluir las celdas de código necesarias para responder las consignas, intercalando con celdas de texto en las que cuenten lo que hicieron de manera resumida. También deben incluir texto explicando los resultados obtenidos y cómo estos responden a las consignas planteadas. Se valorará cualquier tipo de discusión de los resultados en referencia a conceptos tanto de la parte numérica como de la parte dinámica. No es necesario que se extiendan mucho en las explicaciones, pero sí que muestren conocimientos adquiridos a lo largo de la cursada en referencia a los contenidos fundamentales de la materia.\n"
      ],
      "metadata": {
        "id": "Gf0qKsgvYkux"
      }
    },
    {
      "cell_type": "markdown",
      "source": [
        "---\n",
        "# Ejercicio 1\n",
        "\n",
        "Sea el siguiente sistema dinámico unidimensional\n",
        "\n",
        "$$\n",
        "\\dot{x} = -x + S(\\rho+cx)\n",
        "$$\n",
        "\n",
        "con\n",
        "\n",
        "$$\n",
        "S(\\rho+cx)=\\frac{1}{1+e^{-(\\rho+cx)}}\n",
        "$$\n",
        "\n",
        "donde la función $S(\\rho+cx)$ es la función sigmoidea con la entrada parametrizada en base a los parámetros $\\rho$ y $c$.\n",
        "\n",
        "1.1. Defina una función de Python que refleje los valores de la función sigmoidea en base a un valor de x, incluyendo la posibilidad de definir los parámetros como argumento de entrada. Considere por default los valores de parámetros para que el resultado sea la función $S(x)$.\n",
        "\n",
        "1.2. Estudie gráficamente la incidencia de los parámetros $\\rho$ y $c$ en la forma funcional de la sigmoidea. Qué efecto tiene cada parámetro?\n",
        "\n",
        "1.3. Estudie gráficamente la posibilidad de existencia de puntos fijos del sistema para c=10.\n",
        "\n",
        "1.4. Usando las herramientas numéricas, busque los puntos fijos del sistema para c=10 y distintos valores de $\\rho$ elegidos criteriosamente en base al ejercicio anterior. Recuerde aplicar alguna estrategia para limpiar artefactos en las raíces encontradas si los hubiese, como por ejemplo, pedir que el campo vector evaluado en la raíz sea menor a una cierta cota tolerada. Analice su estabilidad a partir de la derivada numérica. Haga un diagrama de bifurcaciones para los valores de $\\rho$ elegidos. Qué tipo de bifurcaciones encuentra?\n",
        "\n",
        "1.5. Para c=10, elija 3 valores de $\\rho$ que definan comportamientos del sistema cualitativamente distintos. Para cada uno de estos valores de $\\rho$, estudie las soluciones del sistema, obtenidas de integrar con el método de Euler, para distintos valores iniciales. Cómo interpreta las trayectorias encontradas y cómo las relaciona con los resultados previos?\n"
      ],
      "metadata": {
        "id": "uPtNss1nYkrH"
      }
    },
    {
      "cell_type": "markdown",
      "source": [
        "---\n",
        "# Ejercicio 2\n",
        "\n",
        "Sea el siguiente sistema 2D\n",
        "\n",
        "$$\n",
        "\\dot{x} = - x - x^{2} - y \\\\\n",
        "\\dot{y} = x - y\n",
        "$$\n",
        "\n",
        "2.1. Defina el sistema con una función de Python.\n",
        "\n",
        "2.2. Busque puntos fijos a partir del estudio gráfico de las nulclinas. Para el gráfico de las nulclinas use `plt.contour` para levels=[0].\n",
        "\n",
        "2.3. Busque numéricamente los puntos fijos con `fsolve` de Scipy.\n",
        "\n",
        "2.4. Defina una función de Python genérica que tenga la matriz Jacobiana en función de valores de \"x\" e \"y\". Evalúe la matriz en los puntos fijos y estudie su estabilidad. Qué tipo de puntos fijos son?\n",
        "\n",
        "2.5. Grafique el campo vector usando `plt.streamplots`. Interprete las líneas de campo obtenidas en referencia al item anterior.\n",
        "\n",
        "2.6. Encuentre trayectorias en el espacio de fases que describan comportamientos del sistema. Para esto resuelva el sistema, usando `solve_ivp`. Use pasos largos, tiempos de integración muy cortos. Elija estos valores y las condiciones iniciales criteriosamente, de manera tal de reforzar los resultados previos, mostrando qué tipos de elementos dinámicos presenta el sistema en base a sus observaciones."
      ],
      "metadata": {
        "id": "OALDNH9pgEAU"
      }
    },
    {
      "cell_type": "markdown",
      "source": [
        "---\n",
        "# Ejercicio 3\n",
        "\n",
        "**Modelo SIR**\n",
        "\n",
        "Para modelar la evolución de una infección en una población se la puede dividir en tres grupos: los *susceptibles* de contraer la enfermedad ($S$), los *infectados* ($I$) y los *recuperados* ($R$). La relación entre el número de personas en cada grupo está definida por el siguiente sistema de ODEs:\n",
        "\n",
        "$$\n",
        "\\frac{dS}{dt} = -\\beta \\frac{S\\,I}{N}\\\\\n",
        "\\frac{dI}{dt} = \\beta \\frac{S\\,I}{N} - \\gamma\\, I\\\\\n",
        "\\frac{dR}{dt} = \\gamma\\, I\n",
        "$$\n",
        "\n",
        "con $\\beta$ y $\\gamma$ las tasas de infección y recuperación respectivamente y $N$ la población total.\n",
        "\n",
        "3.1. Considerar que la población de $N = 10000$ habitantes e inicialmente todas las personas son susceptibles. Supondremos una tasa de transmisión $\\beta=0.2$ y un tiempo medio de recuperación de 10 días (es decir, una tasa $\\gamma$ de 1/10). Si inicialmente hay una única persona enferma, discutir de qué forma deberían evolucionar las poblaciones de cada grupo. [Hint: considere que todas las personas que no están enfermas son susceptibles].\n",
        "\n",
        "3.2. Asumiendo que no se producen fallecimientos, verificar que la población de la ciudad se mantiene constante a lo largo de la simulación.\n",
        "\n",
        "3.3. Determinar el tiempo a partir del cual, sin acciones externas, la cantidad de infecciones llega a su máximo y comienza a descender (calcular, no hacer a ojo). Mostrar cuál sería ese momento en la curva de I(t).\n",
        "\n",
        "---"
      ],
      "metadata": {
        "id": "4GEM-2z4fvTc"
      }
    }
  ]
}